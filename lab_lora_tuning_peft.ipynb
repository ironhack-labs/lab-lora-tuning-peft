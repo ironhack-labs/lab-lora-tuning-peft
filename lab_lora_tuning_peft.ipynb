{
  "cells": [
    {
      "cell_type": "markdown",
      "metadata": {
        "id": "j9Y40X0WCY_H"
      },
      "source": [
        "# Lab | Introduction to LoRA Tuning using PEFT from Hugging Face\n",
        "<!-- ### Fine-tune a Foundational Model effortlessly -->\n",
        "\n",
        "**Note:** This is more or less the same notebook you saw in the previous lesson, but that is ok. This is an LLM fine-tuning lab. In class we used a set of datasets and models, and in the labs you are required to change the LLMs models and the datasets including the pre-processing pipelines.\n"
      ]
    },
    {
      "cell_type": "markdown",
      "metadata": {
        "id": "bCinY2l-upqy"
      },
      "source": [
        "# LoRA Tuning\n",
        "\n",
        "In this notebook you are being introduced to how to apply LoRA Tuning with the PEFT library to a pre-trained model.\n",
        "\n",
        "For a complete list of Models compatible with PEFT refer to their [documentation](https://huggingface.co/docs/peft/main/en/index#supported-methods).\n",
        "\n",
        "A short sample of models families available to be trained with PEFT are: Bloom, Llama, GPT-J, GPT-2, BERT... and more. Hugging Face is working hard to bring more Models to the Library.\n",
        "\n",
        "## Brief introduction to LoRA Tuning.\n",
        "LoRA is a re-parameterization technique. Its operation is simple, complex, and brilliant at the same time. It involves reducing the size of the matrices to be trained by dividing them in such a way that when multiplied, they yield the original matrix.\n",
        "\n",
        "The weights that are modified are those of the reduced matrices, not the original matrix. It's better visualized in an image."
      ]
    },
    {
      "cell_type": "markdown",
      "metadata": {
        "id": "cp_7rR4Nx7My"
      },
      "source": [
        "![Matrices_LoRA.webp](data:image/webp;base64,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)"
      ]
    },
    {
      "cell_type": "markdown",
      "metadata": {
        "id": "0oSLJkXty-t_"
      },
      "source": [
        "We have an original matrix of 50x50, which means we would have to modify about 2500 parameters. However, as we know, if we multiply two matrices of (2x50) and (50x2), we obtain a 50x50 matrix. Yet, these two matrices are formed by only 100 parameters each. In other words, for the reduced matrices, we need to modify a total of 200 parameters compared to the 2500 of the original matrix. This represents a 92% reduction, and the larger the original matrix, the greater the percentage of savings.\n",
        "\n",
        "In Language Models like GPT-3 or any of the current ones with LoRA, it's possible that we only need to train about 0.02% of the original parameters. This varies for each model. The best part is that the obtained result is very similar to that of full fine-tuning, in some cases, it can even be better."
      ]
    },
    {
      "cell_type": "markdown",
      "metadata": {
        "id": "620MdVMk7iUS"
      },
      "source": [
        "# Load the PEFT and Datasets Libraries.\n",
        "\n",
        "The PEFT library contains the Hugging Face implementation of differente fine-tuning techniques, like LoRA Tuning.\n",
        "\n",
        "Using the Datasets library we have acces to a huge amount of Datasets."
      ]
    },
    {
      "cell_type": "code",
      "execution_count": 2,
      "metadata": {
        "id": "_UyyuMGnCPjA",
        "tags": [],
        "colab": {
          "base_uri": "https://localhost:8080/",
          "height": 1000
        },
        "outputId": "a297adfb-d736-4405-84b2-14d3728f80a2"
      },
      "outputs": [
        {
          "output_type": "stream",
          "name": "stdout",
          "text": [
            "\u001b[2K   \u001b[90m━━━━━━━━━━━━━━━━━━━━━━━━━━━━━━━━━━━━━━━━\u001b[0m \u001b[32m183.4/183.4 kB\u001b[0m \u001b[31m5.7 MB/s\u001b[0m eta \u001b[36m0:00:00\u001b[0m\n",
            "\u001b[2K   \u001b[90m━━━━━━━━━━━━━━━━━━━━━━━━━━━━━━━━━━━━━━━━\u001b[0m \u001b[32m363.4/363.4 MB\u001b[0m \u001b[31m5.1 MB/s\u001b[0m eta \u001b[36m0:00:00\u001b[0m\n",
            "\u001b[2K   \u001b[90m━━━━━━━━━━━━━━━━━━━━━━━━━━━━━━━━━━━━━━━━\u001b[0m \u001b[32m13.8/13.8 MB\u001b[0m \u001b[31m80.3 MB/s\u001b[0m eta \u001b[36m0:00:00\u001b[0m\n",
            "\u001b[2K   \u001b[90m━━━━━━━━━━━━━━━━━━━━━━━━━━━━━━━━━━━━━━━━\u001b[0m \u001b[32m24.6/24.6 MB\u001b[0m \u001b[31m71.2 MB/s\u001b[0m eta \u001b[36m0:00:00\u001b[0m\n",
            "\u001b[2K   \u001b[90m━━━━━━━━━━━━━━━━━━━━━━━━━━━━━━━━━━━━━━━━\u001b[0m \u001b[32m883.7/883.7 kB\u001b[0m \u001b[31m50.5 MB/s\u001b[0m eta \u001b[36m0:00:00\u001b[0m\n",
            "\u001b[2K   \u001b[90m━━━━━━━━━━━━━━━━━━━━━━━━━━━━━━━━━━━━━━━━\u001b[0m \u001b[32m664.8/664.8 MB\u001b[0m \u001b[31m2.3 MB/s\u001b[0m eta \u001b[36m0:00:00\u001b[0m\n",
            "\u001b[2K   \u001b[90m━━━━━━━━━━━━━━━━━━━━━━━━━━━━━━━━━━━━━━━━\u001b[0m \u001b[32m211.5/211.5 MB\u001b[0m \u001b[31m11.3 MB/s\u001b[0m eta \u001b[36m0:00:00\u001b[0m\n",
            "\u001b[2K   \u001b[90m━━━━━━━━━━━━━━━━━━━━━━━━━━━━━━━━━━━━━━━━\u001b[0m \u001b[32m56.3/56.3 MB\u001b[0m \u001b[31m36.1 MB/s\u001b[0m eta \u001b[36m0:00:00\u001b[0m\n",
            "\u001b[2K   \u001b[90m━━━━━━━━━━━━━━━━━━━━━━━━━━━━━━━━━━━━━━━━\u001b[0m \u001b[32m127.9/127.9 MB\u001b[0m \u001b[31m18.5 MB/s\u001b[0m eta \u001b[36m0:00:00\u001b[0m\n",
            "\u001b[2K   \u001b[90m━━━━━━━━━━━━━━━━━━━━━━━━━━━━━━━━━━━━━━━━\u001b[0m \u001b[32m207.5/207.5 MB\u001b[0m \u001b[31m5.9 MB/s\u001b[0m eta \u001b[36m0:00:00\u001b[0m\n",
            "\u001b[2K   \u001b[90m━━━━━━━━━━━━━━━━━━━━━━━━━━━━━━━━━━━━━━━━\u001b[0m \u001b[32m21.1/21.1 MB\u001b[0m \u001b[31m78.9 MB/s\u001b[0m eta \u001b[36m0:00:00\u001b[0m\n",
            "\u001b[2K   \u001b[90m━━━━━━━━━━━━━━━━━━━━━━━━━━━━━━━━━━━━━━━━\u001b[0m \u001b[32m507.1/507.1 kB\u001b[0m \u001b[31m11.4 MB/s\u001b[0m eta \u001b[36m0:00:00\u001b[0m\n",
            "\u001b[2K   \u001b[90m━━━━━━━━━━━━━━━━━━━━━━━━━━━━━━━━━━━━━━━━\u001b[0m \u001b[32m166.4/166.4 kB\u001b[0m \u001b[31m15.4 MB/s\u001b[0m eta \u001b[36m0:00:00\u001b[0m\n",
            "\u001b[?25h\u001b[31mERROR: pip's dependency resolver does not currently take into account all the packages that are installed. This behaviour is the source of the following dependency conflicts.\n",
            "gcsfs 2025.3.2 requires fsspec==2025.3.2, but you have fsspec 2023.10.0 which is incompatible.\u001b[0m\u001b[31m\n",
            "\u001b[0mCollecting ipywidgets==7.7.5\n",
            "  Downloading ipywidgets-7.7.5-py2.py3-none-any.whl.metadata (1.9 kB)\n",
            "Requirement already satisfied: ipykernel>=4.5.1 in /usr/local/lib/python3.11/dist-packages (from ipywidgets==7.7.5) (6.17.1)\n",
            "Requirement already satisfied: ipython-genutils~=0.2.0 in /usr/local/lib/python3.11/dist-packages (from ipywidgets==7.7.5) (0.2.0)\n",
            "Requirement already satisfied: traitlets>=4.3.1 in /usr/local/lib/python3.11/dist-packages (from ipywidgets==7.7.5) (5.7.1)\n",
            "Requirement already satisfied: widgetsnbextension~=3.6.4 in /usr/local/lib/python3.11/dist-packages (from ipywidgets==7.7.5) (3.6.10)\n",
            "Requirement already satisfied: ipython>=4.0.0 in /usr/local/lib/python3.11/dist-packages (from ipywidgets==7.7.5) (7.34.0)\n",
            "Collecting jupyterlab-widgets<3,>=1.0.0 (from ipywidgets==7.7.5)\n",
            "  Downloading jupyterlab_widgets-1.1.11-py3-none-any.whl.metadata (3.7 kB)\n",
            "Requirement already satisfied: debugpy>=1.0 in /usr/local/lib/python3.11/dist-packages (from ipykernel>=4.5.1->ipywidgets==7.7.5) (1.8.0)\n",
            "Requirement already satisfied: jupyter-client>=6.1.12 in /usr/local/lib/python3.11/dist-packages (from ipykernel>=4.5.1->ipywidgets==7.7.5) (6.1.12)\n",
            "Requirement already satisfied: matplotlib-inline>=0.1 in /usr/local/lib/python3.11/dist-packages (from ipykernel>=4.5.1->ipywidgets==7.7.5) (0.1.7)\n",
            "Requirement already satisfied: nest-asyncio in /usr/local/lib/python3.11/dist-packages (from ipykernel>=4.5.1->ipywidgets==7.7.5) (1.6.0)\n",
            "Requirement already satisfied: packaging in /usr/local/lib/python3.11/dist-packages (from ipykernel>=4.5.1->ipywidgets==7.7.5) (24.2)\n",
            "Requirement already satisfied: psutil in /usr/local/lib/python3.11/dist-packages (from ipykernel>=4.5.1->ipywidgets==7.7.5) (5.9.5)\n",
            "Requirement already satisfied: pyzmq>=17 in /usr/local/lib/python3.11/dist-packages (from ipykernel>=4.5.1->ipywidgets==7.7.5) (24.0.1)\n",
            "Requirement already satisfied: tornado>=6.1 in /usr/local/lib/python3.11/dist-packages (from ipykernel>=4.5.1->ipywidgets==7.7.5) (6.4.2)\n",
            "Requirement already satisfied: setuptools>=18.5 in /usr/local/lib/python3.11/dist-packages (from ipython>=4.0.0->ipywidgets==7.7.5) (75.2.0)\n",
            "Collecting jedi>=0.16 (from ipython>=4.0.0->ipywidgets==7.7.5)\n",
            "  Downloading jedi-0.19.2-py2.py3-none-any.whl.metadata (22 kB)\n",
            "Requirement already satisfied: decorator in /usr/local/lib/python3.11/dist-packages (from ipython>=4.0.0->ipywidgets==7.7.5) (4.4.2)\n",
            "Requirement already satisfied: pickleshare in /usr/local/lib/python3.11/dist-packages (from ipython>=4.0.0->ipywidgets==7.7.5) (0.7.5)\n",
            "Requirement already satisfied: prompt-toolkit!=3.0.0,!=3.0.1,<3.1.0,>=2.0.0 in /usr/local/lib/python3.11/dist-packages (from ipython>=4.0.0->ipywidgets==7.7.5) (3.0.51)\n",
            "Requirement already satisfied: pygments in /usr/local/lib/python3.11/dist-packages (from ipython>=4.0.0->ipywidgets==7.7.5) (2.19.1)\n",
            "Requirement already satisfied: backcall in /usr/local/lib/python3.11/dist-packages (from ipython>=4.0.0->ipywidgets==7.7.5) (0.2.0)\n",
            "Requirement already satisfied: pexpect>4.3 in /usr/local/lib/python3.11/dist-packages (from ipython>=4.0.0->ipywidgets==7.7.5) (4.9.0)\n",
            "Requirement already satisfied: notebook>=4.4.1 in /usr/local/lib/python3.11/dist-packages (from widgetsnbextension~=3.6.4->ipywidgets==7.7.5) (6.5.7)\n",
            "Requirement already satisfied: parso<0.9.0,>=0.8.4 in /usr/local/lib/python3.11/dist-packages (from jedi>=0.16->ipython>=4.0.0->ipywidgets==7.7.5) (0.8.4)\n",
            "Requirement already satisfied: jupyter-core>=4.6.0 in /usr/local/lib/python3.11/dist-packages (from jupyter-client>=6.1.12->ipykernel>=4.5.1->ipywidgets==7.7.5) (5.8.1)\n",
            "Requirement already satisfied: python-dateutil>=2.1 in /usr/local/lib/python3.11/dist-packages (from jupyter-client>=6.1.12->ipykernel>=4.5.1->ipywidgets==7.7.5) (2.9.0.post0)\n",
            "Requirement already satisfied: jinja2 in /usr/local/lib/python3.11/dist-packages (from notebook>=4.4.1->widgetsnbextension~=3.6.4->ipywidgets==7.7.5) (3.1.6)\n",
            "Requirement already satisfied: argon2-cffi in /usr/local/lib/python3.11/dist-packages (from notebook>=4.4.1->widgetsnbextension~=3.6.4->ipywidgets==7.7.5) (23.1.0)\n",
            "Requirement already satisfied: nbformat in /usr/local/lib/python3.11/dist-packages (from notebook>=4.4.1->widgetsnbextension~=3.6.4->ipywidgets==7.7.5) (5.10.4)\n",
            "Requirement already satisfied: nbconvert>=5 in /usr/local/lib/python3.11/dist-packages (from notebook>=4.4.1->widgetsnbextension~=3.6.4->ipywidgets==7.7.5) (7.16.6)\n",
            "Requirement already satisfied: Send2Trash>=1.8.0 in /usr/local/lib/python3.11/dist-packages (from notebook>=4.4.1->widgetsnbextension~=3.6.4->ipywidgets==7.7.5) (1.8.3)\n",
            "Requirement already satisfied: terminado>=0.8.3 in /usr/local/lib/python3.11/dist-packages (from notebook>=4.4.1->widgetsnbextension~=3.6.4->ipywidgets==7.7.5) (0.18.1)\n",
            "Requirement already satisfied: prometheus-client in /usr/local/lib/python3.11/dist-packages (from notebook>=4.4.1->widgetsnbextension~=3.6.4->ipywidgets==7.7.5) (0.22.0)\n",
            "Requirement already satisfied: nbclassic>=0.4.7 in /usr/local/lib/python3.11/dist-packages (from notebook>=4.4.1->widgetsnbextension~=3.6.4->ipywidgets==7.7.5) (1.3.1)\n",
            "Requirement already satisfied: ptyprocess>=0.5 in /usr/local/lib/python3.11/dist-packages (from pexpect>4.3->ipython>=4.0.0->ipywidgets==7.7.5) (0.7.0)\n",
            "Requirement already satisfied: wcwidth in /usr/local/lib/python3.11/dist-packages (from prompt-toolkit!=3.0.0,!=3.0.1,<3.1.0,>=2.0.0->ipython>=4.0.0->ipywidgets==7.7.5) (0.2.13)\n",
            "Requirement already satisfied: platformdirs>=2.5 in /usr/local/lib/python3.11/dist-packages (from jupyter-core>=4.6.0->jupyter-client>=6.1.12->ipykernel>=4.5.1->ipywidgets==7.7.5) (4.3.8)\n",
            "Requirement already satisfied: notebook-shim>=0.2.3 in /usr/local/lib/python3.11/dist-packages (from nbclassic>=0.4.7->notebook>=4.4.1->widgetsnbextension~=3.6.4->ipywidgets==7.7.5) (0.2.4)\n",
            "Requirement already satisfied: beautifulsoup4 in /usr/local/lib/python3.11/dist-packages (from nbconvert>=5->notebook>=4.4.1->widgetsnbextension~=3.6.4->ipywidgets==7.7.5) (4.13.4)\n",
            "Requirement already satisfied: bleach!=5.0.0 in /usr/local/lib/python3.11/dist-packages (from bleach[css]!=5.0.0->nbconvert>=5->notebook>=4.4.1->widgetsnbextension~=3.6.4->ipywidgets==7.7.5) (6.2.0)\n",
            "Requirement already satisfied: defusedxml in /usr/local/lib/python3.11/dist-packages (from nbconvert>=5->notebook>=4.4.1->widgetsnbextension~=3.6.4->ipywidgets==7.7.5) (0.7.1)\n",
            "Requirement already satisfied: jupyterlab-pygments in /usr/local/lib/python3.11/dist-packages (from nbconvert>=5->notebook>=4.4.1->widgetsnbextension~=3.6.4->ipywidgets==7.7.5) (0.3.0)\n",
            "Requirement already satisfied: markupsafe>=2.0 in /usr/local/lib/python3.11/dist-packages (from nbconvert>=5->notebook>=4.4.1->widgetsnbextension~=3.6.4->ipywidgets==7.7.5) (3.0.2)\n",
            "Requirement already satisfied: mistune<4,>=2.0.3 in /usr/local/lib/python3.11/dist-packages (from nbconvert>=5->notebook>=4.4.1->widgetsnbextension~=3.6.4->ipywidgets==7.7.5) (3.1.3)\n",
            "Requirement already satisfied: nbclient>=0.5.0 in /usr/local/lib/python3.11/dist-packages (from nbconvert>=5->notebook>=4.4.1->widgetsnbextension~=3.6.4->ipywidgets==7.7.5) (0.10.2)\n",
            "Requirement already satisfied: pandocfilters>=1.4.1 in /usr/local/lib/python3.11/dist-packages (from nbconvert>=5->notebook>=4.4.1->widgetsnbextension~=3.6.4->ipywidgets==7.7.5) (1.5.1)\n",
            "Requirement already satisfied: fastjsonschema>=2.15 in /usr/local/lib/python3.11/dist-packages (from nbformat->notebook>=4.4.1->widgetsnbextension~=3.6.4->ipywidgets==7.7.5) (2.21.1)\n",
            "Requirement already satisfied: jsonschema>=2.6 in /usr/local/lib/python3.11/dist-packages (from nbformat->notebook>=4.4.1->widgetsnbextension~=3.6.4->ipywidgets==7.7.5) (4.24.0)\n",
            "Requirement already satisfied: six>=1.5 in /usr/local/lib/python3.11/dist-packages (from python-dateutil>=2.1->jupyter-client>=6.1.12->ipykernel>=4.5.1->ipywidgets==7.7.5) (1.17.0)\n",
            "Requirement already satisfied: argon2-cffi-bindings in /usr/local/lib/python3.11/dist-packages (from argon2-cffi->notebook>=4.4.1->widgetsnbextension~=3.6.4->ipywidgets==7.7.5) (21.2.0)\n",
            "Requirement already satisfied: webencodings in /usr/local/lib/python3.11/dist-packages (from bleach!=5.0.0->bleach[css]!=5.0.0->nbconvert>=5->notebook>=4.4.1->widgetsnbextension~=3.6.4->ipywidgets==7.7.5) (0.5.1)\n",
            "Requirement already satisfied: tinycss2<1.5,>=1.1.0 in /usr/local/lib/python3.11/dist-packages (from bleach[css]!=5.0.0->nbconvert>=5->notebook>=4.4.1->widgetsnbextension~=3.6.4->ipywidgets==7.7.5) (1.4.0)\n",
            "Requirement already satisfied: attrs>=22.2.0 in /usr/local/lib/python3.11/dist-packages (from jsonschema>=2.6->nbformat->notebook>=4.4.1->widgetsnbextension~=3.6.4->ipywidgets==7.7.5) (25.3.0)\n",
            "Requirement already satisfied: jsonschema-specifications>=2023.03.6 in /usr/local/lib/python3.11/dist-packages (from jsonschema>=2.6->nbformat->notebook>=4.4.1->widgetsnbextension~=3.6.4->ipywidgets==7.7.5) (2025.4.1)\n",
            "Requirement already satisfied: referencing>=0.28.4 in /usr/local/lib/python3.11/dist-packages (from jsonschema>=2.6->nbformat->notebook>=4.4.1->widgetsnbextension~=3.6.4->ipywidgets==7.7.5) (0.36.2)\n",
            "Requirement already satisfied: rpds-py>=0.7.1 in /usr/local/lib/python3.11/dist-packages (from jsonschema>=2.6->nbformat->notebook>=4.4.1->widgetsnbextension~=3.6.4->ipywidgets==7.7.5) (0.25.1)\n",
            "Requirement already satisfied: jupyter-server<3,>=1.8 in /usr/local/lib/python3.11/dist-packages (from notebook-shim>=0.2.3->nbclassic>=0.4.7->notebook>=4.4.1->widgetsnbextension~=3.6.4->ipywidgets==7.7.5) (1.16.0)\n",
            "Requirement already satisfied: cffi>=1.0.1 in /usr/local/lib/python3.11/dist-packages (from argon2-cffi-bindings->argon2-cffi->notebook>=4.4.1->widgetsnbextension~=3.6.4->ipywidgets==7.7.5) (1.17.1)\n",
            "Requirement already satisfied: soupsieve>1.2 in /usr/local/lib/python3.11/dist-packages (from beautifulsoup4->nbconvert>=5->notebook>=4.4.1->widgetsnbextension~=3.6.4->ipywidgets==7.7.5) (2.7)\n",
            "Requirement already satisfied: typing-extensions>=4.0.0 in /usr/local/lib/python3.11/dist-packages (from beautifulsoup4->nbconvert>=5->notebook>=4.4.1->widgetsnbextension~=3.6.4->ipywidgets==7.7.5) (4.13.2)\n",
            "Requirement already satisfied: pycparser in /usr/local/lib/python3.11/dist-packages (from cffi>=1.0.1->argon2-cffi-bindings->argon2-cffi->notebook>=4.4.1->widgetsnbextension~=3.6.4->ipywidgets==7.7.5) (2.22)\n",
            "Requirement already satisfied: anyio>=3.1.0 in /usr/local/lib/python3.11/dist-packages (from jupyter-server<3,>=1.8->notebook-shim>=0.2.3->nbclassic>=0.4.7->notebook>=4.4.1->widgetsnbextension~=3.6.4->ipywidgets==7.7.5) (4.9.0)\n",
            "Requirement already satisfied: websocket-client in /usr/local/lib/python3.11/dist-packages (from jupyter-server<3,>=1.8->notebook-shim>=0.2.3->nbclassic>=0.4.7->notebook>=4.4.1->widgetsnbextension~=3.6.4->ipywidgets==7.7.5) (1.8.0)\n",
            "Requirement already satisfied: idna>=2.8 in /usr/local/lib/python3.11/dist-packages (from anyio>=3.1.0->jupyter-server<3,>=1.8->notebook-shim>=0.2.3->nbclassic>=0.4.7->notebook>=4.4.1->widgetsnbextension~=3.6.4->ipywidgets==7.7.5) (3.10)\n",
            "Requirement already satisfied: sniffio>=1.1 in /usr/local/lib/python3.11/dist-packages (from anyio>=3.1.0->jupyter-server<3,>=1.8->notebook-shim>=0.2.3->nbclassic>=0.4.7->notebook>=4.4.1->widgetsnbextension~=3.6.4->ipywidgets==7.7.5) (1.3.1)\n",
            "Downloading ipywidgets-7.7.5-py2.py3-none-any.whl (123 kB)\n",
            "\u001b[2K   \u001b[90m━━━━━━━━━━━━━━━━━━━━━━━━━━━━━━━━━━━━━━━━\u001b[0m \u001b[32m123.9/123.9 kB\u001b[0m \u001b[31m4.2 MB/s\u001b[0m eta \u001b[36m0:00:00\u001b[0m\n",
            "\u001b[?25hDownloading jupyterlab_widgets-1.1.11-py3-none-any.whl (246 kB)\n",
            "\u001b[2K   \u001b[90m━━━━━━━━━━━━━━━━━━━━━━━━━━━━━━━━━━━━━━━━\u001b[0m \u001b[32m246.9/246.9 kB\u001b[0m \u001b[31m12.4 MB/s\u001b[0m eta \u001b[36m0:00:00\u001b[0m\n",
            "\u001b[?25hDownloading jedi-0.19.2-py2.py3-none-any.whl (1.6 MB)\n",
            "\u001b[2K   \u001b[90m━━━━━━━━━━━━━━━━━━━━━━━━━━━━━━━━━━━━━━━━\u001b[0m \u001b[32m1.6/1.6 MB\u001b[0m \u001b[31m43.6 MB/s\u001b[0m eta \u001b[36m0:00:00\u001b[0m\n",
            "\u001b[?25hInstalling collected packages: jupyterlab-widgets, jedi, ipywidgets\n",
            "  Attempting uninstall: jupyterlab-widgets\n",
            "    Found existing installation: jupyterlab_widgets 3.0.15\n",
            "    Uninstalling jupyterlab_widgets-3.0.15:\n",
            "      Successfully uninstalled jupyterlab_widgets-3.0.15\n",
            "  Attempting uninstall: ipywidgets\n",
            "    Found existing installation: ipywidgets 7.7.1\n",
            "    Uninstalling ipywidgets-7.7.1:\n",
            "      Successfully uninstalled ipywidgets-7.7.1\n",
            "Successfully installed ipywidgets-7.7.5 jedi-0.19.2 jupyterlab-widgets-1.1.11\n"
          ]
        },
        {
          "output_type": "display_data",
          "data": {
            "application/vnd.colab-display-data+json": {
              "pip_warning": {
                "packages": [
                  "ipywidgets"
                ]
              },
              "id": "160c91eb54f340edb2d56e8bb1aa7870"
            }
          },
          "metadata": {}
        }
      ],
      "source": [
        "!pip install -q peft==0.8.2\n",
        "!pip install -q datasets==2.16.1\n",
        "!pip install ipywidgets==7.7.5"
      ]
    },
    {
      "cell_type": "markdown",
      "source": [
        "Checking the current Colab librairies version"
      ],
      "metadata": {
        "id": "6RWcTxTV-Bdt"
      }
    },
    {
      "cell_type": "code",
      "source": [
        "import importlib\n",
        "\n",
        "def check_version(lib_name):\n",
        "    try:\n",
        "        lib = importlib.import_module(lib_name)\n",
        "        version = getattr(lib, '__version__', '❓ Version not found')\n",
        "        print(f\"{lib_name}: ✅ Installed, version {version}\")\n",
        "    except ImportError:\n",
        "        print(f\"{lib_name}: ❌ Not installed\")\n",
        "\n",
        "check_version(\"peft\")\n",
        "check_version(\"datasets\")\n",
        "check_version(\"ipywidgets\")\n"
      ],
      "metadata": {
        "colab": {
          "base_uri": "https://localhost:8080/"
        },
        "id": "v-5G5cmv0yOK",
        "outputId": "7350c52b-03e6-40e4-9bec-3e8b9719059f"
      },
      "execution_count": 3,
      "outputs": [
        {
          "output_type": "stream",
          "name": "stdout",
          "text": [
            "peft: ✅ Installed, version 0.15.2\n",
            "datasets: ✅ Installed, version 2.14.4\n",
            "ipywidgets: ✅ Installed, version 7.7.1\n"
          ]
        }
      ]
    },
    {
      "cell_type": "code",
      "source": [
        "import importlib\n",
        "\n",
        "def check_version(lib_name):\n",
        "    try:\n",
        "        lib = importlib.import_module(lib_name)\n",
        "        version = getattr(lib, '__version__', '❓ Version not found')\n",
        "        print(f\"{lib_name}: ✅ Installed, version {version}\")\n",
        "    except ImportError:\n",
        "        print(f\"{lib_name}: ❌ Not installed\")\n",
        "\n",
        "check_version(\"peft\")\n",
        "check_version(\"datasets\")\n",
        "check_version(\"ipywidgets\")"
      ],
      "metadata": {
        "colab": {
          "base_uri": "https://localhost:8080/"
        },
        "id": "cwtsoEhF9oOQ",
        "outputId": "e769b342-d7a2-4a59-94bf-90c76bf152b6"
      },
      "execution_count": 1,
      "outputs": [
        {
          "output_type": "stream",
          "name": "stdout",
          "text": [
            "peft: ✅ Installed, version 0.8.2\n",
            "datasets: ✅ Installed, version 2.16.1\n",
            "ipywidgets: ✅ Installed, version 7.7.5\n"
          ]
        }
      ]
    },
    {
      "cell_type": "markdown",
      "metadata": {
        "id": "VOnJlBY-81Wl"
      },
      "source": [
        "From the transformers library we import the necesary classes to import the model and the tokenizer.\n",
        "\n",
        "Then we can load the Tokenizer and the model.\n",
        "\n",
        "Bloom is one of the smallest and smarter model available to be trained with PEFT Library using Prompt Tuning. You can use either of the models in the Bloom Family, I encorage you to use at least two of them and see the differences.\n",
        "\n",
        "I'm using the smallest one just to spend less time trainig, and avoid memory problems in Colab."
      ]
    },
    {
      "cell_type": "code",
      "execution_count": 2,
      "metadata": {
        "id": "vziwd2UuCYGl",
        "tags": [],
        "colab": {
          "base_uri": "https://localhost:8080/",
          "height": 177,
          "referenced_widgets": [
            "c61c66ee559f4f0aa4aab7b0c1399ed8",
            "068c2d4282f74ef18b2613371a0ea025",
            "88498fa38be24514933edc6193af02aa",
            "179dd1e20e7747998f8fd7f85db40f06",
            "7ed2c0871497467f8ecd91cb27e79615",
            "7d05a8e7db2c44a69e133701a5559b39",
            "b7dbda85c3db497d9b87e9fff1dc09e8",
            "35754e8a54844570bbe54f9be89ca54f",
            "1e151ab6dc3f453b9320c91c275b1cdb",
            "9c38ab3107a94cd8b9bc9d007b45a3fb",
            "4e65e76e9d3443dc8052277f1c250c05",
            "aaa0501990e7476e81b0a88a00c9e2ec",
            "f53e20b6cf7e46118acf31cbcb980e91",
            "85c9e719eae848e6a44a38af27a4aec8",
            "59f8ee92fa4c4ac79cee2c3dba34d092",
            "0073a3a4dc30467f9be77936e7051cf2",
            "d6544f0e96c8414098bb578a74b0f00f",
            "e282cd6ced8a421aac875fc25fe13eec",
            "f186186458f74faa8caafe7fd0e4fcd2",
            "37d5e7d2f4d04867b3310ac974ed5a0f",
            "e7728ba8285d406ca7412bc11acd975e",
            "e45139fb188c489c8fd6926d0478b18f",
            "4d7a9e3a6f9f4067adf314cfa2b9de8d",
            "81f30b44c0d445599b6503812f602452",
            "786f9d9c78cd4caba4d93c1b082831de",
            "cabef224dafc46e985dcc755985bc779",
            "9b5e46d2c6934e6fa6d3cda600a0db73",
            "2e11a712b8174b7e89d380f65c32ce98",
            "9b35dd959cbb4eb695da225895cf34e8",
            "9d2e982bb74444c08abda21a681f2e69",
            "3f62e00f29c6414cabe91f30c132d507",
            "5ee8d5b8fa7249428b57afe8e935818e",
            "2e6d4e94a212437e95fc608488ad933e",
            "85e067394c8c47a1873f339930aa4c55",
            "ba33ae3785d54526952138e1e970c85f",
            "8332dd149f1e4ad9867f5f0128aaa3a3",
            "f652d8f74dce43b8b749cb360ea31151",
            "9e20eaac12a147e99fe830f73727e732",
            "a2c73acc42c34a64a502e939f8419795",
            "c7265700ac0f424fbbbbcab02cbb1663",
            "97bb039f6fa54eb1975138d18c9b8d6d",
            "3ccdd2800d60486eb4ed1a5cc67266e1",
            "c8d29451c17d49aaa4208e05bb624014",
            "aa5cf358f70244f2b815f7382727f49b",
            "dad7ca35aac5402eb2110c72cdd1193c",
            "495e3fbbf91b44a599a8b3685cf5876d",
            "d719a443b8fd40ffacb4693f7197c768",
            "8dadfb02ef5d4dfd9c3eb234c33fcdf3",
            "ebef7ff74079424686e0c5a96382950c",
            "c8cf7f1cf3d64e7ab2cfb7d3b13100c9",
            "31c35488ce164f9883cc30c8e4e63e60",
            "47c1f6a485f547c49307e653980aadca",
            "e581eef03fee4f2eb0140bbdeedafa3c",
            "dab260d375da4be3a25a17225139dda4",
            "221de070c14e45e5a67a9f909e2b0797"
          ]
        },
        "outputId": "668a5641-00fb-44fe-f024-b4331dfe4459"
      },
      "outputs": [
        {
          "output_type": "display_data",
          "data": {
            "text/plain": [
              "tokenizer_config.json:   0%|          | 0.00/222 [00:00<?, ?B/s]"
            ],
            "application/vnd.jupyter.widget-view+json": {
              "version_major": 2,
              "version_minor": 0,
              "model_id": "c61c66ee559f4f0aa4aab7b0c1399ed8"
            }
          },
          "metadata": {}
        },
        {
          "output_type": "display_data",
          "data": {
            "text/plain": [
              "tokenizer.json:   0%|          | 0.00/14.5M [00:00<?, ?B/s]"
            ],
            "application/vnd.jupyter.widget-view+json": {
              "version_major": 2,
              "version_minor": 0,
              "model_id": "aaa0501990e7476e81b0a88a00c9e2ec"
            }
          },
          "metadata": {}
        },
        {
          "output_type": "display_data",
          "data": {
            "text/plain": [
              "special_tokens_map.json:   0%|          | 0.00/85.0 [00:00<?, ?B/s]"
            ],
            "application/vnd.jupyter.widget-view+json": {
              "version_major": 2,
              "version_minor": 0,
              "model_id": "4d7a9e3a6f9f4067adf314cfa2b9de8d"
            }
          },
          "metadata": {}
        },
        {
          "output_type": "display_data",
          "data": {
            "text/plain": [
              "config.json:   0%|          | 0.00/693 [00:00<?, ?B/s]"
            ],
            "application/vnd.jupyter.widget-view+json": {
              "version_major": 2,
              "version_minor": 0,
              "model_id": "85e067394c8c47a1873f339930aa4c55"
            }
          },
          "metadata": {}
        },
        {
          "output_type": "display_data",
          "data": {
            "text/plain": [
              "model.safetensors:   0%|          | 0.00/1.12G [00:00<?, ?B/s]"
            ],
            "application/vnd.jupyter.widget-view+json": {
              "version_major": 2,
              "version_minor": 0,
              "model_id": "dad7ca35aac5402eb2110c72cdd1193c"
            }
          },
          "metadata": {}
        }
      ],
      "source": [
        "from transformers import AutoModelForCausalLM, AutoTokenizer\n",
        "\n",
        "model_name = \"bigscience/bloom-560m\"\n",
        "\n",
        "tokenizer = AutoTokenizer.from_pretrained(model_name)\n",
        "foundation_model = AutoModelForCausalLM.from_pretrained(model_name)"
      ]
    },
    {
      "cell_type": "markdown",
      "metadata": {
        "id": "Qtc1gbK39Hp7"
      },
      "source": [
        "## Inference with the pre-trained model.\n",
        "I'm going to do a test with the pre-trained model without fine-tuning, to see if something changes after the fine-tuning."
      ]
    },
    {
      "cell_type": "code",
      "execution_count": 3,
      "metadata": {
        "id": "jak6FzpvFTHk",
        "tags": []
      },
      "outputs": [],
      "source": [
        "#this function returns the outputs from the model received, and inputs.\n",
        "def get_outputs(model, inputs, max_new_tokens=100): #play with this function inputs and see if you get something interesting\n",
        "    outputs = model.generate(\n",
        "        input_ids=inputs[\"input_ids\"],\n",
        "        attention_mask=inputs[\"attention_mask\"],\n",
        "        max_new_tokens=max_new_tokens,\n",
        "        repetition_penalty=1.5, #Avoid repetition.\n",
        "        early_stopping=True, #The model can stop before reach the max_length\n",
        "        eos_token_id=tokenizer.eos_token_id\n",
        "    )\n",
        "    return outputs"
      ]
    },
    {
      "cell_type": "markdown",
      "metadata": {
        "id": "GkFqjS459jAa"
      },
      "source": [
        "The dataset used for the fine-tuning contains prompts to be used with Large Language Models.\n",
        "\n",
        "I'm going to request the pre-trained model that acts like a motivational coach."
      ]
    },
    {
      "cell_type": "code",
      "source": [
        "#Inference original model\n",
        "input_sentences = tokenizer(\"Can you give me some advice to stay motivated when I'm tired?\", return_tensors=\"pt\")\n",
        "foundational_outputs_sentence = get_outputs(foundation_model, input_sentences, max_new_tokens=50)\n",
        "\n",
        "print(tokenizer.batch_decode(foundational_outputs_sentence, skip_special_tokens=True))"
      ],
      "metadata": {
        "colab": {
          "base_uri": "https://localhost:8080/"
        },
        "id": "ooCuEJRt5yZf",
        "outputId": "4d8bc8f3-9ac0-416d-bcc8-9e0a35b10468"
      },
      "execution_count": 4,
      "outputs": [
        {
          "output_type": "stream",
          "name": "stderr",
          "text": [
            "The following generation flags are not valid and may be ignored: ['early_stopping']. Set `TRANSFORMERS_VERBOSITY=info` for more details.\n"
          ]
        },
        {
          "output_type": "stream",
          "name": "stdout",
          "text": [
            "[\"Can you give me some advice to stay motivated when I'm tired?\"]\n"
          ]
        }
      ]
    },
    {
      "cell_type": "markdown",
      "source": [
        "The output is the return of the input, showing that hte model has not been trained yet as coach.\n",
        "\n",
        "To make sure it is working in a more general way, let's try a more neutral or open-ended input just to test that generation is functional, like \"The meaning of life is?\""
      ],
      "metadata": {
        "id": "9wFUstPO530n"
      }
    },
    {
      "cell_type": "code",
      "execution_count": 5,
      "metadata": {
        "colab": {
          "base_uri": "https://localhost:8080/"
        },
        "id": "3BAYg7czFYeK",
        "outputId": "f7b44a17-988c-4b9e-ae8f-8d86ac8e8226",
        "tags": []
      },
      "outputs": [
        {
          "output_type": "stream",
          "name": "stderr",
          "text": [
            "The following generation flags are not valid and may be ignored: ['early_stopping']. Set `TRANSFORMERS_VERBOSITY=info` for more details.\n"
          ]
        },
        {
          "output_type": "stream",
          "name": "stdout",
          "text": [
            "['The meaning of life is? The answer to this question depends on the context. In a world where there are no rules, it may be that we have an infinite number and variety in our lives.\\nIn fact if you look at your daily routine or work schedule then most people will']\n"
          ]
        }
      ],
      "source": [
        "#Inference original model\n",
        "input_sentences = tokenizer(\"The meaning of life is?\", return_tensors=\"pt\")\n",
        "foundational_outputs_sentence = get_outputs(foundation_model, input_sentences, max_new_tokens=50)\n",
        "\n",
        "print(tokenizer.batch_decode(foundational_outputs_sentence, skip_special_tokens=True))"
      ]
    },
    {
      "cell_type": "markdown",
      "metadata": {
        "id": "KQUGY47p9ysI"
      },
      "source": [
        "The model was able to continue the sentence, that’s a clear sign the model is working properly! Event tho it is not very clean or structrured."
      ]
    },
    {
      "cell_type": "markdown",
      "metadata": {
        "id": "FL5L_DcR9ggA"
      },
      "source": [
        "# Preparing the Dataset.\n",
        "The Dataset used is:\n",
        "\n",
        "https://huggingface.co/datasets/fka/awesome-chatgpt-prompts"
      ]
    },
    {
      "cell_type": "code",
      "execution_count": 5,
      "metadata": {
        "colab": {
          "base_uri": "https://localhost:8080/",
          "height": 304,
          "referenced_widgets": [
            "fad27957b9384eebbb088acfbd8f7f3f",
            "c383009a5f324a1f95c3dd8552fbb40b",
            "ec23764b8ad5481f8a2646ebbf749ac8",
            "21014b4bd9744dfa87a97ed4571e1d4c",
            "fe5209b76e984e9c80a3d62542dade2f",
            "e480767900bc48858527fef40047cd21",
            "ea23269318fc4bcebf134bc94d392aeb",
            "9f4252b1f6b94bffb1af851f8d95e0c4",
            "c844c722da914e779d4c20836da5cdf8",
            "ea96f65d096f48359ae1911fc7b26241",
            "4833b351a2114d0da24229326428474c",
            "1554de00a8ee4fbdb909310f560f1009",
            "fdf949a35646452c94f9910d8e61f546",
            "87a465b1beaf40ffa1936f8ea9ab2176",
            "29b78474ce774671bce3471794644cd1",
            "a294ae8b871b4feda4dc21e912801afe",
            "fe864c2b2d124ed9a12042501c0bd943",
            "03acc3951f8742a0b4d328dd469da5bf",
            "c313f007dbaf4d199c793dfcecdbf04f",
            "4ae2c9ba0aad4b568596f4e58726b6c6",
            "9a62688f015e4fbcbee237905bc655b7",
            "2035804e7be44ec69daac60fa3a94f50",
            "7548a42df59642a68a0d530516188a3d",
            "a8f512e5f7b54964a3bcdaf36bd45cd7",
            "c413e49faec142f79788ccdef2e724d3",
            "a04bd367672847c1a7a5498b1c5f8015",
            "b70f8936ba1b405aa720bf7743c1c2ef",
            "cf5568086b4e4c1392a2452312653be3",
            "7127c9d7bbcd4a65bb37dd3a09f616a5",
            "18d28a0dc82a4775be2c070edd9e5fa1",
            "5191b2d8196741069940ae53aee7095a",
            "7181bcf006364e03a1b3889bcddf7147",
            "cbf3ec2259c441e6a5574893f4b2efb2",
            "57ec50d126894a22a16869ae916776a8",
            "2dca6de654ec4956adf846648e2b185d",
            "d6ee9359c73f47caa91cf51a2cb98712",
            "87cf7c7a475f4a9f97daab7c7f13f55e",
            "b10dcd180a27416b984079aa16619d27",
            "9cf4d6c6b029491489d611e47d848a5d",
            "55409884e5d340cb9464f2333836ff0f",
            "8357d8220b5549049c3751d5df9c3c48",
            "1f59cbf170a74904b72f23e0a3b1d72f",
            "9d14ce7f593949aabe4f0167acef13b9",
            "6434a6f5a67542779172c44e00a7b19d"
          ]
        },
        "id": "DyIMQ7IHFbIx",
        "outputId": "be734628-a12f-4c2e-b538-67ad28584c70",
        "tags": []
      },
      "outputs": [
        {
          "output_type": "stream",
          "name": "stdout",
          "text": [
            "rm: cannot remove '/root/.cache/huggingface/datasets': No such file or directory\n"
          ]
        },
        {
          "output_type": "display_data",
          "data": {
            "text/plain": [
              "Downloading readme:   0%|          | 0.00/339 [00:00<?, ?B/s]"
            ],
            "application/vnd.jupyter.widget-view+json": {
              "version_major": 2,
              "version_minor": 0,
              "model_id": "fad27957b9384eebbb088acfbd8f7f3f"
            }
          },
          "metadata": {}
        },
        {
          "output_type": "display_data",
          "data": {
            "text/plain": [
              "Downloading data:   0%|          | 0.00/104k [00:00<?, ?B/s]"
            ],
            "application/vnd.jupyter.widget-view+json": {
              "version_major": 2,
              "version_minor": 0,
              "model_id": "1554de00a8ee4fbdb909310f560f1009"
            }
          },
          "metadata": {}
        },
        {
          "output_type": "display_data",
          "data": {
            "text/plain": [
              "Generating train split: 0 examples [00:00, ? examples/s]"
            ],
            "application/vnd.jupyter.widget-view+json": {
              "version_major": 2,
              "version_minor": 0,
              "model_id": "7548a42df59642a68a0d530516188a3d"
            }
          },
          "metadata": {}
        },
        {
          "output_type": "stream",
          "name": "stderr",
          "text": [
            "/usr/local/lib/python3.11/dist-packages/datasets/download/streaming_download_manager.py:778: FutureWarning: The 'verbose' keyword in pd.read_csv is deprecated and will be removed in a future version.\n",
            "  return pd.read_csv(xopen(filepath_or_buffer, \"rb\", download_config=download_config), **kwargs)\n"
          ]
        },
        {
          "output_type": "display_data",
          "data": {
            "text/plain": [
              "Map:   0%|          | 0/203 [00:00<?, ? examples/s]"
            ],
            "application/vnd.jupyter.widget-view+json": {
              "version_major": 2,
              "version_minor": 0,
              "model_id": "57ec50d126894a22a16869ae916776a8"
            }
          },
          "metadata": {}
        },
        {
          "output_type": "stream",
          "name": "stderr",
          "text": [
            "Asking to truncate to max_length but no maximum length is provided and the model has no predefined maximum length. Default to no truncation.\n"
          ]
        },
        {
          "output_type": "display_data",
          "data": {
            "text/plain": [
              "Dataset({\n",
              "    features: ['prompt', 'input_ids', 'attention_mask'],\n",
              "    num_rows: 50\n",
              "})"
            ]
          },
          "metadata": {}
        }
      ],
      "source": [
        "from datasets import load_dataset\n",
        "\n",
        "# Clear cache workaround\n",
        "!rm -r ~/.cache/huggingface/datasets\n",
        "\n",
        "# Load/Reload\n",
        "dataset = \"fka/awesome-chatgpt-prompts\"\n",
        "data = load_dataset(dataset)\n",
        "\n",
        "# Tokenize the \"prompt\" column\n",
        "data = data.map(lambda samples: tokenizer(samples[\"prompt\"], padding=True, truncation=True), batched=True)\n",
        "\n",
        "train_sample = data[\"train\"].select(range(50))\n",
        "train_sample = train_sample.remove_columns('act')\n",
        "\n",
        "display(train_sample)"
      ]
    },
    {
      "cell_type": "code",
      "execution_count": 6,
      "metadata": {
        "colab": {
          "base_uri": "https://localhost:8080/"
        },
        "id": "gmlZY3fk_9fm",
        "outputId": "c1e5fbf4-9b30-459a-e04d-9d35e337f664",
        "tags": []
      },
      "outputs": [
        {
          "output_type": "stream",
          "name": "stdout",
          "text": [
            "{'prompt': ['Imagine you are an experienced Ethereum developer tasked with creating a smart contract for a blockchain messenger. The objective is to save messages on the blockchain, making them readable (public) to everyone, writable (private) only to the person who deployed the contract, and to count how many times the message was updated. Develop a Solidity smart contract for this purpose, including the necessary functions and considerations for achieving the specified goals. Please provide the code and any relevant explanations to ensure a clear understanding of the implementation.'], 'input_ids': [[3, 3, 3, 3, 3, 3, 3, 3, 3, 3, 3, 3, 3, 3, 3, 3, 3, 3, 3, 3, 3, 3, 3, 3, 3, 3, 3, 3, 3, 3, 3, 3, 3, 3, 3, 3, 3, 3, 3, 3, 3, 3, 3, 3, 3, 3, 3, 3, 3, 3, 3, 3, 3, 3, 3, 3, 3, 3, 3, 3, 3, 3, 3, 3, 3, 3, 3, 3, 3, 3, 3, 3, 3, 3, 3, 3, 3, 3, 3, 3, 3, 3, 3, 3, 3, 3, 3, 3, 3, 3, 3, 3, 3, 3, 3, 3, 3, 3, 3, 3, 3, 3, 3, 3, 3, 3, 3, 3, 3, 3, 3, 3, 3, 3, 3, 3, 3, 3, 3, 3, 3, 3, 3, 3, 3, 3, 3, 3, 3, 3, 3, 3, 3, 3, 3, 3, 3, 3, 3, 3, 3, 3, 3, 3, 3, 3, 3, 3, 3, 3, 3, 3, 3, 3, 3, 3, 3, 3, 3, 3, 3, 3, 3, 3, 3, 3, 3, 3, 3, 3, 3, 3, 3, 3, 3, 3, 3, 3, 3, 3, 3, 3, 3, 3, 3, 3, 3, 3, 3, 3, 3, 3, 3, 3, 3, 3, 3, 3, 3, 3, 3, 3, 3, 3, 3, 3, 3, 3, 3, 3, 3, 3, 3, 3, 3, 3, 3, 3, 3, 3, 3, 3, 3, 3, 3, 3, 3, 3, 3, 3, 3, 3, 3, 3, 3, 3, 3, 3, 3, 3, 3, 3, 3, 3, 3, 3, 3, 3, 3, 3, 3, 3, 3, 3, 3, 3, 3, 3, 3, 3, 3, 3, 3, 3, 3, 3, 3, 3, 3, 3, 3, 3, 3, 3, 3, 3, 3, 3, 3, 3, 3, 3, 3, 3, 3, 3, 3, 3, 3, 3, 3, 3, 3, 3, 3, 3, 3, 3, 3, 3, 3, 3, 3, 3, 3, 3, 3, 3, 3, 3, 3, 3, 3, 3, 3, 3, 3, 3, 3, 3, 3, 186402, 1152, 1306, 660, 72560, 28857, 167625, 84544, 20165, 376, 1002, 26168, 267, 30479, 17477, 613, 267, 120755, 238776, 17, 1387, 47881, 632, 427, 14565, 29866, 664, 368, 120755, 15, 16997, 4054, 136044, 375, 4859, 12, 427, 39839, 15, 9697, 1242, 375, 13614, 12, 3804, 427, 368, 2298, 5268, 109891, 368, 17477, 15, 530, 427, 11210, 4143, 7112, 11866, 368, 11011, 1620, 36320, 17, 21265, 267, 11550, 90533, 30479, 17477, 613, 1119, 27343, 15, 11762, 368, 18348, 16231, 530, 127246, 613, 94510, 368, 25605, 55790, 17, 29901, 13842, 368, 4400, 530, 2914, 24466, 184637, 427, 22646, 267, 11285, 32391, 461, 368, 17786, 17]], 'attention_mask': [[0, 0, 0, 0, 0, 0, 0, 0, 0, 0, 0, 0, 0, 0, 0, 0, 0, 0, 0, 0, 0, 0, 0, 0, 0, 0, 0, 0, 0, 0, 0, 0, 0, 0, 0, 0, 0, 0, 0, 0, 0, 0, 0, 0, 0, 0, 0, 0, 0, 0, 0, 0, 0, 0, 0, 0, 0, 0, 0, 0, 0, 0, 0, 0, 0, 0, 0, 0, 0, 0, 0, 0, 0, 0, 0, 0, 0, 0, 0, 0, 0, 0, 0, 0, 0, 0, 0, 0, 0, 0, 0, 0, 0, 0, 0, 0, 0, 0, 0, 0, 0, 0, 0, 0, 0, 0, 0, 0, 0, 0, 0, 0, 0, 0, 0, 0, 0, 0, 0, 0, 0, 0, 0, 0, 0, 0, 0, 0, 0, 0, 0, 0, 0, 0, 0, 0, 0, 0, 0, 0, 0, 0, 0, 0, 0, 0, 0, 0, 0, 0, 0, 0, 0, 0, 0, 0, 0, 0, 0, 0, 0, 0, 0, 0, 0, 0, 0, 0, 0, 0, 0, 0, 0, 0, 0, 0, 0, 0, 0, 0, 0, 0, 0, 0, 0, 0, 0, 0, 0, 0, 0, 0, 0, 0, 0, 0, 0, 0, 0, 0, 0, 0, 0, 0, 0, 0, 0, 0, 0, 0, 0, 0, 0, 0, 0, 0, 0, 0, 0, 0, 0, 0, 0, 0, 0, 0, 0, 0, 0, 0, 0, 0, 0, 0, 0, 0, 0, 0, 0, 0, 0, 0, 0, 0, 0, 0, 0, 0, 0, 0, 0, 0, 0, 0, 0, 0, 0, 0, 0, 0, 0, 0, 0, 0, 0, 0, 0, 0, 0, 0, 0, 0, 0, 0, 0, 0, 0, 0, 0, 0, 0, 0, 0, 0, 0, 0, 0, 0, 0, 0, 0, 0, 0, 0, 0, 0, 0, 0, 0, 0, 0, 0, 0, 0, 0, 0, 0, 0, 0, 0, 0, 0, 0, 0, 0, 0, 0, 0, 0, 0, 0, 1, 1, 1, 1, 1, 1, 1, 1, 1, 1, 1, 1, 1, 1, 1, 1, 1, 1, 1, 1, 1, 1, 1, 1, 1, 1, 1, 1, 1, 1, 1, 1, 1, 1, 1, 1, 1, 1, 1, 1, 1, 1, 1, 1, 1, 1, 1, 1, 1, 1, 1, 1, 1, 1, 1, 1, 1, 1, 1, 1, 1, 1, 1, 1, 1, 1, 1, 1, 1, 1, 1, 1, 1, 1, 1, 1, 1, 1, 1, 1, 1, 1, 1, 1, 1, 1, 1, 1, 1, 1, 1, 1, 1, 1, 1, 1, 1, 1, 1, 1, 1, 1, 1]]}\n"
          ]
        }
      ],
      "source": [
        "print(train_sample[:1])"
      ]
    },
    {
      "cell_type": "markdown",
      "metadata": {
        "id": "oVPAJsrUAHiJ"
      },
      "source": [
        "# Fine-Tuning.\n",
        "First is necesary create a LoRA config.\n"
      ]
    },
    {
      "cell_type": "markdown",
      "metadata": {
        "id": "bwAK6kxCDCfM"
      },
      "source": [
        "\n",
        "\n",
        "\n"
      ]
    },
    {
      "cell_type": "code",
      "execution_count": 7,
      "metadata": {
        "id": "uCalslQFGL7K"
      },
      "outputs": [],
      "source": [
        "# TARGET_MODULES\n",
        "# https://github.com/huggingface/peft/blob/39ef2546d5d9b8f5f8a7016ec10657887a867041/src/peft/utils/other.py#L220\n",
        "\n",
        "import peft\n",
        "from peft import LoraConfig, get_peft_model, PeftModel\n",
        "\n",
        "lora_config = LoraConfig(#play with these config inputs\n",
        "    r=4, #As bigger the R bigger the parameters to train.\n",
        "    lora_alpha=1, # a scaling factor that adjusts the magnitude of the weight matrix. Usually set to 1\n",
        "    target_modules=[\"query_key_value\"], #You can obtain a list of target modules in the URL above.\n",
        "    lora_dropout=0.05, #Helps to avoid Overfitting.\n",
        "    bias=\"lora_only\", # this specifies if the bias parameter should be trained.\n",
        "    task_type=\"CAUSAL_LM\"\n",
        ")"
      ]
    },
    {
      "cell_type": "markdown",
      "metadata": {
        "id": "LUddynl0B1Ck"
      },
      "source": [
        "The most important parameter is **r**, it defines how many parameters will be trained. As bigger the valuer more parameters are trained, but it means that the model will be able to learn more complicated relations between input and output.\n",
        "\n",
        "Yo can find a list of the **target_modules** available on the [Hugging Face Documentation]( https://github.com/huggingface/peft/blob/39ef2546d5d9b8f5f8a7016ec10657887a867041/src/peft/utils/other.py#L220)\n",
        "\n",
        "**lora_dropout** is like the commom dropout is used to avoid overfitting.\n",
        "\n",
        "**bias** I was hesitating if use *none* or *lora_only*. For text classification the most common value is none, and for chat or question answering, *all* or *lora_only*.\n",
        "\n",
        "**task_type**. Indicates the task the model is beign trained for. In this case, text generation.\n",
        "\n",
        "### Create the PEFT model.\n",
        "\n"
      ]
    },
    {
      "cell_type": "code",
      "execution_count": 8,
      "metadata": {
        "colab": {
          "base_uri": "https://localhost:8080/"
        },
        "id": "BG1zBmhsGQ-h",
        "outputId": "fde3bb45-3fc9-4fad-f9b2-2fcc21d31690"
      },
      "outputs": [
        {
          "output_type": "stream",
          "name": "stdout",
          "text": [
            "trainable params: 393,216 || all params: 559,607,808 || trainable%: 0.07026635339584111\n",
            "None\n"
          ]
        }
      ],
      "source": [
        "peft_model = get_peft_model(foundation_model, lora_config)\n",
        "print(peft_model.print_trainable_parameters())"
      ]
    },
    {
      "cell_type": "markdown",
      "metadata": {
        "id": "2onXUsaw-Ga0"
      },
      "source": [
        "The number of trainable parameters is really small compared with the total number of parameters in the pre-trained model."
      ]
    },
    {
      "cell_type": "code",
      "execution_count": 9,
      "metadata": {
        "id": "HArPQ_lvGUkY"
      },
      "outputs": [],
      "source": [
        "#Create a directory to contain the Model\n",
        "import os\n",
        "working_dir = './'\n",
        "\n",
        "output_directory = os.path.join(working_dir, \"peft_lab_outputs\")"
      ]
    },
    {
      "cell_type": "markdown",
      "metadata": {
        "id": "rWalmqWm4STo"
      },
      "source": [
        "In the TrainingArgs we inform the number of epochs we want to train, the output directory and the learning_rate."
      ]
    },
    {
      "cell_type": "code",
      "execution_count": 10,
      "metadata": {
        "id": "ND0aJ-t6ARqD"
      },
      "outputs": [],
      "source": [
        "#Creating the TrainingArgs\n",
        "import transformers\n",
        "from transformers import TrainingArguments, Trainer\n",
        "training_args = TrainingArguments(\n",
        "    output_dir=output_directory,\n",
        "    auto_find_batch_size=True, # Find a correct batch size that fits the size of Data.\n",
        "    learning_rate= 3e-2, # Higher learning rate than full fine-tuning.\n",
        "    num_train_epochs=2,\n",
        "    use_cpu=True\n",
        ")"
      ]
    },
    {
      "cell_type": "markdown",
      "metadata": {
        "id": "OgxsV-iy_J_o"
      },
      "source": [
        "Now we can train the model.\n",
        "To train the model we need:\n",
        "\n",
        "\n",
        "*   The PEFT Model.\n",
        "*   The training_args\n",
        "* The Dataset\n",
        "* The result of DataCollator, the Dataset ready to be procesed in blocks.\n",
        "\n",
        "\n",
        "\n"
      ]
    },
    {
      "cell_type": "code",
      "execution_count": 11,
      "metadata": {
        "colab": {
          "base_uri": "https://localhost:8080/",
          "height": 408
        },
        "id": "z5NYHqBnGZyF",
        "outputId": "cf3ef0ca-17af-4458-bb1f-b54cd7fe00a3"
      },
      "outputs": [
        {
          "output_type": "stream",
          "name": "stderr",
          "text": [
            "No label_names provided for model class `PeftModelForCausalLM`. Since `PeftModel` hides base models input arguments, if label_names is not given, label_names can't be set automatically within `Trainer`. Note that empty label_names list will be used instead.\n",
            "\u001b[34m\u001b[1mwandb\u001b[0m: \u001b[33mWARNING\u001b[0m The `run_name` is currently set to the same value as `TrainingArguments.output_dir`. If this was not intended, please specify a different run name by setting the `TrainingArguments.run_name` parameter.\n"
          ]
        },
        {
          "output_type": "display_data",
          "data": {
            "text/plain": [
              "<IPython.core.display.Javascript object>"
            ],
            "application/javascript": [
              "\n",
              "        window._wandbApiKey = new Promise((resolve, reject) => {\n",
              "            function loadScript(url) {\n",
              "            return new Promise(function(resolve, reject) {\n",
              "                let newScript = document.createElement(\"script\");\n",
              "                newScript.onerror = reject;\n",
              "                newScript.onload = resolve;\n",
              "                document.body.appendChild(newScript);\n",
              "                newScript.src = url;\n",
              "            });\n",
              "            }\n",
              "            loadScript(\"https://cdn.jsdelivr.net/npm/postmate/build/postmate.min.js\").then(() => {\n",
              "            const iframe = document.createElement('iframe')\n",
              "            iframe.style.cssText = \"width:0;height:0;border:none\"\n",
              "            document.body.appendChild(iframe)\n",
              "            const handshake = new Postmate({\n",
              "                container: iframe,\n",
              "                url: 'https://wandb.ai/authorize'\n",
              "            });\n",
              "            const timeout = setTimeout(() => reject(\"Couldn't auto authenticate\"), 5000)\n",
              "            handshake.then(function(child) {\n",
              "                child.on('authorize', data => {\n",
              "                    clearTimeout(timeout)\n",
              "                    resolve(data)\n",
              "                });\n",
              "            });\n",
              "            })\n",
              "        });\n",
              "    "
            ]
          },
          "metadata": {}
        },
        {
          "output_type": "stream",
          "name": "stderr",
          "text": [
            "\u001b[34m\u001b[1mwandb\u001b[0m: Logging into wandb.ai. (Learn how to deploy a W&B server locally: https://wandb.me/wandb-server)\n",
            "\u001b[34m\u001b[1mwandb\u001b[0m: You can find your API key in your browser here: https://wandb.ai/authorize?ref=models\n",
            "wandb: Paste an API key from your profile and hit enter:"
          ]
        },
        {
          "name": "stdout",
          "output_type": "stream",
          "text": [
            " ··········\n"
          ]
        },
        {
          "output_type": "stream",
          "name": "stderr",
          "text": [
            "\u001b[34m\u001b[1mwandb\u001b[0m: \u001b[33mWARNING\u001b[0m If you're specifying your api key in code, ensure this code is not shared publicly.\n",
            "\u001b[34m\u001b[1mwandb\u001b[0m: \u001b[33mWARNING\u001b[0m Consider setting the WANDB_API_KEY environment variable, or running `wandb login` from the command line.\n",
            "\u001b[34m\u001b[1mwandb\u001b[0m: No netrc file found, creating one.\n",
            "\u001b[34m\u001b[1mwandb\u001b[0m: Appending key for api.wandb.ai to your netrc file: /root/.netrc\n",
            "\u001b[34m\u001b[1mwandb\u001b[0m: Currently logged in as: \u001b[33mjeandenisd\u001b[0m (\u001b[33mjeandenisd-ironhack\u001b[0m) to \u001b[32mhttps://api.wandb.ai\u001b[0m. Use \u001b[1m`wandb login --relogin`\u001b[0m to force relogin\n"
          ]
        },
        {
          "output_type": "display_data",
          "data": {
            "text/plain": [
              "<IPython.core.display.HTML object>"
            ],
            "text/html": [
              "Tracking run with wandb version 0.19.11"
            ]
          },
          "metadata": {}
        },
        {
          "output_type": "display_data",
          "data": {
            "text/plain": [
              "<IPython.core.display.HTML object>"
            ],
            "text/html": [
              "Run data is saved locally in <code>/content/wandb/run-20250606_163245-5lhk4zs1</code>"
            ]
          },
          "metadata": {}
        },
        {
          "output_type": "display_data",
          "data": {
            "text/plain": [
              "<IPython.core.display.HTML object>"
            ],
            "text/html": [
              "Syncing run <strong><a href='https://wandb.ai/jeandenisd-ironhack/huggingface/runs/5lhk4zs1' target=\"_blank\">./peft_lab_outputs</a></strong> to <a href='https://wandb.ai/jeandenisd-ironhack/huggingface' target=\"_blank\">Weights & Biases</a> (<a href='https://wandb.me/developer-guide' target=\"_blank\">docs</a>)<br>"
            ]
          },
          "metadata": {}
        },
        {
          "output_type": "display_data",
          "data": {
            "text/plain": [
              "<IPython.core.display.HTML object>"
            ],
            "text/html": [
              " View project at <a href='https://wandb.ai/jeandenisd-ironhack/huggingface' target=\"_blank\">https://wandb.ai/jeandenisd-ironhack/huggingface</a>"
            ]
          },
          "metadata": {}
        },
        {
          "output_type": "display_data",
          "data": {
            "text/plain": [
              "<IPython.core.display.HTML object>"
            ],
            "text/html": [
              " View run at <a href='https://wandb.ai/jeandenisd-ironhack/huggingface/runs/5lhk4zs1' target=\"_blank\">https://wandb.ai/jeandenisd-ironhack/huggingface/runs/5lhk4zs1</a>"
            ]
          },
          "metadata": {}
        },
        {
          "output_type": "display_data",
          "data": {
            "text/plain": [
              "<IPython.core.display.HTML object>"
            ],
            "text/html": [
              "\n",
              "    <div>\n",
              "      \n",
              "      <progress value='14' max='14' style='width:300px; height:20px; vertical-align: middle;'></progress>\n",
              "      [14/14 05:11, Epoch 2/2]\n",
              "    </div>\n",
              "    <table border=\"1\" class=\"dataframe\">\n",
              "  <thead>\n",
              " <tr style=\"text-align: left;\">\n",
              "      <th>Step</th>\n",
              "      <th>Training Loss</th>\n",
              "    </tr>\n",
              "  </thead>\n",
              "  <tbody>\n",
              "  </tbody>\n",
              "</table><p>"
            ]
          },
          "metadata": {}
        },
        {
          "output_type": "execute_result",
          "data": {
            "text/plain": [
              "TrainOutput(global_step=14, training_loss=2.7959417615618025, metrics={'train_runtime': 357.2749, 'train_samples_per_second': 0.28, 'train_steps_per_second': 0.039, 'total_flos': 77008581427200.0, 'train_loss': 2.7959417615618025, 'epoch': 2.0})"
            ]
          },
          "metadata": {},
          "execution_count": 11
        }
      ],
      "source": [
        "#This cell may take up to 15 minutes to execute.\n",
        "trainer = Trainer(\n",
        "    model=peft_model,\n",
        "    args=training_args,\n",
        "    train_dataset=train_sample,\n",
        "    data_collator=transformers.DataCollatorForLanguageModeling(tokenizer, mlm=False)\n",
        ")\n",
        "trainer.train()"
      ]
    },
    {
      "cell_type": "code",
      "execution_count": 12,
      "metadata": {
        "id": "kEKiFdpDGgOx"
      },
      "outputs": [],
      "source": [
        "#Save the model.\n",
        "peft_model_path = os.path.join(output_directory, f\"lora_model\")\n",
        "\n",
        "trainer.model.save_pretrained(peft_model_path)"
      ]
    },
    {
      "cell_type": "code",
      "execution_count": 13,
      "metadata": {
        "id": "_TAjrSWSe14q"
      },
      "outputs": [],
      "source": [
        "#Load the Model.\n",
        "loaded_model = PeftModel.from_pretrained(foundation_model,\n",
        "                                        peft_model_path,\n",
        "                                        is_trainable=False)"
      ]
    },
    {
      "cell_type": "markdown",
      "metadata": {
        "id": "dK--YFPR6OxH"
      },
      "source": [
        "## Inference the fine-tuned model."
      ]
    },
    {
      "cell_type": "code",
      "execution_count": 14,
      "metadata": {
        "colab": {
          "base_uri": "https://localhost:8080/"
        },
        "id": "I_27uvJudf03",
        "outputId": "d187e5b9-caa6-4d45-f9f5-85502e9d6487"
      },
      "outputs": [
        {
          "output_type": "stream",
          "name": "stderr",
          "text": [
            "The following generation flags are not valid and may be ignored: ['early_stopping']. Set `TRANSFORMERS_VERBOSITY=info` for more details.\n"
          ]
        },
        {
          "output_type": "stream",
          "name": "stdout",
          "text": [
            "['Can you give me some advice to stay motivated when I\\'m tired? I will write down my thoughts and ideas on how much time is available for doing something productive. My first request is: \"I need help getting fitter, stronger muscles in the gym\"\\nMy second requests are: \"Need a workout planner that helps']\n"
          ]
        }
      ],
      "source": [
        "input_sentences = tokenizer(\"Can you give me some advice to stay motivated when I'm tired?\", return_tensors=\"pt\")\n",
        "foundational_outputs_sentence = get_outputs(loaded_model, input_sentences, max_new_tokens=50)\n",
        "\n",
        "print(tokenizer.batch_decode(foundational_outputs_sentence, skip_special_tokens=True))"
      ]
    },
    {
      "cell_type": "code",
      "source": [
        "input_sentences = tokenizer(\"As a motivational coach, can you give me a training program\", return_tensors=\"pt\")\n",
        "foundational_outputs_sentence = get_outputs(loaded_model, input_sentences, max_new_tokens=50)\n",
        "\n",
        "print(tokenizer.batch_decode(foundational_outputs_sentence, skip_special_tokens=True))"
      ],
      "metadata": {
        "colab": {
          "base_uri": "https://localhost:8080/"
        },
        "id": "mE2VS9j6IDzC",
        "outputId": "675cf249-b370-464e-e686-f10d7b884ab6"
      },
      "execution_count": 16,
      "outputs": [
        {
          "output_type": "stream",
          "name": "stderr",
          "text": [
            "The following generation flags are not valid and may be ignored: ['early_stopping']. Set `TRANSFORMERS_VERBOSITY=info` for more details.\n"
          ]
        },
        {
          "output_type": "stream",
          "name": "stdout",
          "text": [
            "['As a motivational coach, can you give me a training program that will help people achieve their goals and objectives. I would also suggest some other strategies to improve the way they do things in order for them not only succeed but feel better about themselves as well.\\nI have been given an idea of what it might be']\n"
          ]
        }
      ]
    },
    {
      "cell_type": "markdown",
      "metadata": {
        "id": "xCV9JOBG6Ug8"
      },
      "source": [
        "The result is amazing. Let's compare the answer of the pre-trained Model withe the one fine-tuned by us using LoRA:\n",
        "* **Pretrained Model:** *I want you to act as a motivational coach.*  Don't be afraid of being challenged.\n",
        "* **Fine-Tuned Model:** I want you to act as a motivational coach.  I will provide some information about someone\\'s motivation and goals, but it should be your job  in order my first request – \"I need someone who can help me find the best way for myself stay motivated when competing against others.\" My suggestion is “I have\n",
        "\n",
        "As you can see the result is really similar to the samples containmed in the Datased used to fine-tune the Model. And we only trained the Model for 10 epochs and with a really small number of rows."
      ]
    },
    {
      "cell_type": "markdown",
      "metadata": {
        "id": "tr4Sm32y89Ji"
      },
      "source": [
        "# Exercise\n",
        "\n",
        "- Drive your own experiments with all the variables and different model types.\n",
        "    - Please with the **lora_config** values, maybe you can achieve a better result in less epochs, saving time and money for your company. :-)\n",
        "- Write a one page report\n",
        "    - What did you learn?"
      ]
    },
    {
      "cell_type": "markdown",
      "source": [
        "## Switching to LLaMA (e.g. TinyLlama-1.1B)"
      ],
      "metadata": {
        "id": "RJtyNAifK5tW"
      }
    },
    {
      "cell_type": "markdown",
      "source": [
        "### Prepare Dataset from TinyLlama--1.1B"
      ],
      "metadata": {
        "id": "VoNla3xOUIl6"
      }
    },
    {
      "cell_type": "code",
      "source": [
        "from datasets import load_dataset\n",
        "\n",
        "# Load dataset\n",
        "dataset = \"fka/awesome-chatgpt-prompts\"\n",
        "data = load_dataset(dataset)\n",
        "\n",
        "# Re-tokenize the prompt column with the resized TinyLLaMA tokenizer\n",
        "data = data.map(\n",
        "    lambda samples: tokenizer(samples[\"prompt\"], padding=True, truncation=True),\n",
        "    batched=True\n",
        ")\n",
        "\n",
        "# Select a small training sample for speed (optional)\n",
        "train_sample = data[\"train\"].select(range(203))\n",
        "#train_sample = data[\"train\"].select(range(50)) #attempt with a small range gave bad outputs\n",
        "\n",
        "# Remove unused columns if present\n",
        "if \"act\" in train_sample.column_names:\n",
        "    train_sample = train_sample.remove_columns(\"act\")\n",
        "\n",
        "display(train_sample)\n"
      ],
      "metadata": {
        "colab": {
          "base_uri": "https://localhost:8080/",
          "height": 86
        },
        "id": "NdmoYrZKUJKR",
        "outputId": "69f92fb2-2d84-40e2-dfe5-0a4e5ce5c4bc"
      },
      "execution_count": 42,
      "outputs": [
        {
          "output_type": "display_data",
          "data": {
            "text/plain": [
              "Dataset({\n",
              "    features: ['prompt', 'input_ids', 'attention_mask'],\n",
              "    num_rows: 203\n",
              "})"
            ]
          },
          "metadata": {}
        }
      ]
    },
    {
      "cell_type": "markdown",
      "source": [
        "#### Load model + tokenizer"
      ],
      "metadata": {
        "id": "Ikp0909KLEzf"
      }
    },
    {
      "cell_type": "code",
      "execution_count": 43,
      "metadata": {
        "colab": {
          "base_uri": "https://localhost:8080/"
        },
        "id": "R1dloD120mMd",
        "outputId": "02651761-a2b6-4b52-8f16-01ca6fd0d9d1"
      },
      "outputs": [
        {
          "output_type": "execute_result",
          "data": {
            "text/plain": [
              "Embedding(32000, 2048)"
            ]
          },
          "metadata": {},
          "execution_count": 43
        }
      ],
      "source": [
        "from transformers import AutoTokenizer, AutoModelForCausalLM\n",
        "\n",
        "model_name = \"TinyLlama/TinyLlama-1.1B-Chat-v1.0\"\n",
        "\n",
        "# Load tokenizer\n",
        "tokenizer = AutoTokenizer.from_pretrained(model_name, trust_remote_code=True)\n",
        "\n",
        "# Set pad_token if not already set (optional safety check)\n",
        "if tokenizer.pad_token is None:\n",
        "    tokenizer.pad_token = tokenizer.eos_token\n",
        "\n",
        "# Load model\n",
        "foundation_model = AutoModelForCausalLM.from_pretrained(\n",
        "    model_name,\n",
        "    trust_remote_code=True,\n",
        "    device_map=\"auto\"\n",
        ")\n",
        "\n",
        "# Resize model embeddings to match tokenizer\n",
        "foundation_model.resize_token_embeddings(len(tokenizer))"
      ]
    },
    {
      "cell_type": "markdown",
      "source": [
        "#### Print diagnostics before training"
      ],
      "metadata": {
        "id": "tWQ6L9dUTKpC"
      }
    },
    {
      "cell_type": "code",
      "source": [
        "print(\"Tokenizer length:\", len(tokenizer))\n",
        "print(\"Model vocab size:\", foundation_model.get_input_embeddings().num_embeddings)\n",
        "print(\"Pad token ID:\", tokenizer.pad_token_id)"
      ],
      "metadata": {
        "colab": {
          "base_uri": "https://localhost:8080/"
        },
        "id": "g5LNrfJ_S-Om",
        "outputId": "6f0f7592-b55e-4602-a06d-571c3831fd09"
      },
      "execution_count": 44,
      "outputs": [
        {
          "output_type": "stream",
          "name": "stdout",
          "text": [
            "Tokenizer length: 32000\n",
            "Model vocab size: 32000\n",
            "Pad token ID: 2\n"
          ]
        }
      ]
    },
    {
      "cell_type": "markdown",
      "source": [
        " ### Fine-Tuning.\n",
        " #### LoRA configuration (adapted for TinyLlama)"
      ],
      "metadata": {
        "id": "lghZc1eoLOWw"
      }
    },
    {
      "cell_type": "code",
      "source": [
        "from peft import LoraConfig, get_peft_model, TaskType\n",
        "\n",
        "lora_config = LoraConfig(\n",
        "    r=8,\n",
        "    lora_alpha=16,\n",
        "    target_modules=[\"q_proj\", \"v_proj\"],  # typical for LLaMA/TinyLlama\n",
        "    lora_dropout=0.05,\n",
        "    bias=\"none\",\n",
        "    task_type=\"CAUSAL_LM\"\n",
        ")\n",
        "\n",
        "peft_model = get_peft_model(foundation_model, lora_config)\n",
        "print(peft_model.print_trainable_parameters())\n"
      ],
      "metadata": {
        "colab": {
          "base_uri": "https://localhost:8080/"
        },
        "id": "9jrO7L57LOCI",
        "outputId": "62490aa0-6221-4bfc-c0fb-ece3b41e263e"
      },
      "execution_count": 45,
      "outputs": [
        {
          "output_type": "stream",
          "name": "stdout",
          "text": [
            "trainable params: 1,126,400 || all params: 1,101,174,784 || trainable%: 0.10229075496156657\n",
            "None\n"
          ]
        }
      ]
    },
    {
      "cell_type": "markdown",
      "source": [
        "#### Create a directory to contain the Model"
      ],
      "metadata": {
        "id": "7_cIOq_2Myii"
      }
    },
    {
      "cell_type": "code",
      "source": [
        "#Create a directory to contain the Model\n",
        "import os\n",
        "working_dir = './'\n",
        "\n",
        "output_directory = os.path.join(working_dir, \"peft_lab_outputs\")"
      ],
      "metadata": {
        "id": "Q7GM6niBMHYh"
      },
      "execution_count": 46,
      "outputs": []
    },
    {
      "cell_type": "markdown",
      "source": [
        "#### Creating the TrainingArgs"
      ],
      "metadata": {
        "id": "Ql12fWcyM1-3"
      }
    },
    {
      "cell_type": "code",
      "source": [
        "#Creating the TrainingArgs\n",
        "import transformers\n",
        "from transformers import TrainingArguments, Trainer\n",
        "training_args = TrainingArguments(\n",
        "    output_dir=output_directory,\n",
        "    auto_find_batch_size=True, # Find a correct batch size that fits the size of Data.\n",
        "    learning_rate= 3e-2, # Higher learning rate than full fine-tuning.\n",
        "    num_train_epochs=2,\n",
        "    use_cpu=False\n",
        ")"
      ],
      "metadata": {
        "id": "_KGzLk79MNBb"
      },
      "execution_count": 49,
      "outputs": []
    },
    {
      "cell_type": "markdown",
      "source": [
        "### Model Training"
      ],
      "metadata": {
        "id": "LZDu0IhRM8XX"
      }
    },
    {
      "cell_type": "markdown",
      "source": [
        "#### Setting WANDB key"
      ],
      "metadata": {
        "id": "lH6DWOwzP5--"
      }
    },
    {
      "cell_type": "code",
      "source": [
        "import os\n",
        "\n",
        "os.environ[\"WANDB_API_KEY\"] = os.environ[\"WANDB_API_KEY\"]  # passes secret to wandb"
      ],
      "metadata": {
        "id": "WItUwh2MP40U"
      },
      "execution_count": null,
      "outputs": []
    },
    {
      "cell_type": "markdown",
      "source": [
        "#### Training the model"
      ],
      "metadata": {
        "id": "HM9_jzDMRMAF"
      }
    },
    {
      "cell_type": "code",
      "source": [
        "#This cell may take up to 15 minutes to execute.\n",
        "trainer = Trainer(\n",
        "    model=peft_model,\n",
        "    args=training_args,\n",
        "    train_dataset=train_sample,\n",
        "    data_collator=transformers.DataCollatorForLanguageModeling(tokenizer, mlm=False)\n",
        ")\n",
        "trainer.train()"
      ],
      "metadata": {
        "colab": {
          "base_uri": "https://localhost:8080/",
          "height": 147
        },
        "id": "FfwhSEczMRJ-",
        "outputId": "1ef09a5c-134b-4a41-b70d-ba2c5960f5e8"
      },
      "execution_count": 50,
      "outputs": [
        {
          "output_type": "stream",
          "name": "stderr",
          "text": [
            "No label_names provided for model class `PeftModelForCausalLM`. Since `PeftModel` hides base models input arguments, if label_names is not given, label_names can't be set automatically within `Trainer`. Note that empty label_names list will be used instead.\n"
          ]
        },
        {
          "output_type": "display_data",
          "data": {
            "text/plain": [
              "<IPython.core.display.HTML object>"
            ],
            "text/html": [
              "\n",
              "    <div>\n",
              "      \n",
              "      <progress value='52' max='52' style='width:300px; height:20px; vertical-align: middle;'></progress>\n",
              "      [52/52 00:55, Epoch 2/2]\n",
              "    </div>\n",
              "    <table border=\"1\" class=\"dataframe\">\n",
              "  <thead>\n",
              " <tr style=\"text-align: left;\">\n",
              "      <th>Step</th>\n",
              "      <th>Training Loss</th>\n",
              "    </tr>\n",
              "  </thead>\n",
              "  <tbody>\n",
              "  </tbody>\n",
              "</table><p>"
            ]
          },
          "metadata": {}
        },
        {
          "output_type": "execute_result",
          "data": {
            "text/plain": [
              "TrainOutput(global_step=52, training_loss=6.9615965623122, metrics={'train_runtime': 57.7739, 'train_samples_per_second': 7.027, 'train_steps_per_second': 0.9, 'total_flos': 1238702694211584.0, 'train_loss': 6.9615965623122, 'epoch': 2.0})"
            ]
          },
          "metadata": {},
          "execution_count": 50
        }
      ]
    },
    {
      "cell_type": "code",
      "source": [
        "#Save the model.\n",
        "peft_model_tinyllama_path  = os.path.join(output_directory, f\"lora_model_tinyllama\")\n",
        "\n",
        "trainer.model.save_pretrained(peft_model_tinyllama_path )"
      ],
      "metadata": {
        "id": "K7aVWAxqMUi3"
      },
      "execution_count": 54,
      "outputs": []
    },
    {
      "cell_type": "code",
      "source": [
        "#Load the Model.\n",
        "loaded_model = PeftModel.from_pretrained(foundation_model,\n",
        "                                        peft_model_tinyllama_path,\n",
        "                                        is_trainable=False)"
      ],
      "metadata": {
        "id": "x7i5JFm_MW5T"
      },
      "execution_count": 55,
      "outputs": []
    },
    {
      "cell_type": "markdown",
      "source": [
        "## Inference the fine-tuned model."
      ],
      "metadata": {
        "id": "q1w6Sz8YMZNU"
      }
    },
    {
      "cell_type": "markdown",
      "source": [
        "#### First test with small range from the dataset (50)"
      ],
      "metadata": {
        "id": "B-J-MsO4Z64k"
      }
    },
    {
      "cell_type": "code",
      "source": [
        "input_sentences = tokenizer(\n",
        "    \"Can you give me some advice to stay motivated when I'm tired?\",\n",
        "    return_tensors=\"pt\"\n",
        ")\n",
        "\n",
        "# Move input to same device as model\n",
        "input_sentences = {k: v.to(loaded_model.device) for k, v in input_sentences.items()}\n",
        "\n",
        "# Run generation\n",
        "foundational_outputs_sentence = get_outputs(\n",
        "    loaded_model,\n",
        "    input_sentences,\n",
        "    max_new_tokens=50\n",
        ")\n",
        "\n",
        "print(tokenizer.batch_decode(foundational_outputs_sentence, skip_special_tokens=True))"
      ],
      "metadata": {
        "colab": {
          "base_uri": "https://localhost:8080/"
        },
        "id": "0TFE5LXgMaeP",
        "outputId": "064e954f-f20b-441e-efe4-e5d76324b67c"
      },
      "execution_count": 40,
      "outputs": [
        {
          "output_type": "stream",
          "name": "stderr",
          "text": [
            "The following generation flags are not valid and may be ignored: ['early_stopping']. Set `TRANSFORMERS_VERBOSITY=info` for more details.\n"
          ]
        },
        {
          "output_type": "stream",
          "name": "stdout",
          "text": [
            "[\"Can you give me some advice to stay motivated when I'm tired? and. will for, in need as with it is on your do first work want can or at so that not this the help you needs you you you you you you you you you you you you you you you you you you you you you you\"]\n"
          ]
        }
      ]
    },
    {
      "cell_type": "markdown",
      "source": [
        "Output on a small range (50) from the dataset is not quiet good: \"[\"Can you give me some advice to stay motivated when I'm tired? and. will for, in need as with it is on your do first work want can or at so that not this the help you needs you you you you you you you you you you you you you you you you you you you you you you\"]\n",
        "\"\n",
        "- Repetition\n",
        "- Loss of coherence\n",
        "- Short-token cycling\n",
        "\n",
        "That means:\n",
        "- The model didn’t learn any meaningful pattern\n",
        "- It overfit to the most common tokens in your 50 samples (e.g., \"you\", \"help\", \"can\", etc.)\n",
        "- The LoRA adapter isn’t adding useful knowledge yet"
      ],
      "metadata": {
        "id": "ex2fA7FvXfwz"
      }
    },
    {
      "cell_type": "markdown",
      "source": [
        "#### Second test with all the dataset (203)"
      ],
      "metadata": {
        "id": "Jzwh2T88ZwK1"
      }
    },
    {
      "cell_type": "code",
      "source": [
        "input_sentences = tokenizer(\n",
        "    \"Can you give me some advice to stay motivated when I'm tired?\",\n",
        "    return_tensors=\"pt\"\n",
        ")\n",
        "\n",
        "# Move input to same device as model\n",
        "input_sentences = {k: v.to(loaded_model.device) for k, v in input_sentences.items()}\n",
        "\n",
        "# Run generation\n",
        "foundational_outputs_sentence = get_outputs(\n",
        "    loaded_model,\n",
        "    input_sentences,\n",
        "    max_new_tokens=50\n",
        ")\n",
        "\n",
        "print(tokenizer.batch_decode(foundational_outputs_sentence, skip_special_tokens=True))"
      ],
      "metadata": {
        "colab": {
          "base_uri": "https://localhost:8080/"
        },
        "id": "JqpyYIAlXoGM",
        "outputId": "32cacdb1-fafa-4f8f-e37f-03d340e5c0e8"
      },
      "execution_count": 57,
      "outputs": [
        {
          "output_type": "stream",
          "name": "stderr",
          "text": [
            "The following generation flags are not valid and may be ignored: ['early_stopping']. Set `TRANSFORMERS_VERBOSITY=info` for more details.\n"
          ]
        },
        {
          "output_type": "stream",
          "name": "stdout",
          "text": [
            "['Can you give me some advice to stay motivated when I\\'m tired? the. a will and want, first is of for be with \" My do an your act in You request as provide need or my should help on notations- any that iting can words. how the suggestions. the the the the create.']\n"
          ]
        }
      ]
    },
    {
      "cell_type": "markdown",
      "source": [
        "#### Third test withh better prompt"
      ],
      "metadata": {
        "id": "f40cLeQpbD1Z"
      }
    },
    {
      "cell_type": "code",
      "source": [
        "input_sentences = tokenizer(\n",
        "    \"Act as a motivational coach. Can you give me some advice to stay motivated when I'm tired?\",\n",
        "    return_tensors=\"pt\"\n",
        ")\n",
        "\n",
        "# Move input to same device as model\n",
        "input_sentences = {k: v.to(loaded_model.device) for k, v in input_sentences.items()}\n",
        "\n",
        "# Run generation\n",
        "foundational_outputs_sentence = get_outputs(\n",
        "    loaded_model,\n",
        "    input_sentences,\n",
        "    max_new_tokens=50\n",
        ")\n",
        "\n",
        "print(tokenizer.batch_decode(foundational_outputs_sentence, skip_special_tokens=True))"
      ],
      "metadata": {
        "colab": {
          "base_uri": "https://localhost:8080/"
        },
        "id": "2ShqaXDGbIeW",
        "outputId": "1ffa61b1-ec78-4762-d9ba-10583ff1f7b1"
      },
      "execution_count": 58,
      "outputs": [
        {
          "output_type": "stream",
          "name": "stderr",
          "text": [
            "The following generation flags are not valid and may be ignored: ['early_stopping']. Set `TRANSFORMERS_VERBOSITY=info` for more details.\n"
          ]
        },
        {
          "output_type": "stream",
          "name": "stdout",
          "text": [
            "['Act as a motivational coach. Can you give me some advice to stay motivated when I\\'m tired? the will first want, and do be \" My your is for an with of need in You act or should provide my request- not on words. that help. can suggestionsing create. it.\" any the how theI the the the otherations']\n"
          ]
        }
      ]
    },
    {
      "cell_type": "markdown",
      "source": [
        "## My observationn Report for TinyLLaMA LoRA Fine-Tuning\n",
        "\n",
        "### **Objective**\n",
        "The goal of this experiment was to apply Parameter-Efficient Fine-Tuning (LoRA) to the model TinyLlama/TinyLlama-1.1B-Chat-v1.0 using a prompt-based dataset (fka/awesome-chatgpt-prompts) and assess how well it could specialize in the role of a motivational coach.\n",
        "\n",
        "### **Fine-Tuning Setup**\n",
        "- Used peft with LoraConfig targeting q_proj and v_proj — a common choice for LLaMA models.\n",
        "\n",
        "- Trained using the Hugging Face Trainer API on a Colab A100 GPU.\n",
        "\n",
        "- Only 0.10% of parameters were updated (~1.1M out of 1.1B), making training fast and efficient.\n",
        "\n",
        "- Used DataCollatorForLanguageModeling with mlm=False to train on causal LM objectives.\n",
        "\n",
        "### **Dataset**\n",
        "- Dataset: fka/awesome-chatgpt-prompts\n",
        "- Focused on the \"prompt\" field, ignoring \"act\" for now.\n",
        "- Sample sizes:\n",
        "  - First: 50 examples → poor results due to underfitting\n",
        "  - Second: 203 examples (entire dataset) → slightly improved fluency, still incoherent\n",
        "\n",
        "### **Model Behavior (Inference Tests)**\n",
        "🔹 1st Prompt – Small sample (50)\n",
        "\n",
        "    ```\n",
        "    Prompt: Can you give me some advice to stay motivated when I'm tired?'\n",
        "    Output: ... you you you you you you you ...\n",
        "    ```\n",
        "\n",
        "- ❌ Clear overfitting and repetition\n",
        "- ❌ No meaningful learning\n",
        "- ✅ Model trained but didn’t generaize\n",
        "\n",
        "🔹 2nd Prompt – Full dataset (203)\n",
        "\n",
        "    ```\n",
        "    Output: ... should help on notations- any that iting can words ...\n",
        "    ```\n",
        "\n",
        "- Slightly more diverse output\n",
        "- ❌ Still incoherent, no real motivational guidance\n",
        "- ✅ Token cycling reduced, but grammar and intent were off\n",
        "\n",
        "🔹 3rd Prompt – Better phrasing\n",
        "\n",
        "    ```\n",
        "    Prompt: Act as a motivational coach. Can you give me some advice...?\n",
        "    Output: ... the how theI the the the otherations\n",
        "    ```\n",
        "    \n",
        "- ✅ Prompt more aligned with training style\n",
        "- ❌ Output still incoherent despite framing\n",
        "- ⚠️ Indicates limited understanding transfer from training\n",
        "\n",
        "### **Lessons Learned**\n",
        "![image.png](data:image/png;base64,iVBORw0KGgoAAAANSUhEUgAAA10AAAE3CAYAAABRiytKAAAAAXNSR0IArs4c6QAAAARnQU1BAACxjwv8YQUAAAAJcEhZcwAADsMAAA7DAcdvqGQAAFkoSURBVHhe7d1/eCPXfd/7D/cXV1oZkiyBUizTyoKoszLjhMu4ttE4sfYqS7FxLccpg1hF3aQMfFtH661ctQweZl09crYsSj+KdRX6+iZGeFO7qFI8TFxLvc4KzHblNCliO+YiiVltYhC2Qq8lkbYlwfq1q93l/WMGwMzBABiAmP35fvmBHy3mB2bOzJxzvnO+M+zbvXv3hgAAAADgEraxsaG+vj7z60B0+ltbzC8AAAAA4FLTSRC0WZ3+FkEXAAAAAASIoAsAAAAAAtTHM10AAAAAriQ7duzQ61//evPrmo2NDX3ve9/TmTNnzEldIegCAAAAcMW47bbb9Pa3v73tc1lnzpzRn/3Zn+mb3/ymOaljBF0AAAAArgi7du3SL/zCL+iZZ57RX/7lX2pjwzsU2rJli972trcpFArpkUce0dmzZ81ZOsIzXQAAAACuCLt27ZIkPfXUU3r66af1zDPPeH6+853vaHV1Vdu2bastsxltgq5B3XVoXvmvPalyuWx9niwqPz+tu251z5nMFlUuF5WddH9/SXpXWvkny3rySFoxcxoAXEomsyqWyypmk+aUrsRm8nryG08qP9NJ7ZhWvlxWeTFtTgAA4LzYuXOnbr75Zt1www2SpFAopJtvvrn2GRgY0NatW13LVEfBmo2GdaJF0DWo5GcX9NDk7YqGTmn1b0sq/W1Jq6dCit6e1EO5rJJG4HVJen9aC/+rqPIRR2cgfK36tzlnAgBIUjjUr353m9Qz93z6Syo++eXL4+YdAOCi8ba3vU0f+MAHND4+rne84x2S/VzX+Ph47fOzP/uzisfjuvnmm83Fe6J50DWZ1oF3haXnCnrw50f07vExjY2P6d0j79WDhYoUjunATG/unF5Q1w8qenNIcnYiPv9hvfvvRXTbeEoFx9cAcKV79MC7FYncprHp3teOg9FBhfr7za8BAOjaDTfcoB/90R/V888/r2Kx2PTz9a9/XVu3btU73/lOcxU90TTomv75mEI6paXfS+hTf+2csqxPTee0/LIU+vFx3eecJEkDD+ixr9mpiN8oKv/gBzVYnfbWe/TpxaKe/IY9vZjXQ++vThzUXYey+tLX68t+KTut2+2p1fTFx+YfU/EbZZWLWSU1rce+UVb56wuu7bgn96TK5Se18BFJE2k99r8cv/n1Lymbstc6m1f5UEwhSRqKq1wuKz8r71SYt35QDx1xrOfJovKfvkfDtRmSyhat7Xrgwby1jeWynvyT+ctjRBDAZcJPXTWou35jQV8uVuvjJ1XM3mNNms076srqvI+p+GS9jp3Pfkllz5TGnbpn/ku1evTJxU/rg7eqtk3xIUkKKXaoWscDALA51157rSRpaWmpIdByfv7iL/5Cf/d3f6frrrtOW7Y0DZG61mSNH9TwD0l6eVmF3zKnSXpqRstPS7o6rOi7nBNCGv2l96n/Lx/Vo19c0uqZkKLvn9YnPyJJMT308H26c0gqPfop3f+JnJYq/Qpfby0Zm/ld/cfJmK799uP61AMPKnf8lAZiSf3Hz8Rd6x8elXL/+t2KjCSU0YwKfyPp6qhGa+koSf2DN/dLLy/r2G9JevuoBl9a1uO/c7/u//QTWt06qNiv3KcHbpX0lcf16BMlnZKk9SU9+vlH9fhXHD9Xk1T29x7QXW/u19rxx/Xo5x/X0nP9it55n+Zd2ydpV0zvi1VUePRRPfG3FfW/8Xbd9wm7swIAF4tWddVHPqn/mBhV6LmCPveJ+/WpP16VbqjdPnMZ/D/T+nhiWCGtaumLj+rRr5zSaMx7Xv3wXfrQnnU98ejjWn5O6h+6U8l/HZO0rGOPPaqldUk6pdITj+rRx45p2VweAIAu+Xkuy5yn+kr5dq+W96NJ0NVvpdudOaUXzEm20lpF0rUKvdn9/drRezU2ea/uPTChd//fSzqlfg3ffp+kYSvAenlVhYcf1Oc+ndLET/9TpY5KUlwfuiOq/vUnNDP+YT34nz6lVPwzWqpI4R8b112O9Zfyv6qZx1Zr/545uqRTCmn4Dvue6OQ+DYek9a/k9ClJmhrTyP6E7v3E5/S5T0zqc0sVaeugondIWnhQ9/7puhV0VUq697579eBCbdU1g/e/T7HrpfUn7te74x/Wvfd9WBN3Z7T0shSOxd2jfVtX9cTUhD58372a/BdHVJLUf+tPuPYBAC64VnXVYEj9kionPqP7P/05PfjhMb33X3zKXIMk6Z6fjymkdT3xsXdr4sC9undyTPc+vm7OZjm1pM/dPaEP3/dhvfe3C6pIGvyR90kqKPOxe1WqSNIprf/pvbr3YxnSuwEAl40mQZdtW7+sAblG0YGQpBe0ftT5bUXfXnqi/s/fKmlVUn8oLCmjY39Vka4eVvKPn9SXv/Bp3fdeafUpSRrVG8OSwrcrXX1LYnlasZCk/n4NONa/fqIecEmSPlmwUh2j/0B3SYq/K6qQ1rX8xZw1/a0fVDr7mL70tSf15JNlTcdC7uV9uPPNg5IqKv2pvU5JeupBlZ6WdHVIYefMlW/r639anaek9Yq5DwBwEWhVVz26pNIpKXznvMpfyys780GFnjLqXklSUoM3Wzet/pfjhtUTXy2p4pyt6umSHnzK/u/fWdWa5H6eFgCAC8gc6dq+fbsk6dy5c67vu9Ek6Mpo+duSrh5W7CPmNEm3Tlvph5Vv6+vVBtTLrTvlfCQ688/eq0T6US09fUrht96pe35zQfPOt1Q99bjuve9e92d6To87Zmn0oI7971NSeFg/9/67ND4cltaX9d8WJCmu+cwDiscGdeovH1fu4XuVOe7ZFQAAVP1pSmPxlD73REnrV0cV+8ADWujkT2hc2++q+wEAuJTceeedes973qO3vOUtevHFF/Xiiy+as3SsSdAlfe6olRo4+stZ3fNW55Rh3TMT1/DV0vpXv6CMc5JCCg3Wc/kHf3lIg5IqayVJgxq8dVWF37lXEz89onf/zrJObQ1r9I6kJPsu6xvfqJ9YelSPft7x+WJBXvdXnT71P5d1SmENTfyihsPS6lc/o0cl6f3jGg5LWjmiscl7df+nj6u/v/ORrsdPrkkKKfoux/Nbt96n6A9JernSdvsA4JJy66AG/zqn+yfH9I7bJvX4M1L/m0f1PnM+LatSkRSK6ifuqH8bf+sgQRcA4JJ10003KRwO69lnn9XRo660vq41DbpWP/lR69Xw18d03x8W9aUjeeWP5PXlrz+m+2IhnVrJ6dc+5Ei3sw1/YEELcw/pobkFLXxgWNKqCvMZSXcq/bkvaeHB+/TBX7pP98WsRnnt5LKkjL7w1XVp67A++IW85mce0AMzD2n+C1/Wwoz5Cx5+65iWX5YGYzGFtarjv28/CbC0Zj2T9saYsjNppT/7nxV/i7HsUTvF5Y0xZR/M6qGUMV3S6qdyKjwnhW9/QF/KfVoPPfhpLTyS1OjVp1T64pz17BgAXC7u+V09dmReD3z4Lt1z/4f0luslVdZVMudTQZ/985KksO58MK/5Bx/Sp3Nf0gM/5Uq69s16Vjik4fd9Wp/+TFofNGcAACBA1RdmfPazn9Xv/d7v6Y/+6I/03HPPmbN1pWnQJa0qk3iv7p0vaPWlfg2+Oarom6MKb62o9PiD+vD+lBxPb9kqKnxxWeHb79JdPzuq8KlVPfHJX9WHj0rSmtZPXavR99+jB+6/R3e9WSo9/qA+OmUFSLkPTerBx0uq9Ed1+wc+qA9+4C7F3viCSkvmb3j5lI78pZ02uFLQg7XnFFKa+U/LqmwbVOwDcb3vh1f0eMFIL3zqU8odXdWpbYOKvT+moV3uydY8GSWmMnpi5ZQG33an7nr/nRq9uqKl7K/pV6YaSwEALmmr69Ktt+uD//Yh3fdLMV373JI+97GUkdlgKUx9VA8+sapTu6K6/f136fabv63P/bEVnr3wXGfvH8zMf0HLz0mht96pO3+MJ2EBAL3j5w2EfubpVt/u3bvbvz8RAABfBpXMPqbpWL+Wfus2TXzSnA4AwPlzww036L3vfa+ef/55fetb3zIn12zbtk179uzRyy+/rD/8wz80J28aQRcAoHuzeRXfWdHSV7+tiqTQ8O26/c0haf0Jpd4xqcYkdAAAzq+3ve1t+tEf/VHz6wanTp3SE088oaefftqctGkEXQCA7n1kXl/+lZjCIfvVGWcrWv/fT2ju0L363F+bMwMAcGHs3LlT1113nfl1zblz5/S9731PZ8+eNSf1BEEXAAAAAASoxYs0AAAAAACbRdAFAAAAAAEi6AIAAABwydvYOH9PTXX6WwRdAAAAAC55fX19HQdD3djY2Oj4b3oRdAEAAAC4LHQaDHWjm98g6AIAAACAABF0AQAAAECACLoAAAAAIEBN/zjy7t27za8AAAAAAJK++c1vml811TToAgAAAABsHumFAAAAABAggi4AAAAACBBBFwAAAAAEiKALAAAAAAJE0AUAAAAAASLoAgAAAIAAEXQBAAAAQIAIugAAAAAgQARdAAAAABAggi4AAAAACBBBFwAAAAAEiKALAAAAAAJE0AUAAAAAASLoAgAAAIAAEXQBAAAAQIAIugAAAAAgQG2Drtt23KA/f9Mv6q/e+iv6tde9zZzcYM/Wa/XfB+/SX8U+pHveMGpOBgAAAIArStug619e91btuHqHrg7v1C/f9jZ9LPQOc5aaPVuv1Wfe9DOK/FBYO/u3685r32TOAgAAAABXlLZB1xdfKGvb9n6defmctl+zVf9kz4j+1TU/bs6mN28L6TODd+iG8HXadtUOvfrdF/TIN4vmbJ7Si2WVy47PYtqcpaeS2aLKxayS1r+ULZZVzFr/8iu92PkyF6XJrIrlsvKz1j/dx6Ko7KS5gFVezY9VWnnnsayVc+NvAQiYfc256tfaJy/z6u0Vdx1r1wkNdUV77vX0yGy+9+v0w3EsLuY6MJAyN1zM7afVBgZ3bQC4crUNuh4/9Xf6eOmYTr/0ms68fEbbr9mmf3nb2/XPrvp7tXn+3raQ5gfv0I0D12nbzh069b2K/q9SQY+8+i3XuhpZHfi4copEIvZnRgUNBlrhXwjJbLGrTkd3rHJt37AnlT0Y09pCRGNTVmdkfG2mfiwW1hQ75G580ovTiq1Xj9eMCuG4u/GcHZUWqscyotx6TNPV/Z5PaGShpOhYsA06ANt8QiPV6/lwQRWVlKvVtWNKmfMHIqWxSESR/fVf86wPL1Qw1E5Ptiut/CGrro1E7Pq2hzzL80rTzXHyWCa1/3xeGwCuJG2DLklaeGVFv15a1OkfnNKZl05r++t2KPWWn9Iv7LxVu7ddo/938HbdMHC9tl3Vr9PPvaDfXvmyfvfVsrmaRpP7NByqqPCIs3rLKLE/oYzjGwRkcp+GVVCu2gGYGtNIwlHyUzkVKlGNVoO3yazGh0rK1TpPGSXyJYVi8XpgNjXm6lCkjpekoVHH9JwKiineNiAEgMtJResnzO8AAFcKX0GXJD32ylOaLh/Vq5WXdebFV7UjdJUeeMvt+vyt+3XDwI3atrNfp7//vH575cuae6VkLu5tflVrCim8x5xQV011SGeLtbQYa2TFmcbWmAbXPk2uM671ed1RNNN4avNYo07TsZA0FHdsf6tl7CUd+9ywD8ay7nVOKxaSohMeyzkk7xiWlo/5D3D3hBWqrMt1dKeWVNKABpv8hiTJtUxGx5Yriu71KEMA5527nvFO+/IzT3POFG7v+jC9WFZ5IiqFYpr2qAud3HW7jzSw2Xyb+Y2Uacc8zber+TINJrMqluOKKqTYIWNesw0wRl3M9q+x3L3LU/JYdyfti0N1vuaZE+3Lovv2U67zp9l6ujlOzZbxSq9sff57b1/jsQJwpfMddEnSf39lVf+2fFSvVn6gMy++rB3XXaNdb7zZCriee16/vfIV/dbLK+ZiLaSUK1QUnWhTQYViGtecnfJWUig2rXJ5XOuH7RS2lZBiB52VZFqjjpTFmYKM6Z1JL5YVDxc0U03LOT6q+JB7nuQdYS3b2xOJ5FQaituNVEaJkYhmChVpxdqm6mhS82WsjsJ0bK2eCrSwXP+xyayKh4Zdy67Fpq1l5xMaicyoUJFKCxFFIiNKzNcXrUtq33BIaydbhFz2SGT17mzylgFpfdV/kKaksmNRlfLukcvMyTUpfPmlkAKXmvRiWdPDy/W6za5LnPWxn3n8864PU/utul0Vu551pCI6pRfd6egzhQHFW6WUzeZVnhhQoVZXLml0IuqeZ3Kfwsv1tOrcSlRxuwPedLtaLNNgPqGRSE4lVeztsFPXZvMqu+pxOx3b3B9H++fKRJCalqc20744zeY1HZMKh1ukRLYpi821n3Wh2LRGj1fnsVLbq4FSN8ep6TIGv+e/a/sWSgrFDjQNZAFcmToKuiRp8dQz+k+rx7Vx9ow2zp1T37at2jh7VstP/a0e7ijgsmQSI4ocLkix6eZ30yoFzVUbm6mcChWpUpirBROpRwqqhMKqN6UpjTkq0MzRZWN6ByazGh+qqPCwI3CYGlPO2NVMYswR3KS0tCIN3NK0KyD5WcY5QjSVqM2bvjsmOfa/Frx2PHrUKt3FegbB/TvNuEcr63f7DkgPezTWJ9a7Px4AesOrblNKYwslhYb3WR1/P/OcLw3pzVImcUSl0LD2eXZurZs+zraiuu0u8wmNOYKZ1PFS+5tC3Szj4rVtUmp/zmN/SjrSEGy11237UjOZVXEiqtJCsxt3tlZl4XX+dNt+ruQcbYmV2u5KXffSatv88Nr+Zue/c/umcipUWmfxALjydBx0vWv7Dfqlm/doy/atUl+fNk6f1pbt2/RjQ3v0b676YXN2f6oPey+UrJS4ZncMHVqO0MhIVzgUU8ic7teesEJa02qrRsfmTC0w7+Q103SZqSWV7LQHdyCa1GDYuqvmTHeYjoU6a0wUVbhZodjpMAOFGY87q17cwZv1IHJEkcicdLAxZQbARaBZ3ea8KeJnnvNlT1ghRRV31HtlO23Pu3Nr1XFt2woZKYjmSFgz3SxT02zbSlo3O+tmSncHOm9fqoZ1wH7xR8NNMy/NyqLZ+eOh6bbaKmtGKZxYV8X9jbdm2+ZHs+33OP8btk8egSOAK1pHQdc7dlynT90a01U3vl5brtqps9//rs58d13nXvyBtl17rT5020/q3qs38be5psasN2wNjW9qWD6ZLbrTNg4X/FXOzbRt9Kzny5xpL+advEbtlrHf+HW4oIGJckOefKXgeMtg9TPSyQtISlr3KhRHyosZcHWeFphRYmSGF2cAF6u2dZvPec4b59sX65/mgUGr0XyL9WyPHKl27fe2m2Uatd+27m2ufVFIUkW+sifalkXb86fdtnav7bb50Xb7AcAf30HXT+54vT4zGNNVN9ygrTuv0rnvf19/UF7SR1f+ROd+UNHGiz/Q1muv1a/ueZd+9apbzMX9m1/VmvldR6xnldqmRPh1Yl2VhnQPa7SpZnZU0UpBM01ywj35XcYeBcytRDWeTUrKaHVdCg10eMfOk3FHdTKr4oSUa/YcmMfdPWs/lnXMa/5mvF7IAeD88qzbjOvTzzzny4l1Vdq9tMfFGjUavsN9myh5y4DjX2mNDlVUONzJK8K7WcbkvW3WCFgPgrGu2xdbZVlzI9azVeazS25tysLz/OlB+yk/52CbbfPDc/v9/DYANPIVdMV2XKv/Z/DtuurGsLbsvErnnv+eHvvWkn79ByUdOf09/avyn+jciy9o48WKtlx7nT76lp/Wh3bebK6m0WRWxYY3Ko133ol3sYKS+h06629RNcuka2v+mJYrIcXurm9nMntAMecKzYp5Nu+ZHuEaJWqzTDKbd4z2uRup1CMFVcwHjWfzDWkirVMbrLcIOuexnhXLNW+g5o9pueJ8SLrxRRnpRfcd02T2gGLO19JXOz0dvZADQM/NJ3TE4yVE+QnHNe1nnm55jZqbN3WcPLclqexis/Rlq45z/UmLyawOuCpvM/ix9q2Ba7t8LtNS9c9tuF+2kF6MK7pyxPumVzs9al/qUhqzn7duHni1KYsetp/usmpyDnZznDo+55r8NgC00Tboim7fpd8Z/Pu66sYB9e28WhvPf1ePfmtJ/6ZSv8fz+Onn9NHyn2rjxRekF19QX+h63XfbT+oXr/KsyevmV7Vmv+a2+pkeXtZMR2lyjVL7rTt01joPSPnNpBfaKXLh+nYe0Jw7/WE+obmC7NcBl1Xeu9SQHmE98G3l0BezybbLZE46ppWnNbzseL6q+keGJ+rlVh5bdwQ21QZ9uuWrgDNHlyXjYWDzWbFy2flMllkW1nY5U3tKawOuZy4aj6c9Enm8aWgH4DxJ7bffmFe7ZuOS8RyPn3k61VAfqv53AePl5s/1pvZb6cr1bZlW+Hjz9iKTGLHecFid/6A050oxyyjxcP1FTuXyqJbMFLSG7fKxjB9TY/YfoK/Xl3Hlmr5Fr5WG8txM++JktzWh2HSTY9KuLMw2o7v2U5IqhSPWM8L2OThQcLc9XR2nhmUaBXH+A7gy9e3evXvD/NLpo6+/Vf/05iH1X3uTdr58Wo89dVwffd77Dx/f1X+9Hoz8pM5ctUOvbDmr73z/Wf2j8p+bs+GikVS2OK1w/jw2ILN5lcfWNx1YAwCuBFY71TQwBIBLRNuRrq+c+oFeeq2iM9//jv6oRcAlSY+eek7/9pt/pjMvfl+v/WBdpdMvmrPgomLdCRyYaPYGqx6rvoKYtAwAAABcQdqOdAEAAFwYjHQBuDwQdAEAAABAgNqmFwIAAAAAukfQBQAAAAABIugCAAAAgAARdAEAAABAgAi6AAAAACBABF0AAAAAECCCLgAAAAAIEEEXAAAAAASIoAsAAAAAAkTQBQAAAAABIugCAAAAgAARdAEAAABAgAi6AAAAACBABF0AAAAAEKC+3bt3b5hfStKuXbvMrwAAAAAAkl566SXzq6aaBl0AAAAAgM0jvRAAAAAAAkTQBQAAAAABIugCAAAAgAARdAEAAABAgAi6AAAAACBABF0AAAAAECCCLgAAAAAIEEEXAAAAAASIoAsAAAAAAkTQBQAAAAABIugCAAAAgAARdAEAAABAgAi6AAAAACBABF0AAAAAECCCLgAAAAAIEEEXAAAAAASob/fu3Rvml0791+/Smw7+jK7f+0b19fWZkz1t27ZNW85uqDj1X/WDE8+YkwEAAADgitF2pOvG9+1V/8Dr1H/1DvXv8vfZsWu7dg1co1vvfqe5OgAAAAC4orQNuja2btHZM2d16tRrvj+vvHxar7x6WqdOv2aurkF6saxy2fgsps3ZLmrWPuTld6uT2aLK5aKyk+YUAOihyayKZv1a+9h11my+o/qrO2nly2XlZ83vL6SkssXNbZNX+1XMJs3ZbFYZnNf2bTbfsH0d7W+H50YyW1S5mFWzEmjNOh6tttervF3702J704utjg0ABK9t0NWtjXMbOvfaWfNrT5XCjCKRSP2zP2XO0qG08j6CmmS22JMGMLU/okhkTH63OpMYUSQyosS8OQUAemg+oZFqvXq4oIpKytXqWv911sXFX/1+vrjbr5zWYtPenfvZUUUrFVWGRj2Dgl5LL5ZVnpDjeFvngG7x2LYLbTKrYnlaw8tGX2ChpAFje13lfbiggYkOA0kAuED8BV0b9v9ttP4MbA3pEzf/ssZ2/bj1nbUgAABXgJRyhYpCA1FzgtJ7oyrl57RciWo04CAhmS0qHi5oxgys5xMaS2Sc31wE0sofimltIaIRc9umxhq/c5pPaK5QUXTv+QhjAWBz/AVdsuOnFp9btr1e/27gAwptuVonTn3bXLo7ZmqMMSplpelVp9t3PmfzKpfjiiqk2KFyk1QDK41hOhaShuIq11JCrO+L2bSd5lC9m2qmPbjX6U6pqK4j6UqFcN35NFIgass7U0E8UjRcqRWLadIlAPSOq741681WdaCPOq+BnWpn1Jut6j+pXf1ur9NzG7vjbmPa7VMraY0OlbQ0ldGx5YqiY032r6m08r73J614LKRSPqEW4Yqt0zJrdR44uNIam8xjS2bHFa0UlJsyp3QgPNhheQLA+ecr6Nqw/zew7drafzv/96YdN+pjAx/QNm3Vbzz7+3rqtXV7yuYk7whr+XA9baM0FK+nEczmNR1bq6dOLCxb30+NWfOqosLhZik0GSVGIpopVKSVnCIR9x22UGxcejhSTwGc3KewI+0htxJVvE1aYig2rdHj9RSJUOxA63SYUEzTe5fq+xqK6YCjgU8vlu07l/Y6j48qPuRaAwB0Kar4QWkuElEkMqNCxajjfNSB/uu8pLLFuKIrOUVGrMAgvTit2LpVF0ciEeXs6rxBs/p9MqtiOS4tVNuLiGYKA4q36fC3kl4sa3p4uV7ntkodrJrM6kBMKjzibnWS2XFFV5aUkpQ5uqxKaFj7PMumByYHNaCSltoFMd2UmY/zwN2WtV9ndCCkyvIxHwGit+hASFpf7Xp5ADhffAVd1kjWDfrNN/yKDtzwHvVt9NVGuIa236xDA7+oc30b+vizv6/V0991j4L5EIpNu+4mVgOrTGLM8dxTSksrcud3V9ZVqv73VKJ3z0itHHGvy0jJSB0vtb+ztpLTWLXRm8qpUAkpvMeYx6WkXO1ZNiNFZTKr8aGKCg877lxOjSm3Uv0HAGyGs37JKJEvSc5nj/zUgT7rvPTitGIqaMZ4dreyVqvNlUr4GaWpS98dU8j5+5IyiTkVuk3l86pzldLYQkmh4X2u/Xa1XweluYbndZPaNxxS6bi9v/PHtFwJafiOli1I9/aEFXK2jU10VWZ+zgNXWyZlEkdUUrN1JjUYltZOOo+2MZpmBnVOs3nFhyoNQS4AXIz8BV2Snj79fX3t5RXFdu3RPTe+R30b0m39g/r1m+J6beOsfuPp39fJ099rSDv0w3yRhrMRcKaruEZ2ppZUCsU0bb69qAecjX+NM11iojFf3+S1DvOBYBevRrLamO0JK6Q1rfYqqAQAFx/1S5s60E+dNzBmP2tkj3BVpY6X7OCl+YhIc1bHvfH3M1pdb9wGX5rVuSfWVQmF5dz7Wvt1uKBKKKa42R5N7tNwyDnyZKUYmsFbI2fqX1xRRRX3mbInYxsbbaLM2pwHjW1ZSesV1xcN3L9nZaJYo2SNC7qC3Akp1xDkAsDFyXfQdVbn9Mm1/6avvvwNxXb9iH7tpgmlbvrHenXjNX38mUd08rXvuVION89qcOJypJy4RnZSGrMbuoEJH43QJjS8BWrBbKjOg4aGDADOj57WgV6pdVNjjlS0NqMbTbhHS3qg0zp3PqGRhZKiE8Yzv3cMK+QKmOznib3KwcVu4+zUxpLfN0+eWFdFAxpsuW5Lp2XW0/NAqgegHi8eacZ9k9YohxPragzTAODi0D7ocoxandvY0EPPfkF//tLf6K1X3arK2Vd0/9NZPX36ua5GuFqaHVW00piC0sB+JXJuJarxVrn2XUtrdKiiwuEWjVzQTqx7PANg3akEgGD1rg5cy49opiDFDnnfJLP+nEZOpaHxJs+DebFGZxrfYOeVuuaTZ53rI3VvKqdCxdkW2amFjuem6jcRQ4rdbW5zD8wndKTtursps27Pg6jCoYrWT5jfWzJHl1Xp6Hi3ML+qNc9Uxlb7BQDnR/ugS7KiKPu18BsbG3r42Uf12e8e1cef/i9aO/18w6vj6x9zPR0wG73ZvCu9MJnNOypprwDE+3mCBg356KaS1l3592nlvVIqgmQ/A+BsRJPZA4qFXHMBQAB6WwdmEiPWCxhq2QlJZRcdb/ObHNSAcwFP7vo99UhBFeeLlqp1pLp8K141cDnofMugtd+t3wpoPQ9Xe4nIbFwxV2phXeq48dxcD6X2Wy+eangL5GRWeTsg7LzMfJ4HDS+BiitqPiftNJ/QXEGKHerFowLWs9/maGP1OULv/QKA86Nt0LUh6dxr58yvdaSypLXXXjC/7h1HRVwul1Xeu+RKL8ycdEyz/6hi/Q2E1osoom3SDjOJI7Xnwpq/kSqjxMMFqZZHPqqlTadUdCqjxMiMCmHr9fblclkHNMeLNACcB72vA1P77TcklovKTma0KqseLpfLKh8a1vLhVs/peNTv8wmN1FLN7RS+4eWGZ8e8WOtxfOzUxtT+iHLrju2y3/TnfObYk/0SkdjBrD6/NyrZby1sMLXU4gUTppTGzFS6lqzURPf2l1U+FNZStZ3suMx8ngeVgo7oQG2d8XD7jJVMYsTxqIBje2Jrrpdy+JHa70hTdW5D0/0CgPOjb/fu3S3Ho37ol39KOwev1643Xqftr9thTva0pW+Ltu/crmeOPqlvzf0PczJ6IqlscVrhvI9OAAAAAIALpm3Qdc3wGxX6mWFtf12/tvZvU19fnzlLg74+acu2rXr2D76mF77CcEwQktmi/XfKOrn7CQAAAOB8axt04WJgjWq5nuGqkC4BAAAAXAoIugAAAAAgQG1fpAEAAAAA6B5BFwAAAAAEiKALAAAAAAJE0AUAAAAAASLoAgAAAIAAEXQBAAAAQIAIugAAAAAgQARdAAAAABAggi4AAAAACBBBFwAAAAAEiKALAAAAAAJE0AUAAAAAASLoAgAAAIAAEXQBAAAAQID6du/evWF+KUm7du0yvwIAAAAASHrppZfMr5pqGnQBAAAAADaP9EIAAAAACBBBFwAAAAAEiKALAAAAAAJE0AUAAAAAASLoAgAAAIAAEXQBAAAAQIAIugAAAAAgQARdAAAAABAggi4AAAAACBBBFwAAAAAEiKALAAAAAAJE0AUAAAAAASLoAgAAAIAAEXQBAAAAQIAIugAAAAAgQARdAAAAABAggi4AAAAACBBBFwAAAAAEaFNB1++l3qz/+Z//vvl1R9KLZZXL7k9+1pwL3UkrXy6rvJg2J1ySktmiysWsktJlt29AYCazKpbz8rxSJrMqlssqZq2rSrN5lZvN21ZS2aJjXb3QatsvOhemTqq1oWbdaB9Xa7q/Muxk3otRMltUuVxUdtKc0syFOWYW63qhv3PlcPdhgnFpXcMBtBkXua6DrrtvD+un33m9brlmiz71799qTu5IpTCjSCRifQ4XNDBBRdSNZLZoNB4pjUUiiuxPOb67XDTuW+P+A2hpPqGRSEQjiYw55QrSq85vY50UtGS2qHi4oJlIRJGRhDJKKluMa8BuU0cSGaX2RxSJjMnPVnUyr1/+6uW08h0FS94yiRFFIiNKzJtTmjn/x2wz/JUlWuvsXLvUyjyIa7gTl1p5nW9dB13//D03SWclnZV++tadGnzDVeYs3ZlPaK5QUXQvBw0AgJbWV2WGzGsnzW8AABdaV0HXx//JmxR909X60l+c0R8cPaNd2/v00KG3mLNtTniwNgRrpQzU0w+9hiJbz1MdwkwrWyy3ST+w5q2vx1rGfRfUPY97uNhKV8jPuudpuItqp/V4bm81xWc2b02v3jWo/rthGeu3pmMhaSjumOY9dGumdLq3zef2m1z7U1R21kgLmsyq2FDujXec3Ntmzu/k3Dfv/U8veqSNXFLpSkDQqte7+b3NrnOcdYj7Gm12LXnXPZrNt06vMeuRPe7Jnuk5Xus06sqm+zeZVbE8rVhIik401jmt60qTuc9+6tJmbYnXcXGPyKUXzTrv88p77ItXmZntZXWdXvM2P971/XXO075dMszmVS7HFVVIsUP136huS9re1tqyTdvBxvTY2v44l3HtXzfHzOM8Nds7T+51FrNRc4YW+9aiLJsu05x5/N3LVMukTX+pWtZmWTjnbdaX6XgbHOtueiybHG/ncWlyrnnrvszd+9ak/BzzNZxf0ubLoPpF07qweq7X05Fd1171O88+VH199ektystcp8c+e9chl5+Og65bb9qpn7tjQDor/clfbeiPl85KZ6W9123Vz94+YM7elehAqHb3Lr1Y1vTwspU+EYkoEslpLTbtOih+5pGkUGxcejjSIv0gqWxxWrH1XC3dcU7jioUa5xlerqdE5tZjmjZOzOjEAfu3IpopVBSdMAKQQ8NaPuzeXvdJGFV875I13U59SO+Vco40TMUO2BdzRokR63e0Ym27d7qQdVHEVd+/ZumcLbffNJlV8VBMawvV/ZmTxmJyFZsvaY06tm2mIMUOtuig1Xjvf+p4SRoadW138o5hhVaWLtjQO3DJmMyqOBFVaaFen6QX3fXHTGFAcTPgkSRldGy5otDwPncHfm9UleVjDSMzUg/rkdm8yhPuunJgoknHZz6hkciMChWptOBsG/zXle20qkvTi+72JrdsLNxCar9Z571fY5774pbMFjUdW3OVz7o5k83P8Q7FpjV63F7XQkmhTtulqTFFIjmVVFHhcMSdGhWKaVxzrmWbt4NNhGKarralkZxKoZgOtOnUtTpm3Z2nfvoWrfateVk2X8Zb7/pLsvopB6W56roW1hQ7ZF5rHn2ZjrchotyKHSiNrdvLNTmWruNtn7PV4KrVudagyzKfzbuvr4UmF/VsXtMxqXA4orEpc2JdV2VQNZlVcWLA3lfvaz06MaqlSESRyIwKlaji5bKmB47U5q8MxV11XvKOsKvvWqpNb15e7eqc5nXI5afjoCv1/jfomu1bpDOSzknakPXfZ6SpX9ptzt652bziQxUVHklJk1mND1VUeDjhaKRTGlso1RtzP/NUrRxpUXlImo0rFiop58jvziTmVKgY86igOUfjkXqkoIrRua8U5mq/lUkcUUkDGrRPovTdMckxXUop15BSaZeBQ2q/o4KYP6blSkhh405wSx771yyds9X2m9J3xxRayTkqjowSDxfkLDZ/Uhpzlv3RZVVCYXncD/RnakklRTVaqzCS2jccUul482oWgCSllT8Ukwoz9et6MqvxIbN+PKJSaFj7POoG6/p1TktrdKii5aMeHe+e1SNJZceiKi0468qEjqyENHxHk46Jlw7qynba1aWVtVLtv1MJZzsWhLTiMalw2F0+Ca9On9/j7TxmUzkVOm2XWirpiBGodd4OOvfBamtDA61blVbHrKvz1ON8auhbdLVvHS7Ty/6SZPVTnOuyj7/7WjP6Mh1sg/M4pB4pqOL6vWbH0iznI0Y/YPPalnllXbWreirRWI61G1qtAlpLd2XgtKbV6m94XOv1ujKjRL7kLr/5hI6sSAO31I9KJjHm6rsuGdMb+ahzPOqQjurrS0hHQdc/3Hu97nzHjbVnuWrsf79JGzr0q60OvrdQbLo+7Dgh5ap3VvaEFXKeMFUn1uudcT/z2JyNm5fkLQPui8VD8pYB606Kc3j1UEwhoyFtzKmvXpRJDYaNfS7bQ7KOlErXhVLjTE+w0kg60Wz/MifXjN9utf0ma3/ala1vzqHrQ+3uHrZjVQi1TpIdMOe8OhgAbAMat1/G4BqZ2BNWSNad0HrdZaXqeNYNdmek2ngms+OKNu3I9aoeiSpcS6+rf+JDatMxceukrmynVV2aOl6y24IWmQS9NDuqqGfb4sHn8fY6Zq07YR3wOAYdt4Ne62hzDJsfs+7O02bnU6MO903qbJke9pcs5royWjWHUsx5OtiGRh7LmRrKuaT1lhFxY+qbOeLWqEWZTy2pZPcRvUfFh3XAHiltNcLVnI8yqJo/pmV79Kr9Ptkayq+RMxUwPmRONfioc/yda5eHjoKuf3HnzfWA66w9yrXh+PdZ6ed+/AZzsbZcby80h3t9nAC+5vHL46HkBhX7bVGuT/s7Fk7ufbY/Iy3uctrPHtTTGq00ko752b8uNDZSnUtmiyo70y4Pt7l76EPqkYIqdgPbMrUJgIt519lSqqeIOD7enQfrzqkV7PgbZe5FPSJV0+uMT6dvqAuornSZGlOklgLl8fxEEDpqLzs53udBr9rBTerqPG13PnWzb90s09HxD8jFsA0O1lsv6+e3ZxpsVdsyt9+IaacjN9xQCUmqOG4GB8pK+aumb7Z6vswf6/kvZ8pxbsWcx8NFdrwvJN9B17957y36sR9+XS2V0Cu9UGek129s6JHf3Gsu3p0T60Z6im1PWKHqQfQzj0+Zk2sNzwBV75xWZU6uSW3vxrRi3Qnq5K6rVH0WKde6MmjDe//su3DtGoSmrP1pqED2hN2jVPOrWnP+W5ImB1V/CtDulPkYbu/I/DEta1j7JlunNgGoWtORkRkVZDyremJdlRZpxp6mllQaGlV6cp+GQyUtNe2s+6tHMicbahGr/qqx7mpvdqQlmLqyOavTl1NpaNzuFHndnXe3RV1p1l566eZ4B6wX7eDm+DtPTd7nk/t4drNvHS/T7Ph30V/yZo0EtgxKA98GU1ThUEXrJ8zvu+O7zO0/x5FbiWrcOcpUWdbciPUslO/Rp02zAsGZghS726zVOjA7qmiloJlObmA1O95XKF9B142hHfq5tzvSCu3P2yN9+qkf2drw/Tv6t2vvbdeZq+mcnYvvfplCWvmJqEp5e1TIzzx+2c8AOS+Q9GLcHWBN5ayHDV13JNPKd3CH0noGzP1wombzTYaiLWalncwe8E4jaJU24bXtk1kdiKnh+bFOWC+sqHYWVCt/t5LWKyHHBZ9U9qAzfdBszMzpPjXsf0bHlqXhg+OKVpZ1rJcBHXDZyihhdwxqoy+edW1S2UWvF2lUpbS0EtX4wfYvsPFVj5xYVyUUU7xaV05mdcBVEdqja8aD2Mlsvu0dXlegFlBd6WaUnesmlF0fjtWnN7RF3fA6hpNZZb3aHq95zW32q6Fe9tIkTdXBdzsYIF/nqclH38L3vjnK0vcyVZ7HtMv+kmS9JMP1RsID7VP4e74NBuPFEunFuEdac/tzzaWDMnfXNVYQ2iilscMFyePlIT1l9CujA61ODh/MAGo2751e6LzevY53szrnCuAr6PrY+27RG0I7pDMbrs/1/dL1O93fVT//4eCbzdV0JbXffjugI6dcRi6sn3n8SWmsNgxrrWv0uDl07OiM1H5vXOudNMTzCY0slNzPHYytt66opsaUW6nn1x/QkYY0AushZ6scvC/kjBIjMyqEHdt+aFjLhzc5ujQ1Zr+1qLo/o1pqSA20HzauldsB6eGc665War+zXA9IeXMdrTXb/8zRZSkU6k2FDlySzGdzmj1v4GR1DCpD8doriFP77RGw2nqmFT7e+rpKHS8pFPIRrPipR6ovs6jWnQeluQXj3vjUmHVHt7aesqYHllrUcdVAzZl+E1Bd6ZLRqrMsjfWn9ltvJqtOb2yLutPQXh4alpqMAnRzvE3N6mU3+2VSXulYTj7awcD5OU8b+Ohb+Ni3hrL0sYyp4fh33V+SlX56fLR+ncXWlGv1mIStt9tgqBR0RAdq2xQPmyMzPs81W6dlnjnprHusNETPUTG7HxiKTQeXVnxi3U5xtMtCuc7TrJ3mE5pz1q17lxrSCxvKy+t4t6hzLnd9u3fv3jC/dBrdfY0WPnKb+bUk6Q+Wzur7L0kf+qmt5iRJ0r87+h395//vpPn1JSatfHlc6z1tbK8Ak1kVD4V1xHxG70K4mLYFuNLM5q1XHPvojAGXpCvxHK/9aYaLp11NZovWq+ivpOOAS0rbka6f//HXu5/jcnz+8Y9t1YdiWxu+r37+jx/r/KUaF5v0Ypy0tEuanabYJrUJQBCstCFeYIPLF+c4AH/ajnRdWdLKl428+ZVNDsdeqS6C0aX0ov06U44hcJ7Zfww2ZL2p1TO9BrgUzeZVNp7hKvUqNe5SwkgX0DGCLgAAAAAIUNv0QgAAAABA9wi6AAAAACBABF0AAAAAECCCLgAAAAAIEEEXAAAAAASIoAsAAAAAAkTQBQAAAAABIugCAAAAgAARdAEAAABAgAi6AAAAACBABF0AAAAAECCCLgAAAAAIEEEXAAAAAASIoAsAAAAAAkTQBQAAAAAB6tu9e/eG+aUk7dq1y/wKAAAAACDppZdeMr9qqmnQBQAAAADYPNILAQAAACBABF0AAAAAECCCLgAAAAAIEEEXAAAAAASIoAsAAAAAAkTQBQAAAAABIugCAAAAgAARdAEAAABAgAi6AAAAACBABF0AAAAAECCCLgAAAAAIEEEXAAAAAASIoAsAAAAAAkTQBQAAAAABIugCAAAAgAARdAEAAABAgPp27969YX7p1H/9Lr3p4M/o+r1vVF9fnznZ07Zt27Tl7IaKU/9VPzjxjDkZAAAAAK4YbUe6bnzfXvUPvE79V+9Q/y5/nx27tmvXwDW69e53mqsDAAAAgCtK26BrY+sWnT1zVqdOveb788rLp/XKq6d16vRr5uoapBfLKpfNT1HZSXPOzbF+J6+0OQEALmeTWRXLZZUXW9R+9jzFbNKc0rnZvMrFrHyvaTbfom5OK7/Z9qDl+nugl2V3BUhmi52dHxdYetHvsU0r36Yv49Xfyc86VtHiXPW/Hb11oX73kjKZVbHJcbv0WOex67w0tThPe6V2rVxCdYUfbYOubm2c29C5186aX3uqFGYUiUTqn4U1xQ719kJP7Y8oEhlTypyAi1OnHTcArQ2NNw1e0nfHFDK/vAgks+OKrhxRYl69CcCCMJ/QSCSikUTGnIKL9Zj12mxe5XJcWnD0YyIRzRSk8B73rK7+zuGCBibadHARoCvk/GwhmS22viF3ASSzRcXDBc1EIoqMJJS5SLezG/6Crg37/zZafwa2hvSJm39ZY7t+3PrOWrBzU2OKHC5IsQNX9MUAAL1RUmklpOE7vG5jpDU6VFGlYn5/oSW1bzik0nFuleEiNplVcWJAhcMRjU25J2USIw3fucwnNFeoKLr30u9MAj21vqrL8TaWv6BLdvzU4nPLttfr3w18QKEtV+vEqW+bS3duPqEjDZ2EpLJFx9B8bSTE+t4cGXOmMXilNCSzxabD/O40gNbDqNV1px3rs7bFmW7QeDfF/RvG9OrwbTU1yGs7XNO804dcv7GY9kwVaL6v1XJNO8rd3s7ZfH0ZrxEp53RzqLrNvqUXyypPRKVQTNNN9gtAZ5aOlxSKxRvqsupo0pF1Y4I86pi213qTurJVfdDM5D4Nh0pamqqPJEQVUuyQ8Tt+ttHJ3hZnPdi+Dky65nHXoc50HKON8tomY3td66rWjdXyalX3mfvtnNec5tX2OdqsYjbZ8rebl4/Fsy1tdcxs6UWPfWyVqjWZVdFsKxtGK5r1E+y52+yL2Wa2k747plBtNLZL4cHW56wv5rnn3rdaH6hN293p/kvm9W2fQ+a6W9QBXW2b53Va7avUz4em/axW52era7RhelFZYzTTi/saqW+HeS3Wf691/7ExnbXxXFbD/jvL3Sqz6VhIGop77Kf7fGpaZ1frDdeX1rJNlzHrJ6OucW/TZ1psZ6trvfk5cSH5Cro27P8NbLu29t/O/71px4362MAHtE1b9RvP/r6eem3dnrI5pbWKQgNR+19JZYvTGl6uD83n1mOaXkxLyujYckWh4X2uAt83HFIpbw1NmpLZoqZja8o5hvmrfY70Yllx5RwpAgOKe1QALqGYxjVnp0eWFIpNq1we1/phe1tXQooddK4jrVHXb8iYLklRxQ9Kc5GIIpEZFSpRxR0nZ/KOsJbt9UciOZWG4g2BY22INhJR5Pio4kP16bV52uxrKDYuPezYj0NllcfW7fXmVArFdMDsOEzIVbYDE+YJ33zfUvutMlTF3vb93OkGNm0qp0IlqlFXQ9hiNGk2r/KhYUcdY9e5zvphNq+yfZffmmdJoxPVOts5T7v6oFH67phUyFkp4VNjVl2jiv1bdqq4n210msyqOBFVaaGeDuivDpzW6HH7NxZKCjXNwsgoMVLflsjhgiqqqPCw3Q5NZlV0bW9Oa7Fpo3MSVXzvkjW9Wd03mVXxUExrtXS2GRXW7Gl+y8TRZtVTIxt/u135NG1Lmx0zh9TxkjQ06g4O7hhWaGWpYV6/0ovTiq3Xtze37JzWel/8tJluSQ2G5X39+BQdCPXmrv7kPoWd/aMVd39Bso75dPX4erTdne9/D+sAP9vW4thZq6j2VUZqKclN+1nNzs9212jDtTcnjbVJz57Nu6+RBcdJqS76j5NZFY101pnCgOIegaizzNzprFZdNVOoSCvWPM4U6ejEgVq/b6ZQUXTCDKxsU0sqyWhXnDfMPLTqu6b2m9v0oSbb2SomqGs8Jy4sX0GXNZJ1g37zDb+iAze8R30bfbURrqHtN+vQwC/qXN+GPv7s72v19Hfdo2CbVb0DNBtXTAXNOU6K1CMFVewKO3N0WZXQsPZVL+KWBz2teEwqHHY0AvMJJaask3l8qKSco7HLJI6o5Fy3l4pj26ZyKlSkSmGudpBTjxRUCYVVr4pSGnP+xtFlY7okZ2OtjBL5kuuOWCYx5jiJUlpakQZusadOZjU+5FzeqmRyK9V/+N/Xhv1wbVdKuYIRHI9FVVpwl23jqGXrfQPQa9Z1Fh1zBk1WvZprqCet69h57UtSan/OUT94zZPS2EKpvoDv+sBkpTwuH23VFfX6fXMbndLKH4pJhZl6ypfPOlArufoyUzkVKqGGZ3UaJZU9GJMc22cFku7yyjWkl1VUeKR1J95aj2M/lFEikeqwTEo60vAcmvHbbcunRVvqR0OHrcVNgA5U1urnYCpRD3hb7oufNrNBVOFQResnnN+5RyAaRkmcZvOKD7U/3r7MJzTm7B8d92pTnftvtN1d7b/X+dZtHdBu21ocu6qGEUc//Sy3dteoNbLpqA+UUeLhgtpmZ1fWVSuVqYR7OzvsPzZug5RJzLlvqs3GFQu5y6yTdFbn72cSRxoDqxqr7+lcZ7sbJy37rn61iQlqGs6JC8tf0CXp6dPf19deXlFs1x7dc+N71Lch3dY/qF+/Ka7XNs7qN57+fZ08/b2GtMNNs+8AJW8ZqKebVT+HYgppQIOTkuaPablSv4hbHvTZUUW1plWvA7EnrJCiiruGba0h6PaNrNvaSbNBMziHWA953Snx2EajwnAOHbvuSO0JK+S1vFPX+9pqvVGFQ1J0wrlOa9vqgZm819GmMgSwSVNLro5Kem9UleVjHnfZreu4sQ4rab0WcDSbx8lvfWCYHVW0sqxjZh3h0uz3ndtYNaDxYlwDhRn3Cy981oHOTnxVu05CMnvA6BRYoyLWXez6703HQkbn2KNudElrdMhrv9VZmTg7gTXGb7crn1ZtqS9Gh63pTQD/UserIwXGnfl2++KnzfRknmspjVXvvHsELK7jPyHlenkH3pmeZ442qckxr557Xe1/s/PNyWcd0HbbWhw7m9d12r6f5dTuGrWme/5OK1NLKtn916Ypd4bmZdpsGzJaXa/XS8lbBjzLNHNyzSMYb9T89xu5R6ztGzFtbiQ07bv61DYmsDWW04XlO+g6q3P65Np/01df/oZiu35Ev3bThFI3/WO9uvGaPv7MIzr52vdcKYebZ93xchVYNd3M9alWWHaK4UDU390yj5OxrlQfBnZ8Wj4Q26FktuhOATns406Ji3U3zTl03FDBt9zHqmD2tWS8xSkSaZEqA+A8SSlXkGJ3p2t3jxtHO6rMO/he/MzTeX2Q3httmhru5u/3q9wp6FUB1IGTWR2IyT1qYGt4W2+k/oYu/1rtd6tp3WhTPr7ameZSjxRUsTuBzW8CdGBqTJFaupX5XFKv96Xzu/Tu42+kXJ5Y77AfUJderAZx9rpdo00+dbz/8n2+dVoHNGpz7Dx0289qd412EpBY7EDcTu9ruCHQBV/b0Iu0VT+mcipU7GCn7Q0zH31Xv1rGBBen9kGXY9Tq3MaGHnr2C/rzl/5Gb73qVlXOvqL7n87q6dPP9X6Eyx4arXYIMifX2o6EZI4uW0OLk/s03Opu2Yl1dyqiOc2IlHvPDgoXNnFyzI4qWiloplml5bmP1h2SmkD2taT1SmeNEIDzp1pPZltlA9gjI40pgM50Ku95krcMOP7VRX1gB4PeqeFO3r/vnfK1piMjMyrIyPkPpA5sTCu0WHeiW47w+dJsv1tN8yoTH9qVj2c706H5Y1rWsPZN+kgpnV9V9dG1mslBOc+4qkxixH5exP5TCV3ti9FmerBG1hpfUNOV+VWteaZxWdvRvKNtlZ0rzbNTXe2/9/m26TrA1O7Yeeqmn9XuGrWmN6Tn7Qm3GUGz2X9eIrcS1XirtNOWmmyDcY5kTq41PC+p6rHpeTCW0bFlafiOZPsbJ+36rj75iQkuRu2DLsmKouzXwm9sbOjhZx/VZ797VB9/+r9o7fTzDa+Or3/M9fiTzBbtBzMdFYj9ELj7wdC08s5/zyd0ZCWq8YPDUquDbucTmw8mZmebTFNS2cUmD2Z3xbxorEba10VbZVaQs3n3EK2dbhm725Fnmz2gmPNHAtlX67kR80HzZDbf5MHzFi7BCwq46Nn1ZKxlCoj3dZxejDv+bpadXeDscE5mdcBVyXivp1V90DI13JVO5L1u9zY6ZZQYsR7aro1+BFAHNqYV1lnPHLhfeKTZvO+UI4vXfieVzaabTGtVJm20Kx+v6dW2tMZMvzPZHbaD423ukKvWya+3a2bbaRw7Z0Dmta2uffHRZnqZGrNeWtGTt6PZ6ZbGSwvSi9Nt0i7N4CetvFd6YStd7X8wdUCDdsfOk99+lvv8bHeNWql0zr952L6s3fvaLpBtz2sbq/VO7Rzx6jNXR+DNet9HumE7maPL0vABjbe7cdKu79qKczu99s+MCS5CbYOuDUnnXjtnfq0jlSWtvfaC+XVXGvJnB454DBE6GszavONaN06e1PGSQiG1Puiy3pCSW3fkgx4aluy7gKn99h3R2u9MK3y80/SP1lL7nftyQMr7G/aumU9oriD7VadllfcuGUO0GSVGZlQI18vrgOYahnED2depMestQdVtK5c1PbDUWYNfvaAa0kMAbFbqeKn9A8ZTY7U/VF+9juPKuVKCMomRehpXuazyQWnOTGvqqD5Iat+wR6dAslMjK/azIXan1Mc2uqU0dtjqsFRfL9zTOrDa4TSfNahu73xCIwsl9/MtY+stOtNNNOz3tIariWEN09qVSWvtyqdVW+p5zDxkji5LoeZvG66zX1rgbDsfzjlS4jJadW7roWEtH673JVrvi78204v1xl13mZfL1psAvYLvVqy3tzmuKXs9My1TUK1yUa0vNaol8zpsq7v9730d4K31sfPWvp/lcX62u0Ybrq9RLbVJW8ycdO679ca9Tf0x9fmERmqpinZ5Di8b50jj8TSvB6n6QhKrXFu+9KWd+WNaVqj9n09o23f11rid/mKCi03f7t27W45H/dAv/5R2Dl6vXW+8Tttft8Oc7GlL3xZt37ldzxx9Ut+a+x/mZFww1is2w/nWedAAcEHM5q0/R9Gyg4nLzmRWxUNhHTGfccIlKZktWjfPuwz0cSmif+lH25GuH3z1mzpVOaUfrD6vF1a+r0r5ubafF8rf0/f/dl3PfeUpc3W4gKxUAT/PSgDA+df2eQBchuy0r6Yppbik2KO9LV9khssO/Ut/2o504VJl3XVwpVZX2qUoAABwfqQX7ddFr3Sf/ogLy/rj2K6OhgpGChsuY7N5+88TlJRjpLotgi4AAAAACFDb9EIAAAAAQPcIugAAAAAgQARdAAAAABAggi4AAAAACBBBFwAAAAAEiKALAAAAAAJE0AUAAAAAASLoAgAAAIAAEXQBAAAAQIAIugAAAAAgQARdAAAAABAggi4AgNtsXuViVkn7n+nFssrlvNLGbAAAwB+CLgBAS6n9EUUiY0qZE7qSVr5cVHbS/P5CSCpbLCs/a34PAEBvEXQBAAAAQIAIugDgMmelB1Y/HqNMs3nH9MY0wmS26Eg3TCtfNkeHGkeMktli42/O5lUuxxVVSLFDjt+azVv/7dyOxXRtvdXvGkek3NOdKZH17WyyjsmsiuVpxUJSdKJJuQAA0CMEXQBwWUtrVDlFIhFFIhHNFKTYQUdwMptXeWJAhcPW9EhkSaMTUfcqOjWb13RsTTn7NyMLy9b3U2OKRHIqqWL/njNlMar43iVr/sMFVYbiKpenFc5Xt7ui6IQzIEwqW5zW8PJMbd9y6zFNL7pDxujEAelhj3XMJzQSmVGhIpUWIopERpSYdy0KAEDPEHQBwGUtpbH99dAmc3RZlVBYVliVVHYsqkphzhFwpDS2UKrN37XKumprmUr4CGhKylW3cz6hIyuSVnIam7K+yiSOqKQBDVZHo2bjiqmguUSmtobUIwVVhkZdI3XOfWtYBwAA5wlBFwBc7iazKlZT8A7FFKpNiCocktZO1gOXnphaUikU07RnSqB/lbXmwV/ylgHJ/o1aeuGhmEJGUNW4byGF9xhfAQAQMIIuALiMJbNFlQ8Na7maPni4oIprjorWT7i+6IGUxuzfGpjwfk6sJyoFzVRTGGsf0gQBABcfgi4AuGwltW84pNJCs0CkpPVKSMN31F8/oeooUlMlrbujttqIWYP5hEYiEeVWohrPun9jszIn16RamiQAABc3gi4AuGxltLouRfdWx5mSyh50phdmdGy5olAsXh+JmszqQMwrgqqy1znm/OPJcVfwk8zmHW8CTGow7Jgo9SbFbyqnQiWquOvFGWnljRdp+DFwS28DQgAATARdAHAZS+3PqTQUt597OiDl3emFmcSIZgoDilefizoozbV5kUZqf672zFa5XNbocestgFWZk7JfCV9WuWy9YXCk9sKLlHKFiv2a9s2kHWaUGHHuW1nl8rjWH+nkTzhnlMiXFIpN88p4AECg+nbv3r1hfgkAQFUyW9T0wBFFHG9BBAAA/jHSBQBoIa14LKTScQIuAAC6RdAFAGhUe818XAOFmdrfywIAAJ0jvRAAAAAAAsRIFwAAAAAEiKALAAAAAAJE0AUAAAAAASLoAgAAAIAAEXQBAAAAQIAIugAAAAAgQARdAAAAABAggi4AAAAACBBBFwAAAAAEiKALAAAAAAJE0AUAAAAAASLoAgAAAIAAEXQBAAAAQIAIugAAAAAgQARdAAAAABCgvt27d2+YX0rSrl27zK8AAAAAAJJeeukl86ummgZdAAAAAIDNI70QAAAAAAJE0AUAAAAAASLoAgAAAIAAEXQBAAAAQIAIugAAAAAgQARdAAAAABAggi4AAAAACBBBFwAAAAAEiKALAAAAAAJE0AUAAAAAASLoAgAAAIAAEXQBAAAAQIAIugAAAAAgQARdAAAAABAggi4AAAAACBBBFwAAAAAEiKALAAAAAALUt3v37g3zy1bGhvbq3bcOa+j6G/WG112jUP+GlitP64t/+1f6/F//lV4+fdpcBAAAAACuWB2NdP3u2EEdHvl5jQ/s1d7XDeqWqwcU2hlW7KY36zd+5uf1pwd/TZPvfJe5WEvpxbLKZfcnP2vOdRmazatczitt/9Mqh/q/AaBnJrMquurZorKT9rQe1EXJbFHlYlZJc0KHuvltoLm08pdKn8K+RovZTVxFHa2jddlcatdiMlt012ttWftfXrwY9rD1sQjCpXZ8Lxe+g67s/vv093e9QVtfPasXv/+Czp27Rn1nr5Ze65fOXS3pGl131U069A8/qM998IC5eEuVwowikYj1OVzQwMT5Pfk6l1a+o4u7vdT+iCKRMaXMCZeoZLZ4gSozr2OTVLZ4sZ9TQEBm8yofGtbyYbuOjUQUWVhTeI85oyWoushPnRDUb8OrXsRFZT6hkUhEI4mMOcW/XqzDdt6uxdl8T27YZBIjikRGlJg3pzST0lgkosj+wPfwonTeji9cfAVd9/3EL+gtO1+vZ9Ze1EunrtdN1/6I+jeuswKu1/qljZ2SdkpXvU56dZt+8kfepo+8+2fN1fgzn9BcoaLo3taNMwCgvfTeqLRyxN0ZmRrT2JTj3wAAIFC+gq7Y4B6tfucF9e8c0A9d/8Pa3heSzu6QXttpfc71S307pG3bpL4t0tU79JGf+QVzNZ0JD1p3PqqpL7N5Ky3GcafUGk6up8y4h9St0Y1iNq1s0Uipqa6rXG64w1JLk3HO4xyCnc2rXI4rqpBih9oMz7rWYW6fm1d6jiv1cjGt9KJzHdX9S7rmc/9GdcjaHkZ37Iur7DzuPrvTPp372O53renTsZA0FPfYprrqPqcd22LN69zexruz7m0z06SMYzOZVbE8rVhIik6Y67O2tbYuV/mbZVctA+e2eZcdcDEprVXq9akPnddFDp51a+d1gnO5ntfhHnWPc3vMlPf6CHm97nMyy6t53dn4u/Xfbl3nmemhrm2otpGuefy0Wa3qP1Oreq/delpNr9az7nmaZyV4ZC3M5j3rdfc62qy/Vfl2vI0e/ZZambVah5Fi1ot1OL6rraPh+FTZ89nTva/FZu1+lXvbqtdus7JKL5ZVnohKoZima/vXeJ3UfqdVn6paXvY/PesB176b17PP42zWK7PtRuq819tYdmoov8bz3KMv3KpMWlx77uPrvY0N++66TorKzmZVbNUHRgNfQdetG1drZ2hA4Wtukc71q+/MDun0zvpI15kd0nOnpL/5vnRyq/TUVm3r26l/+Q/+obkqX6IDIWl9VfUB8qjie5estBh7KDi9WNb08LJmqukykZzWYtMNJ3IoNi49bM2TW7EbnbF1e7mcSqGYDpgnfyim6ervRSKaKQwoXj2xpsas5VRR4XDr4dn0XinnSJtU7EBjY9pEerGseLhQ37/jo4oPmXNJodi0Ro9XU4ZKCnn8RnRiVEuRiCKRGRUqUcXLZU0PHKltV2Uo7rq40otlxZVz779RqTT/3YwSIxHNFCrSirWOlqkOoZjGNedYz7TK5XGt26lQuZWQYgfdjfSoa9tUn+51bOYTGonMqFCRSgsRR/pBUtnitIaX66mtufWYpo0gql52Y0opqWwxroFaOuyMCmuu2YGLTiZxRKVQTNNdNo5+6yJ3vemsWzusEww9r8Md81TrHmt7rA6Hs+5zp7tndGy5otDwPlfHbd9wSKV8QhmfdWfHdd5kVkVXeqjV1rk7RFHFD0pz1XqpElW8Wpd51YuS0ovTiq3XtzW37FyfU6t6r1092m66JTpxoHaMZwoVRSeanavWMXBmwiRvGZAUcqTLRhUOVbR+ojZL6/X7Kt826/Dk6LfY7Wy5PK1w/nyuI6182Xnsmh1n6xhHV3KKjFjnspfm7b5qx9p5Ts1pXLGQex1Oqf3WelSx6xdnql/D9dlFn6ppndRcy+M8m1d5YsC+jiKKRJY0OhF1r6AJ53qb9Vdb/rY1R2NfuEWZ+L/GLS1/fzKr4qGY1haq+zAnjcXU4vDCg6+g66UzWxQO3aqdW2/Ua2e367vfXFHlO89o45QdeL10TurfJd18g/Qj26SbzkjPvKKfHPxRc1XtzeYVH6qo8IgzlDH+PZnV+FBFhYedlUNKYwslo0GUKoW5WlpN6pGCKnIul1KuUFFowLxoSso5Lv5M4ohKimrUjPrbSO13BGTzx7RccTYMLXjt39SYcivu2SRJK7l6mtBUTgWP3ygtVLcjo0S+5N6/+YSOrEgDt9ilNpnV+JDH/oeGtc9Zufn4XV8qBc1VO2BTORUqHscsFFb9CKU05ty2o8vGdJ9m44rJ8dvV3xoadVVylUKuIaheO1ldJqNEwpwKXGysZxdyK9YNl9Z3ZQ2d1EWuetOuW436uBsN9UHP6vCSjjiDv9m4YiH3cma6u1XfOOrCyX0aDpW0NNVB3dlhnZe+OyY5plf32Z2C7ywTu573MbpZWSvV/juVaN7ZVrN6r1092m66zbn/1rEa0GCTznTm5JpUWz6pfcNSacVRHrOjilaWdcyRTtu4/vq54K98vdbRfBstje2ss908H+tIZscVXcm5bnJ4Hef04rRiKmim3fNNrdp9j+snk5hToVL7Z4eM67OrPpVHndRQV7g1P85JZceirunVfqcf5nJe9WPjb5t1ltk3bl8mnVzjjb9fP7fSd8cUch5/ZZR4uKCuD+8VylfQdW7b67Rj4yqp/2o9/3clbb3mGu28/od0bmOLlVp4JmQFX69ukV7eIp3ZIp3Z0PU7rzNX5cm602cPWU5IuYaHIde06vz3nrBC5neSdGLdRwfcYzlTZV3uy6ik9a7OLOdQrZXi5kuz/fPgvKCqagFUMw3757AnrJDszlntY6WmNLuQq9r+rk/1xr0J5xD3oe7utCRvGainNLjW5W7A3Nti32Wd6LDjClwErAenZ1RQTNNeKWxeOqiLWtYrPeVjexq2xaMON+ZJ3jLQ8J2qnfxqAGN3aobvsK7+5B3DCq0sWZ0en3Wnl+Z1XlKDYaONLNupmq6gyqNM2rSFqePVUTbzbrqpeb3Xrh5tN72qcf9blNnUUr0zOLlPw1pW7pFlVezySN4yoMryMVfnsnH9VX7L12sdLbaxCa92s1P+12GNwrabf2CsaI1ktxjhqvJaV7Xdb3b9dM1zXR32qbzW0eZmRPPjHFU45DXdH3O5zMnGNBlznkYe13mLMvF/jVsaf7+679Z14nX80RlfQde3Ks9qm3ao8sw3dfa1V7Rj1zXSxln17TgnvfaSdLpfemmHtHZO+u4Z6fk+6dp+/eCVV81VeXK9vbBFup6L18V0MbGfJaqnVVgpbr5d0P0r1YerHZ+L4cH7ZLbofhPb4U3caammNLg+ZsDvZr0hyU6RacifBi52VqpfbiWk2N1+muELXRedZ660di92iuFAtNapLR13tljB1J3uNtL++OgktzQ1pkgt9dJ8TsutZb3Xrh5tN71jKS2tWIFv8o5hafmYMvOrWgsNa9+kdUwaO4+tBVK+FwlfZWGOxnar7fWzCZvtU/WEO231gmtXJh1c4374OpfQkq+ga/LYA/rwV+/XsfWC+nbt1OnXXtaG+rTl9FlpY5t0qiI9+4LUt8sa+Xp1i/TKdv35333dXFVvnFh3p3hU7QkrFEgHoTFHvB3rDqh7WN83z/2z7jQE7sS6Ki3SFS4su5OzsJkG25I5udb2TnArqf3V/Om4rztIwMWktOazt3Ih66Keal+Hu9PW6pK3DLg6k5mjy1Z63OQ+DaugXDWgCqTuzGh1XW1TojbDCqhyKg2Ntx39NOu9dvVou+ndKq1ZgW90QFo+mqkFYuE9UYWr6Z6+BF++F461b2aapGktP2I9G33I32hIM97XjzU61Aub6lP1REnrjlHuKuuZws6Z9Uo3/JZJJ9e4tybn0p5wV5lGVzJfQZck/Y+nC/ro1z+pv914VtqyTf3brpbOXSXpGmnrjdLVN9pphVuls3167qWKMkt/ZK6mN+YTOmI+bKy08hPR2gPNm2I8bJlejCtqvnK5TWqBWQElswfaD4VX2SkszjvRHS2/GZ5lm1R2sYt0ujbD+J0zL/yksge90gu9j40r/XEq537YXLLOoZZ3gozpVDi4BKQXzVTCtOIxc4SmiV7XRT2vE5rwVYcbvOqEyawOxOR+jmI+oSMrUY0ftEdZXN/3qO50sJ6Bcr/sSLP5hhc9tOesF43tmhxU865ji3rPq8yc87eb3iUr8I0rPlRPt0odLyk6EVe0mu7pU+/K9+LjtW/pbOP5mEmM2M98biLwmlpSSVGNm9eda6YmfATmm+pT9YQ9yu280TqZ1QGfG2G+lKKhXulC6zLp5BpvL3W8JLmCNqvPjc74DrqqJr98vx59+n+q9IOnjCk7pLN90pk+/d3zz+ifP/Yf9NJpf+mF3Ujtr6c6VHPntbD5NA7JSoc4ogO1/O542HzA1H7QdqLcPFd2aqz+4Hq5rAM60sFQeEaJkRkVwtbrla3l55o8vN57qf3V5z7qecLh450Fs/U3pvU2BS+1P6eS/drpcvmAlDfTC72OjfVguZXbXO2AZpQYca6rbL1BrGUlWNK645hYzx/6TIcFLpDSmuxXhXdTV/auLgqqTvDUtg730rivVipz48h66nhJoVB1lMXxfQ/qzgbzCY0slOw6zf6MrddH2Hwx68WMVp3b2WQ/La3qvXb1aLvpXZo/puWKJGeAdWJdFcnfzQSnnpTvRWo+oRH7DZy1a2HAe3Qltb/6dmPzJo1fKY3Zb+Wr/tbocR8pgNXAvNwm/W1TfareyCRG6ql65bLKB6U5ny/SKC0sabR2vcW01oOMndZl0sk17sPUmCILa462ZFRLm3m84wrVt3v37g3zy278o13v0EM3f1i/uj6nfOUvzMmXjGS2aL2K/qLL57ZexxrO++0sAUAQLu666OKtw4ErTVr58rjWN9PZv8gls0XrT/A0valjvbbf/42uS8hs3vrzHdS1vnU80tXMf3/py/rVZ39L33j1pDkJPWANG3eSqw4AvUddBMCP9GK84fX9lxU7vbDj0dXLgpVeaL4pFK31LOiSpPyLX9M3Tz9tfo2OGX9FvFz9Q9CksgE4n6iLAPiRVt5RT5TL9h8Kv4xGQZLZomv/qm9SvuxGsLzM5t37bo/etXuJB9x6ll4IAAAAAGjU05EuAAAAAIAbQRcAAAAABIigCwAAAAACRNAFAAAAAAEi6AIAAACAABF0AQAAAECACLoAAAAAIEAEXQAAAAAQIIIuAAAAAAgQQRcAAAAABIigCwAAAAACRNAFAAAAAAEi6AIAAACAABF0AQAAAECACLoAAAAAIEAEXQAAAAAQIIIuAAAAAAgQQRcAAAAABIigCwAAAAACRNAFAAAAAAEi6AIAAACAAP3/x6enBvEoXjIAAAAASUVORK5CYII=)\n",
        "\n",
        "### **What Could Improve It**\n",
        "- Use filtered or task-specific prompts (e.g., \"act\" == 'Motivational coach')\n",
        "- Increase dataset size to at least 1,000–2,000 examples\n",
        "- Train for more epochs (5+)\n",
        "- Add validation set or W&B logging to monitor learning\n",
        "- Try alternative prompt strategies or instruction formatting\n",
        "\n",
        "\n",
        "### **Conclusion**\n",
        "Despite the lack of strong results, this lab demonstrated:\n",
        "- How to fine-tune a large model efficiently with LoRA\n",
        "- How to tokenize, train, save, and infer with a Hugging Face + PEFT pipeline\n",
        "- The importance of prompt design and training data quality in low-resource instruction tuning\n",
        "\n",
        "It was a meaningful exploration, and a solid foundation for scaling future experiments.\n"
      ],
      "metadata": {
        "id": "4fkC_9mXc13H"
      }
    }
  ],
  "metadata": {
    "colab": {
      "provenance": [],
      "machine_shape": "hm",
      "gpuType": "A100"
    },
    "kernelspec": {
      "display_name": "Python 3",
      "name": "python3"
    },
    "language_info": {
      "codemirror_mode": {
        "name": "ipython",
        "version": 3
      },
      "file_extension": ".py",
      "mimetype": "text/x-python",
      "name": "python",
      "nbconvert_exporter": "python",
      "pygments_lexer": "ipython3",
      "version": "3.11.8"
    },
    "widgets": {
      "application/vnd.jupyter.widget-state+json": {
        "c61c66ee559f4f0aa4aab7b0c1399ed8": {
          "model_module": "@jupyter-widgets/controls",
          "model_name": "HBoxModel",
          "model_module_version": "1.5.0",
          "state": {
            "_dom_classes": [],
            "_model_module": "@jupyter-widgets/controls",
            "_model_module_version": "1.5.0",
            "_model_name": "HBoxModel",
            "_view_count": null,
            "_view_module": "@jupyter-widgets/controls",
            "_view_module_version": "1.5.0",
            "_view_name": "HBoxView",
            "box_style": "",
            "children": [
              "IPY_MODEL_068c2d4282f74ef18b2613371a0ea025",
              "IPY_MODEL_88498fa38be24514933edc6193af02aa",
              "IPY_MODEL_179dd1e20e7747998f8fd7f85db40f06"
            ],
            "layout": "IPY_MODEL_7ed2c0871497467f8ecd91cb27e79615"
          }
        },
        "068c2d4282f74ef18b2613371a0ea025": {
          "model_module": "@jupyter-widgets/controls",
          "model_name": "HTMLModel",
          "model_module_version": "1.5.0",
          "state": {
            "_dom_classes": [],
            "_model_module": "@jupyter-widgets/controls",
            "_model_module_version": "1.5.0",
            "_model_name": "HTMLModel",
            "_view_count": null,
            "_view_module": "@jupyter-widgets/controls",
            "_view_module_version": "1.5.0",
            "_view_name": "HTMLView",
            "description": "",
            "description_tooltip": null,
            "layout": "IPY_MODEL_7d05a8e7db2c44a69e133701a5559b39",
            "placeholder": "​",
            "style": "IPY_MODEL_b7dbda85c3db497d9b87e9fff1dc09e8",
            "value": "tokenizer_config.json: 100%"
          }
        },
        "88498fa38be24514933edc6193af02aa": {
          "model_module": "@jupyter-widgets/controls",
          "model_name": "FloatProgressModel",
          "model_module_version": "1.5.0",
          "state": {
            "_dom_classes": [],
            "_model_module": "@jupyter-widgets/controls",
            "_model_module_version": "1.5.0",
            "_model_name": "FloatProgressModel",
            "_view_count": null,
            "_view_module": "@jupyter-widgets/controls",
            "_view_module_version": "1.5.0",
            "_view_name": "ProgressView",
            "bar_style": "success",
            "description": "",
            "description_tooltip": null,
            "layout": "IPY_MODEL_35754e8a54844570bbe54f9be89ca54f",
            "max": 222,
            "min": 0,
            "orientation": "horizontal",
            "style": "IPY_MODEL_1e151ab6dc3f453b9320c91c275b1cdb",
            "value": 222
          }
        },
        "179dd1e20e7747998f8fd7f85db40f06": {
          "model_module": "@jupyter-widgets/controls",
          "model_name": "HTMLModel",
          "model_module_version": "1.5.0",
          "state": {
            "_dom_classes": [],
            "_model_module": "@jupyter-widgets/controls",
            "_model_module_version": "1.5.0",
            "_model_name": "HTMLModel",
            "_view_count": null,
            "_view_module": "@jupyter-widgets/controls",
            "_view_module_version": "1.5.0",
            "_view_name": "HTMLView",
            "description": "",
            "description_tooltip": null,
            "layout": "IPY_MODEL_9c38ab3107a94cd8b9bc9d007b45a3fb",
            "placeholder": "​",
            "style": "IPY_MODEL_4e65e76e9d3443dc8052277f1c250c05",
            "value": " 222/222 [00:00&lt;00:00, 9.85kB/s]"
          }
        },
        "7ed2c0871497467f8ecd91cb27e79615": {
          "model_module": "@jupyter-widgets/base",
          "model_name": "LayoutModel",
          "model_module_version": "1.2.0",
          "state": {
            "_model_module": "@jupyter-widgets/base",
            "_model_module_version": "1.2.0",
            "_model_name": "LayoutModel",
            "_view_count": null,
            "_view_module": "@jupyter-widgets/base",
            "_view_module_version": "1.2.0",
            "_view_name": "LayoutView",
            "align_content": null,
            "align_items": null,
            "align_self": null,
            "border": null,
            "bottom": null,
            "display": null,
            "flex": null,
            "flex_flow": null,
            "grid_area": null,
            "grid_auto_columns": null,
            "grid_auto_flow": null,
            "grid_auto_rows": null,
            "grid_column": null,
            "grid_gap": null,
            "grid_row": null,
            "grid_template_areas": null,
            "grid_template_columns": null,
            "grid_template_rows": null,
            "height": null,
            "justify_content": null,
            "justify_items": null,
            "left": null,
            "margin": null,
            "max_height": null,
            "max_width": null,
            "min_height": null,
            "min_width": null,
            "object_fit": null,
            "object_position": null,
            "order": null,
            "overflow": null,
            "overflow_x": null,
            "overflow_y": null,
            "padding": null,
            "right": null,
            "top": null,
            "visibility": null,
            "width": null
          }
        },
        "7d05a8e7db2c44a69e133701a5559b39": {
          "model_module": "@jupyter-widgets/base",
          "model_name": "LayoutModel",
          "model_module_version": "1.2.0",
          "state": {
            "_model_module": "@jupyter-widgets/base",
            "_model_module_version": "1.2.0",
            "_model_name": "LayoutModel",
            "_view_count": null,
            "_view_module": "@jupyter-widgets/base",
            "_view_module_version": "1.2.0",
            "_view_name": "LayoutView",
            "align_content": null,
            "align_items": null,
            "align_self": null,
            "border": null,
            "bottom": null,
            "display": null,
            "flex": null,
            "flex_flow": null,
            "grid_area": null,
            "grid_auto_columns": null,
            "grid_auto_flow": null,
            "grid_auto_rows": null,
            "grid_column": null,
            "grid_gap": null,
            "grid_row": null,
            "grid_template_areas": null,
            "grid_template_columns": null,
            "grid_template_rows": null,
            "height": null,
            "justify_content": null,
            "justify_items": null,
            "left": null,
            "margin": null,
            "max_height": null,
            "max_width": null,
            "min_height": null,
            "min_width": null,
            "object_fit": null,
            "object_position": null,
            "order": null,
            "overflow": null,
            "overflow_x": null,
            "overflow_y": null,
            "padding": null,
            "right": null,
            "top": null,
            "visibility": null,
            "width": null
          }
        },
        "b7dbda85c3db497d9b87e9fff1dc09e8": {
          "model_module": "@jupyter-widgets/controls",
          "model_name": "DescriptionStyleModel",
          "model_module_version": "1.5.0",
          "state": {
            "_model_module": "@jupyter-widgets/controls",
            "_model_module_version": "1.5.0",
            "_model_name": "DescriptionStyleModel",
            "_view_count": null,
            "_view_module": "@jupyter-widgets/base",
            "_view_module_version": "1.2.0",
            "_view_name": "StyleView",
            "description_width": ""
          }
        },
        "35754e8a54844570bbe54f9be89ca54f": {
          "model_module": "@jupyter-widgets/base",
          "model_name": "LayoutModel",
          "model_module_version": "1.2.0",
          "state": {
            "_model_module": "@jupyter-widgets/base",
            "_model_module_version": "1.2.0",
            "_model_name": "LayoutModel",
            "_view_count": null,
            "_view_module": "@jupyter-widgets/base",
            "_view_module_version": "1.2.0",
            "_view_name": "LayoutView",
            "align_content": null,
            "align_items": null,
            "align_self": null,
            "border": null,
            "bottom": null,
            "display": null,
            "flex": null,
            "flex_flow": null,
            "grid_area": null,
            "grid_auto_columns": null,
            "grid_auto_flow": null,
            "grid_auto_rows": null,
            "grid_column": null,
            "grid_gap": null,
            "grid_row": null,
            "grid_template_areas": null,
            "grid_template_columns": null,
            "grid_template_rows": null,
            "height": null,
            "justify_content": null,
            "justify_items": null,
            "left": null,
            "margin": null,
            "max_height": null,
            "max_width": null,
            "min_height": null,
            "min_width": null,
            "object_fit": null,
            "object_position": null,
            "order": null,
            "overflow": null,
            "overflow_x": null,
            "overflow_y": null,
            "padding": null,
            "right": null,
            "top": null,
            "visibility": null,
            "width": null
          }
        },
        "1e151ab6dc3f453b9320c91c275b1cdb": {
          "model_module": "@jupyter-widgets/controls",
          "model_name": "ProgressStyleModel",
          "model_module_version": "1.5.0",
          "state": {
            "_model_module": "@jupyter-widgets/controls",
            "_model_module_version": "1.5.0",
            "_model_name": "ProgressStyleModel",
            "_view_count": null,
            "_view_module": "@jupyter-widgets/base",
            "_view_module_version": "1.2.0",
            "_view_name": "StyleView",
            "bar_color": null,
            "description_width": ""
          }
        },
        "9c38ab3107a94cd8b9bc9d007b45a3fb": {
          "model_module": "@jupyter-widgets/base",
          "model_name": "LayoutModel",
          "model_module_version": "1.2.0",
          "state": {
            "_model_module": "@jupyter-widgets/base",
            "_model_module_version": "1.2.0",
            "_model_name": "LayoutModel",
            "_view_count": null,
            "_view_module": "@jupyter-widgets/base",
            "_view_module_version": "1.2.0",
            "_view_name": "LayoutView",
            "align_content": null,
            "align_items": null,
            "align_self": null,
            "border": null,
            "bottom": null,
            "display": null,
            "flex": null,
            "flex_flow": null,
            "grid_area": null,
            "grid_auto_columns": null,
            "grid_auto_flow": null,
            "grid_auto_rows": null,
            "grid_column": null,
            "grid_gap": null,
            "grid_row": null,
            "grid_template_areas": null,
            "grid_template_columns": null,
            "grid_template_rows": null,
            "height": null,
            "justify_content": null,
            "justify_items": null,
            "left": null,
            "margin": null,
            "max_height": null,
            "max_width": null,
            "min_height": null,
            "min_width": null,
            "object_fit": null,
            "object_position": null,
            "order": null,
            "overflow": null,
            "overflow_x": null,
            "overflow_y": null,
            "padding": null,
            "right": null,
            "top": null,
            "visibility": null,
            "width": null
          }
        },
        "4e65e76e9d3443dc8052277f1c250c05": {
          "model_module": "@jupyter-widgets/controls",
          "model_name": "DescriptionStyleModel",
          "model_module_version": "1.5.0",
          "state": {
            "_model_module": "@jupyter-widgets/controls",
            "_model_module_version": "1.5.0",
            "_model_name": "DescriptionStyleModel",
            "_view_count": null,
            "_view_module": "@jupyter-widgets/base",
            "_view_module_version": "1.2.0",
            "_view_name": "StyleView",
            "description_width": ""
          }
        },
        "aaa0501990e7476e81b0a88a00c9e2ec": {
          "model_module": "@jupyter-widgets/controls",
          "model_name": "HBoxModel",
          "model_module_version": "1.5.0",
          "state": {
            "_dom_classes": [],
            "_model_module": "@jupyter-widgets/controls",
            "_model_module_version": "1.5.0",
            "_model_name": "HBoxModel",
            "_view_count": null,
            "_view_module": "@jupyter-widgets/controls",
            "_view_module_version": "1.5.0",
            "_view_name": "HBoxView",
            "box_style": "",
            "children": [
              "IPY_MODEL_f53e20b6cf7e46118acf31cbcb980e91",
              "IPY_MODEL_85c9e719eae848e6a44a38af27a4aec8",
              "IPY_MODEL_59f8ee92fa4c4ac79cee2c3dba34d092"
            ],
            "layout": "IPY_MODEL_0073a3a4dc30467f9be77936e7051cf2"
          }
        },
        "f53e20b6cf7e46118acf31cbcb980e91": {
          "model_module": "@jupyter-widgets/controls",
          "model_name": "HTMLModel",
          "model_module_version": "1.5.0",
          "state": {
            "_dom_classes": [],
            "_model_module": "@jupyter-widgets/controls",
            "_model_module_version": "1.5.0",
            "_model_name": "HTMLModel",
            "_view_count": null,
            "_view_module": "@jupyter-widgets/controls",
            "_view_module_version": "1.5.0",
            "_view_name": "HTMLView",
            "description": "",
            "description_tooltip": null,
            "layout": "IPY_MODEL_d6544f0e96c8414098bb578a74b0f00f",
            "placeholder": "​",
            "style": "IPY_MODEL_e282cd6ced8a421aac875fc25fe13eec",
            "value": "tokenizer.json: 100%"
          }
        },
        "85c9e719eae848e6a44a38af27a4aec8": {
          "model_module": "@jupyter-widgets/controls",
          "model_name": "FloatProgressModel",
          "model_module_version": "1.5.0",
          "state": {
            "_dom_classes": [],
            "_model_module": "@jupyter-widgets/controls",
            "_model_module_version": "1.5.0",
            "_model_name": "FloatProgressModel",
            "_view_count": null,
            "_view_module": "@jupyter-widgets/controls",
            "_view_module_version": "1.5.0",
            "_view_name": "ProgressView",
            "bar_style": "success",
            "description": "",
            "description_tooltip": null,
            "layout": "IPY_MODEL_f186186458f74faa8caafe7fd0e4fcd2",
            "max": 14500438,
            "min": 0,
            "orientation": "horizontal",
            "style": "IPY_MODEL_37d5e7d2f4d04867b3310ac974ed5a0f",
            "value": 14500438
          }
        },
        "59f8ee92fa4c4ac79cee2c3dba34d092": {
          "model_module": "@jupyter-widgets/controls",
          "model_name": "HTMLModel",
          "model_module_version": "1.5.0",
          "state": {
            "_dom_classes": [],
            "_model_module": "@jupyter-widgets/controls",
            "_model_module_version": "1.5.0",
            "_model_name": "HTMLModel",
            "_view_count": null,
            "_view_module": "@jupyter-widgets/controls",
            "_view_module_version": "1.5.0",
            "_view_name": "HTMLView",
            "description": "",
            "description_tooltip": null,
            "layout": "IPY_MODEL_e7728ba8285d406ca7412bc11acd975e",
            "placeholder": "​",
            "style": "IPY_MODEL_e45139fb188c489c8fd6926d0478b18f",
            "value": " 14.5M/14.5M [00:00&lt;00:00, 34.0MB/s]"
          }
        },
        "0073a3a4dc30467f9be77936e7051cf2": {
          "model_module": "@jupyter-widgets/base",
          "model_name": "LayoutModel",
          "model_module_version": "1.2.0",
          "state": {
            "_model_module": "@jupyter-widgets/base",
            "_model_module_version": "1.2.0",
            "_model_name": "LayoutModel",
            "_view_count": null,
            "_view_module": "@jupyter-widgets/base",
            "_view_module_version": "1.2.0",
            "_view_name": "LayoutView",
            "align_content": null,
            "align_items": null,
            "align_self": null,
            "border": null,
            "bottom": null,
            "display": null,
            "flex": null,
            "flex_flow": null,
            "grid_area": null,
            "grid_auto_columns": null,
            "grid_auto_flow": null,
            "grid_auto_rows": null,
            "grid_column": null,
            "grid_gap": null,
            "grid_row": null,
            "grid_template_areas": null,
            "grid_template_columns": null,
            "grid_template_rows": null,
            "height": null,
            "justify_content": null,
            "justify_items": null,
            "left": null,
            "margin": null,
            "max_height": null,
            "max_width": null,
            "min_height": null,
            "min_width": null,
            "object_fit": null,
            "object_position": null,
            "order": null,
            "overflow": null,
            "overflow_x": null,
            "overflow_y": null,
            "padding": null,
            "right": null,
            "top": null,
            "visibility": null,
            "width": null
          }
        },
        "d6544f0e96c8414098bb578a74b0f00f": {
          "model_module": "@jupyter-widgets/base",
          "model_name": "LayoutModel",
          "model_module_version": "1.2.0",
          "state": {
            "_model_module": "@jupyter-widgets/base",
            "_model_module_version": "1.2.0",
            "_model_name": "LayoutModel",
            "_view_count": null,
            "_view_module": "@jupyter-widgets/base",
            "_view_module_version": "1.2.0",
            "_view_name": "LayoutView",
            "align_content": null,
            "align_items": null,
            "align_self": null,
            "border": null,
            "bottom": null,
            "display": null,
            "flex": null,
            "flex_flow": null,
            "grid_area": null,
            "grid_auto_columns": null,
            "grid_auto_flow": null,
            "grid_auto_rows": null,
            "grid_column": null,
            "grid_gap": null,
            "grid_row": null,
            "grid_template_areas": null,
            "grid_template_columns": null,
            "grid_template_rows": null,
            "height": null,
            "justify_content": null,
            "justify_items": null,
            "left": null,
            "margin": null,
            "max_height": null,
            "max_width": null,
            "min_height": null,
            "min_width": null,
            "object_fit": null,
            "object_position": null,
            "order": null,
            "overflow": null,
            "overflow_x": null,
            "overflow_y": null,
            "padding": null,
            "right": null,
            "top": null,
            "visibility": null,
            "width": null
          }
        },
        "e282cd6ced8a421aac875fc25fe13eec": {
          "model_module": "@jupyter-widgets/controls",
          "model_name": "DescriptionStyleModel",
          "model_module_version": "1.5.0",
          "state": {
            "_model_module": "@jupyter-widgets/controls",
            "_model_module_version": "1.5.0",
            "_model_name": "DescriptionStyleModel",
            "_view_count": null,
            "_view_module": "@jupyter-widgets/base",
            "_view_module_version": "1.2.0",
            "_view_name": "StyleView",
            "description_width": ""
          }
        },
        "f186186458f74faa8caafe7fd0e4fcd2": {
          "model_module": "@jupyter-widgets/base",
          "model_name": "LayoutModel",
          "model_module_version": "1.2.0",
          "state": {
            "_model_module": "@jupyter-widgets/base",
            "_model_module_version": "1.2.0",
            "_model_name": "LayoutModel",
            "_view_count": null,
            "_view_module": "@jupyter-widgets/base",
            "_view_module_version": "1.2.0",
            "_view_name": "LayoutView",
            "align_content": null,
            "align_items": null,
            "align_self": null,
            "border": null,
            "bottom": null,
            "display": null,
            "flex": null,
            "flex_flow": null,
            "grid_area": null,
            "grid_auto_columns": null,
            "grid_auto_flow": null,
            "grid_auto_rows": null,
            "grid_column": null,
            "grid_gap": null,
            "grid_row": null,
            "grid_template_areas": null,
            "grid_template_columns": null,
            "grid_template_rows": null,
            "height": null,
            "justify_content": null,
            "justify_items": null,
            "left": null,
            "margin": null,
            "max_height": null,
            "max_width": null,
            "min_height": null,
            "min_width": null,
            "object_fit": null,
            "object_position": null,
            "order": null,
            "overflow": null,
            "overflow_x": null,
            "overflow_y": null,
            "padding": null,
            "right": null,
            "top": null,
            "visibility": null,
            "width": null
          }
        },
        "37d5e7d2f4d04867b3310ac974ed5a0f": {
          "model_module": "@jupyter-widgets/controls",
          "model_name": "ProgressStyleModel",
          "model_module_version": "1.5.0",
          "state": {
            "_model_module": "@jupyter-widgets/controls",
            "_model_module_version": "1.5.0",
            "_model_name": "ProgressStyleModel",
            "_view_count": null,
            "_view_module": "@jupyter-widgets/base",
            "_view_module_version": "1.2.0",
            "_view_name": "StyleView",
            "bar_color": null,
            "description_width": ""
          }
        },
        "e7728ba8285d406ca7412bc11acd975e": {
          "model_module": "@jupyter-widgets/base",
          "model_name": "LayoutModel",
          "model_module_version": "1.2.0",
          "state": {
            "_model_module": "@jupyter-widgets/base",
            "_model_module_version": "1.2.0",
            "_model_name": "LayoutModel",
            "_view_count": null,
            "_view_module": "@jupyter-widgets/base",
            "_view_module_version": "1.2.0",
            "_view_name": "LayoutView",
            "align_content": null,
            "align_items": null,
            "align_self": null,
            "border": null,
            "bottom": null,
            "display": null,
            "flex": null,
            "flex_flow": null,
            "grid_area": null,
            "grid_auto_columns": null,
            "grid_auto_flow": null,
            "grid_auto_rows": null,
            "grid_column": null,
            "grid_gap": null,
            "grid_row": null,
            "grid_template_areas": null,
            "grid_template_columns": null,
            "grid_template_rows": null,
            "height": null,
            "justify_content": null,
            "justify_items": null,
            "left": null,
            "margin": null,
            "max_height": null,
            "max_width": null,
            "min_height": null,
            "min_width": null,
            "object_fit": null,
            "object_position": null,
            "order": null,
            "overflow": null,
            "overflow_x": null,
            "overflow_y": null,
            "padding": null,
            "right": null,
            "top": null,
            "visibility": null,
            "width": null
          }
        },
        "e45139fb188c489c8fd6926d0478b18f": {
          "model_module": "@jupyter-widgets/controls",
          "model_name": "DescriptionStyleModel",
          "model_module_version": "1.5.0",
          "state": {
            "_model_module": "@jupyter-widgets/controls",
            "_model_module_version": "1.5.0",
            "_model_name": "DescriptionStyleModel",
            "_view_count": null,
            "_view_module": "@jupyter-widgets/base",
            "_view_module_version": "1.2.0",
            "_view_name": "StyleView",
            "description_width": ""
          }
        },
        "4d7a9e3a6f9f4067adf314cfa2b9de8d": {
          "model_module": "@jupyter-widgets/controls",
          "model_name": "HBoxModel",
          "model_module_version": "1.5.0",
          "state": {
            "_dom_classes": [],
            "_model_module": "@jupyter-widgets/controls",
            "_model_module_version": "1.5.0",
            "_model_name": "HBoxModel",
            "_view_count": null,
            "_view_module": "@jupyter-widgets/controls",
            "_view_module_version": "1.5.0",
            "_view_name": "HBoxView",
            "box_style": "",
            "children": [
              "IPY_MODEL_81f30b44c0d445599b6503812f602452",
              "IPY_MODEL_786f9d9c78cd4caba4d93c1b082831de",
              "IPY_MODEL_cabef224dafc46e985dcc755985bc779"
            ],
            "layout": "IPY_MODEL_9b5e46d2c6934e6fa6d3cda600a0db73"
          }
        },
        "81f30b44c0d445599b6503812f602452": {
          "model_module": "@jupyter-widgets/controls",
          "model_name": "HTMLModel",
          "model_module_version": "1.5.0",
          "state": {
            "_dom_classes": [],
            "_model_module": "@jupyter-widgets/controls",
            "_model_module_version": "1.5.0",
            "_model_name": "HTMLModel",
            "_view_count": null,
            "_view_module": "@jupyter-widgets/controls",
            "_view_module_version": "1.5.0",
            "_view_name": "HTMLView",
            "description": "",
            "description_tooltip": null,
            "layout": "IPY_MODEL_2e11a712b8174b7e89d380f65c32ce98",
            "placeholder": "​",
            "style": "IPY_MODEL_9b35dd959cbb4eb695da225895cf34e8",
            "value": "special_tokens_map.json: 100%"
          }
        },
        "786f9d9c78cd4caba4d93c1b082831de": {
          "model_module": "@jupyter-widgets/controls",
          "model_name": "FloatProgressModel",
          "model_module_version": "1.5.0",
          "state": {
            "_dom_classes": [],
            "_model_module": "@jupyter-widgets/controls",
            "_model_module_version": "1.5.0",
            "_model_name": "FloatProgressModel",
            "_view_count": null,
            "_view_module": "@jupyter-widgets/controls",
            "_view_module_version": "1.5.0",
            "_view_name": "ProgressView",
            "bar_style": "success",
            "description": "",
            "description_tooltip": null,
            "layout": "IPY_MODEL_9d2e982bb74444c08abda21a681f2e69",
            "max": 85,
            "min": 0,
            "orientation": "horizontal",
            "style": "IPY_MODEL_3f62e00f29c6414cabe91f30c132d507",
            "value": 85
          }
        },
        "cabef224dafc46e985dcc755985bc779": {
          "model_module": "@jupyter-widgets/controls",
          "model_name": "HTMLModel",
          "model_module_version": "1.5.0",
          "state": {
            "_dom_classes": [],
            "_model_module": "@jupyter-widgets/controls",
            "_model_module_version": "1.5.0",
            "_model_name": "HTMLModel",
            "_view_count": null,
            "_view_module": "@jupyter-widgets/controls",
            "_view_module_version": "1.5.0",
            "_view_name": "HTMLView",
            "description": "",
            "description_tooltip": null,
            "layout": "IPY_MODEL_5ee8d5b8fa7249428b57afe8e935818e",
            "placeholder": "​",
            "style": "IPY_MODEL_2e6d4e94a212437e95fc608488ad933e",
            "value": " 85.0/85.0 [00:00&lt;00:00, 4.46kB/s]"
          }
        },
        "9b5e46d2c6934e6fa6d3cda600a0db73": {
          "model_module": "@jupyter-widgets/base",
          "model_name": "LayoutModel",
          "model_module_version": "1.2.0",
          "state": {
            "_model_module": "@jupyter-widgets/base",
            "_model_module_version": "1.2.0",
            "_model_name": "LayoutModel",
            "_view_count": null,
            "_view_module": "@jupyter-widgets/base",
            "_view_module_version": "1.2.0",
            "_view_name": "LayoutView",
            "align_content": null,
            "align_items": null,
            "align_self": null,
            "border": null,
            "bottom": null,
            "display": null,
            "flex": null,
            "flex_flow": null,
            "grid_area": null,
            "grid_auto_columns": null,
            "grid_auto_flow": null,
            "grid_auto_rows": null,
            "grid_column": null,
            "grid_gap": null,
            "grid_row": null,
            "grid_template_areas": null,
            "grid_template_columns": null,
            "grid_template_rows": null,
            "height": null,
            "justify_content": null,
            "justify_items": null,
            "left": null,
            "margin": null,
            "max_height": null,
            "max_width": null,
            "min_height": null,
            "min_width": null,
            "object_fit": null,
            "object_position": null,
            "order": null,
            "overflow": null,
            "overflow_x": null,
            "overflow_y": null,
            "padding": null,
            "right": null,
            "top": null,
            "visibility": null,
            "width": null
          }
        },
        "2e11a712b8174b7e89d380f65c32ce98": {
          "model_module": "@jupyter-widgets/base",
          "model_name": "LayoutModel",
          "model_module_version": "1.2.0",
          "state": {
            "_model_module": "@jupyter-widgets/base",
            "_model_module_version": "1.2.0",
            "_model_name": "LayoutModel",
            "_view_count": null,
            "_view_module": "@jupyter-widgets/base",
            "_view_module_version": "1.2.0",
            "_view_name": "LayoutView",
            "align_content": null,
            "align_items": null,
            "align_self": null,
            "border": null,
            "bottom": null,
            "display": null,
            "flex": null,
            "flex_flow": null,
            "grid_area": null,
            "grid_auto_columns": null,
            "grid_auto_flow": null,
            "grid_auto_rows": null,
            "grid_column": null,
            "grid_gap": null,
            "grid_row": null,
            "grid_template_areas": null,
            "grid_template_columns": null,
            "grid_template_rows": null,
            "height": null,
            "justify_content": null,
            "justify_items": null,
            "left": null,
            "margin": null,
            "max_height": null,
            "max_width": null,
            "min_height": null,
            "min_width": null,
            "object_fit": null,
            "object_position": null,
            "order": null,
            "overflow": null,
            "overflow_x": null,
            "overflow_y": null,
            "padding": null,
            "right": null,
            "top": null,
            "visibility": null,
            "width": null
          }
        },
        "9b35dd959cbb4eb695da225895cf34e8": {
          "model_module": "@jupyter-widgets/controls",
          "model_name": "DescriptionStyleModel",
          "model_module_version": "1.5.0",
          "state": {
            "_model_module": "@jupyter-widgets/controls",
            "_model_module_version": "1.5.0",
            "_model_name": "DescriptionStyleModel",
            "_view_count": null,
            "_view_module": "@jupyter-widgets/base",
            "_view_module_version": "1.2.0",
            "_view_name": "StyleView",
            "description_width": ""
          }
        },
        "9d2e982bb74444c08abda21a681f2e69": {
          "model_module": "@jupyter-widgets/base",
          "model_name": "LayoutModel",
          "model_module_version": "1.2.0",
          "state": {
            "_model_module": "@jupyter-widgets/base",
            "_model_module_version": "1.2.0",
            "_model_name": "LayoutModel",
            "_view_count": null,
            "_view_module": "@jupyter-widgets/base",
            "_view_module_version": "1.2.0",
            "_view_name": "LayoutView",
            "align_content": null,
            "align_items": null,
            "align_self": null,
            "border": null,
            "bottom": null,
            "display": null,
            "flex": null,
            "flex_flow": null,
            "grid_area": null,
            "grid_auto_columns": null,
            "grid_auto_flow": null,
            "grid_auto_rows": null,
            "grid_column": null,
            "grid_gap": null,
            "grid_row": null,
            "grid_template_areas": null,
            "grid_template_columns": null,
            "grid_template_rows": null,
            "height": null,
            "justify_content": null,
            "justify_items": null,
            "left": null,
            "margin": null,
            "max_height": null,
            "max_width": null,
            "min_height": null,
            "min_width": null,
            "object_fit": null,
            "object_position": null,
            "order": null,
            "overflow": null,
            "overflow_x": null,
            "overflow_y": null,
            "padding": null,
            "right": null,
            "top": null,
            "visibility": null,
            "width": null
          }
        },
        "3f62e00f29c6414cabe91f30c132d507": {
          "model_module": "@jupyter-widgets/controls",
          "model_name": "ProgressStyleModel",
          "model_module_version": "1.5.0",
          "state": {
            "_model_module": "@jupyter-widgets/controls",
            "_model_module_version": "1.5.0",
            "_model_name": "ProgressStyleModel",
            "_view_count": null,
            "_view_module": "@jupyter-widgets/base",
            "_view_module_version": "1.2.0",
            "_view_name": "StyleView",
            "bar_color": null,
            "description_width": ""
          }
        },
        "5ee8d5b8fa7249428b57afe8e935818e": {
          "model_module": "@jupyter-widgets/base",
          "model_name": "LayoutModel",
          "model_module_version": "1.2.0",
          "state": {
            "_model_module": "@jupyter-widgets/base",
            "_model_module_version": "1.2.0",
            "_model_name": "LayoutModel",
            "_view_count": null,
            "_view_module": "@jupyter-widgets/base",
            "_view_module_version": "1.2.0",
            "_view_name": "LayoutView",
            "align_content": null,
            "align_items": null,
            "align_self": null,
            "border": null,
            "bottom": null,
            "display": null,
            "flex": null,
            "flex_flow": null,
            "grid_area": null,
            "grid_auto_columns": null,
            "grid_auto_flow": null,
            "grid_auto_rows": null,
            "grid_column": null,
            "grid_gap": null,
            "grid_row": null,
            "grid_template_areas": null,
            "grid_template_columns": null,
            "grid_template_rows": null,
            "height": null,
            "justify_content": null,
            "justify_items": null,
            "left": null,
            "margin": null,
            "max_height": null,
            "max_width": null,
            "min_height": null,
            "min_width": null,
            "object_fit": null,
            "object_position": null,
            "order": null,
            "overflow": null,
            "overflow_x": null,
            "overflow_y": null,
            "padding": null,
            "right": null,
            "top": null,
            "visibility": null,
            "width": null
          }
        },
        "2e6d4e94a212437e95fc608488ad933e": {
          "model_module": "@jupyter-widgets/controls",
          "model_name": "DescriptionStyleModel",
          "model_module_version": "1.5.0",
          "state": {
            "_model_module": "@jupyter-widgets/controls",
            "_model_module_version": "1.5.0",
            "_model_name": "DescriptionStyleModel",
            "_view_count": null,
            "_view_module": "@jupyter-widgets/base",
            "_view_module_version": "1.2.0",
            "_view_name": "StyleView",
            "description_width": ""
          }
        },
        "85e067394c8c47a1873f339930aa4c55": {
          "model_module": "@jupyter-widgets/controls",
          "model_name": "HBoxModel",
          "model_module_version": "1.5.0",
          "state": {
            "_dom_classes": [],
            "_model_module": "@jupyter-widgets/controls",
            "_model_module_version": "1.5.0",
            "_model_name": "HBoxModel",
            "_view_count": null,
            "_view_module": "@jupyter-widgets/controls",
            "_view_module_version": "1.5.0",
            "_view_name": "HBoxView",
            "box_style": "",
            "children": [
              "IPY_MODEL_ba33ae3785d54526952138e1e970c85f",
              "IPY_MODEL_8332dd149f1e4ad9867f5f0128aaa3a3",
              "IPY_MODEL_f652d8f74dce43b8b749cb360ea31151"
            ],
            "layout": "IPY_MODEL_9e20eaac12a147e99fe830f73727e732"
          }
        },
        "ba33ae3785d54526952138e1e970c85f": {
          "model_module": "@jupyter-widgets/controls",
          "model_name": "HTMLModel",
          "model_module_version": "1.5.0",
          "state": {
            "_dom_classes": [],
            "_model_module": "@jupyter-widgets/controls",
            "_model_module_version": "1.5.0",
            "_model_name": "HTMLModel",
            "_view_count": null,
            "_view_module": "@jupyter-widgets/controls",
            "_view_module_version": "1.5.0",
            "_view_name": "HTMLView",
            "description": "",
            "description_tooltip": null,
            "layout": "IPY_MODEL_a2c73acc42c34a64a502e939f8419795",
            "placeholder": "​",
            "style": "IPY_MODEL_c7265700ac0f424fbbbbcab02cbb1663",
            "value": "config.json: 100%"
          }
        },
        "8332dd149f1e4ad9867f5f0128aaa3a3": {
          "model_module": "@jupyter-widgets/controls",
          "model_name": "FloatProgressModel",
          "model_module_version": "1.5.0",
          "state": {
            "_dom_classes": [],
            "_model_module": "@jupyter-widgets/controls",
            "_model_module_version": "1.5.0",
            "_model_name": "FloatProgressModel",
            "_view_count": null,
            "_view_module": "@jupyter-widgets/controls",
            "_view_module_version": "1.5.0",
            "_view_name": "ProgressView",
            "bar_style": "success",
            "description": "",
            "description_tooltip": null,
            "layout": "IPY_MODEL_97bb039f6fa54eb1975138d18c9b8d6d",
            "max": 693,
            "min": 0,
            "orientation": "horizontal",
            "style": "IPY_MODEL_3ccdd2800d60486eb4ed1a5cc67266e1",
            "value": 693
          }
        },
        "f652d8f74dce43b8b749cb360ea31151": {
          "model_module": "@jupyter-widgets/controls",
          "model_name": "HTMLModel",
          "model_module_version": "1.5.0",
          "state": {
            "_dom_classes": [],
            "_model_module": "@jupyter-widgets/controls",
            "_model_module_version": "1.5.0",
            "_model_name": "HTMLModel",
            "_view_count": null,
            "_view_module": "@jupyter-widgets/controls",
            "_view_module_version": "1.5.0",
            "_view_name": "HTMLView",
            "description": "",
            "description_tooltip": null,
            "layout": "IPY_MODEL_c8d29451c17d49aaa4208e05bb624014",
            "placeholder": "​",
            "style": "IPY_MODEL_aa5cf358f70244f2b815f7382727f49b",
            "value": " 693/693 [00:00&lt;00:00, 34.5kB/s]"
          }
        },
        "9e20eaac12a147e99fe830f73727e732": {
          "model_module": "@jupyter-widgets/base",
          "model_name": "LayoutModel",
          "model_module_version": "1.2.0",
          "state": {
            "_model_module": "@jupyter-widgets/base",
            "_model_module_version": "1.2.0",
            "_model_name": "LayoutModel",
            "_view_count": null,
            "_view_module": "@jupyter-widgets/base",
            "_view_module_version": "1.2.0",
            "_view_name": "LayoutView",
            "align_content": null,
            "align_items": null,
            "align_self": null,
            "border": null,
            "bottom": null,
            "display": null,
            "flex": null,
            "flex_flow": null,
            "grid_area": null,
            "grid_auto_columns": null,
            "grid_auto_flow": null,
            "grid_auto_rows": null,
            "grid_column": null,
            "grid_gap": null,
            "grid_row": null,
            "grid_template_areas": null,
            "grid_template_columns": null,
            "grid_template_rows": null,
            "height": null,
            "justify_content": null,
            "justify_items": null,
            "left": null,
            "margin": null,
            "max_height": null,
            "max_width": null,
            "min_height": null,
            "min_width": null,
            "object_fit": null,
            "object_position": null,
            "order": null,
            "overflow": null,
            "overflow_x": null,
            "overflow_y": null,
            "padding": null,
            "right": null,
            "top": null,
            "visibility": null,
            "width": null
          }
        },
        "a2c73acc42c34a64a502e939f8419795": {
          "model_module": "@jupyter-widgets/base",
          "model_name": "LayoutModel",
          "model_module_version": "1.2.0",
          "state": {
            "_model_module": "@jupyter-widgets/base",
            "_model_module_version": "1.2.0",
            "_model_name": "LayoutModel",
            "_view_count": null,
            "_view_module": "@jupyter-widgets/base",
            "_view_module_version": "1.2.0",
            "_view_name": "LayoutView",
            "align_content": null,
            "align_items": null,
            "align_self": null,
            "border": null,
            "bottom": null,
            "display": null,
            "flex": null,
            "flex_flow": null,
            "grid_area": null,
            "grid_auto_columns": null,
            "grid_auto_flow": null,
            "grid_auto_rows": null,
            "grid_column": null,
            "grid_gap": null,
            "grid_row": null,
            "grid_template_areas": null,
            "grid_template_columns": null,
            "grid_template_rows": null,
            "height": null,
            "justify_content": null,
            "justify_items": null,
            "left": null,
            "margin": null,
            "max_height": null,
            "max_width": null,
            "min_height": null,
            "min_width": null,
            "object_fit": null,
            "object_position": null,
            "order": null,
            "overflow": null,
            "overflow_x": null,
            "overflow_y": null,
            "padding": null,
            "right": null,
            "top": null,
            "visibility": null,
            "width": null
          }
        },
        "c7265700ac0f424fbbbbcab02cbb1663": {
          "model_module": "@jupyter-widgets/controls",
          "model_name": "DescriptionStyleModel",
          "model_module_version": "1.5.0",
          "state": {
            "_model_module": "@jupyter-widgets/controls",
            "_model_module_version": "1.5.0",
            "_model_name": "DescriptionStyleModel",
            "_view_count": null,
            "_view_module": "@jupyter-widgets/base",
            "_view_module_version": "1.2.0",
            "_view_name": "StyleView",
            "description_width": ""
          }
        },
        "97bb039f6fa54eb1975138d18c9b8d6d": {
          "model_module": "@jupyter-widgets/base",
          "model_name": "LayoutModel",
          "model_module_version": "1.2.0",
          "state": {
            "_model_module": "@jupyter-widgets/base",
            "_model_module_version": "1.2.0",
            "_model_name": "LayoutModel",
            "_view_count": null,
            "_view_module": "@jupyter-widgets/base",
            "_view_module_version": "1.2.0",
            "_view_name": "LayoutView",
            "align_content": null,
            "align_items": null,
            "align_self": null,
            "border": null,
            "bottom": null,
            "display": null,
            "flex": null,
            "flex_flow": null,
            "grid_area": null,
            "grid_auto_columns": null,
            "grid_auto_flow": null,
            "grid_auto_rows": null,
            "grid_column": null,
            "grid_gap": null,
            "grid_row": null,
            "grid_template_areas": null,
            "grid_template_columns": null,
            "grid_template_rows": null,
            "height": null,
            "justify_content": null,
            "justify_items": null,
            "left": null,
            "margin": null,
            "max_height": null,
            "max_width": null,
            "min_height": null,
            "min_width": null,
            "object_fit": null,
            "object_position": null,
            "order": null,
            "overflow": null,
            "overflow_x": null,
            "overflow_y": null,
            "padding": null,
            "right": null,
            "top": null,
            "visibility": null,
            "width": null
          }
        },
        "3ccdd2800d60486eb4ed1a5cc67266e1": {
          "model_module": "@jupyter-widgets/controls",
          "model_name": "ProgressStyleModel",
          "model_module_version": "1.5.0",
          "state": {
            "_model_module": "@jupyter-widgets/controls",
            "_model_module_version": "1.5.0",
            "_model_name": "ProgressStyleModel",
            "_view_count": null,
            "_view_module": "@jupyter-widgets/base",
            "_view_module_version": "1.2.0",
            "_view_name": "StyleView",
            "bar_color": null,
            "description_width": ""
          }
        },
        "c8d29451c17d49aaa4208e05bb624014": {
          "model_module": "@jupyter-widgets/base",
          "model_name": "LayoutModel",
          "model_module_version": "1.2.0",
          "state": {
            "_model_module": "@jupyter-widgets/base",
            "_model_module_version": "1.2.0",
            "_model_name": "LayoutModel",
            "_view_count": null,
            "_view_module": "@jupyter-widgets/base",
            "_view_module_version": "1.2.0",
            "_view_name": "LayoutView",
            "align_content": null,
            "align_items": null,
            "align_self": null,
            "border": null,
            "bottom": null,
            "display": null,
            "flex": null,
            "flex_flow": null,
            "grid_area": null,
            "grid_auto_columns": null,
            "grid_auto_flow": null,
            "grid_auto_rows": null,
            "grid_column": null,
            "grid_gap": null,
            "grid_row": null,
            "grid_template_areas": null,
            "grid_template_columns": null,
            "grid_template_rows": null,
            "height": null,
            "justify_content": null,
            "justify_items": null,
            "left": null,
            "margin": null,
            "max_height": null,
            "max_width": null,
            "min_height": null,
            "min_width": null,
            "object_fit": null,
            "object_position": null,
            "order": null,
            "overflow": null,
            "overflow_x": null,
            "overflow_y": null,
            "padding": null,
            "right": null,
            "top": null,
            "visibility": null,
            "width": null
          }
        },
        "aa5cf358f70244f2b815f7382727f49b": {
          "model_module": "@jupyter-widgets/controls",
          "model_name": "DescriptionStyleModel",
          "model_module_version": "1.5.0",
          "state": {
            "_model_module": "@jupyter-widgets/controls",
            "_model_module_version": "1.5.0",
            "_model_name": "DescriptionStyleModel",
            "_view_count": null,
            "_view_module": "@jupyter-widgets/base",
            "_view_module_version": "1.2.0",
            "_view_name": "StyleView",
            "description_width": ""
          }
        },
        "dad7ca35aac5402eb2110c72cdd1193c": {
          "model_module": "@jupyter-widgets/controls",
          "model_name": "HBoxModel",
          "model_module_version": "1.5.0",
          "state": {
            "_dom_classes": [],
            "_model_module": "@jupyter-widgets/controls",
            "_model_module_version": "1.5.0",
            "_model_name": "HBoxModel",
            "_view_count": null,
            "_view_module": "@jupyter-widgets/controls",
            "_view_module_version": "1.5.0",
            "_view_name": "HBoxView",
            "box_style": "",
            "children": [
              "IPY_MODEL_495e3fbbf91b44a599a8b3685cf5876d",
              "IPY_MODEL_d719a443b8fd40ffacb4693f7197c768",
              "IPY_MODEL_8dadfb02ef5d4dfd9c3eb234c33fcdf3"
            ],
            "layout": "IPY_MODEL_ebef7ff74079424686e0c5a96382950c"
          }
        },
        "495e3fbbf91b44a599a8b3685cf5876d": {
          "model_module": "@jupyter-widgets/controls",
          "model_name": "HTMLModel",
          "model_module_version": "1.5.0",
          "state": {
            "_dom_classes": [],
            "_model_module": "@jupyter-widgets/controls",
            "_model_module_version": "1.5.0",
            "_model_name": "HTMLModel",
            "_view_count": null,
            "_view_module": "@jupyter-widgets/controls",
            "_view_module_version": "1.5.0",
            "_view_name": "HTMLView",
            "description": "",
            "description_tooltip": null,
            "layout": "IPY_MODEL_c8cf7f1cf3d64e7ab2cfb7d3b13100c9",
            "placeholder": "​",
            "style": "IPY_MODEL_31c35488ce164f9883cc30c8e4e63e60",
            "value": "model.safetensors: 100%"
          }
        },
        "d719a443b8fd40ffacb4693f7197c768": {
          "model_module": "@jupyter-widgets/controls",
          "model_name": "FloatProgressModel",
          "model_module_version": "1.5.0",
          "state": {
            "_dom_classes": [],
            "_model_module": "@jupyter-widgets/controls",
            "_model_module_version": "1.5.0",
            "_model_name": "FloatProgressModel",
            "_view_count": null,
            "_view_module": "@jupyter-widgets/controls",
            "_view_module_version": "1.5.0",
            "_view_name": "ProgressView",
            "bar_style": "success",
            "description": "",
            "description_tooltip": null,
            "layout": "IPY_MODEL_47c1f6a485f547c49307e653980aadca",
            "max": 1118459525,
            "min": 0,
            "orientation": "horizontal",
            "style": "IPY_MODEL_e581eef03fee4f2eb0140bbdeedafa3c",
            "value": 1118459525
          }
        },
        "8dadfb02ef5d4dfd9c3eb234c33fcdf3": {
          "model_module": "@jupyter-widgets/controls",
          "model_name": "HTMLModel",
          "model_module_version": "1.5.0",
          "state": {
            "_dom_classes": [],
            "_model_module": "@jupyter-widgets/controls",
            "_model_module_version": "1.5.0",
            "_model_name": "HTMLModel",
            "_view_count": null,
            "_view_module": "@jupyter-widgets/controls",
            "_view_module_version": "1.5.0",
            "_view_name": "HTMLView",
            "description": "",
            "description_tooltip": null,
            "layout": "IPY_MODEL_dab260d375da4be3a25a17225139dda4",
            "placeholder": "​",
            "style": "IPY_MODEL_221de070c14e45e5a67a9f909e2b0797",
            "value": " 1.12G/1.12G [00:05&lt;00:00, 211MB/s]"
          }
        },
        "ebef7ff74079424686e0c5a96382950c": {
          "model_module": "@jupyter-widgets/base",
          "model_name": "LayoutModel",
          "model_module_version": "1.2.0",
          "state": {
            "_model_module": "@jupyter-widgets/base",
            "_model_module_version": "1.2.0",
            "_model_name": "LayoutModel",
            "_view_count": null,
            "_view_module": "@jupyter-widgets/base",
            "_view_module_version": "1.2.0",
            "_view_name": "LayoutView",
            "align_content": null,
            "align_items": null,
            "align_self": null,
            "border": null,
            "bottom": null,
            "display": null,
            "flex": null,
            "flex_flow": null,
            "grid_area": null,
            "grid_auto_columns": null,
            "grid_auto_flow": null,
            "grid_auto_rows": null,
            "grid_column": null,
            "grid_gap": null,
            "grid_row": null,
            "grid_template_areas": null,
            "grid_template_columns": null,
            "grid_template_rows": null,
            "height": null,
            "justify_content": null,
            "justify_items": null,
            "left": null,
            "margin": null,
            "max_height": null,
            "max_width": null,
            "min_height": null,
            "min_width": null,
            "object_fit": null,
            "object_position": null,
            "order": null,
            "overflow": null,
            "overflow_x": null,
            "overflow_y": null,
            "padding": null,
            "right": null,
            "top": null,
            "visibility": null,
            "width": null
          }
        },
        "c8cf7f1cf3d64e7ab2cfb7d3b13100c9": {
          "model_module": "@jupyter-widgets/base",
          "model_name": "LayoutModel",
          "model_module_version": "1.2.0",
          "state": {
            "_model_module": "@jupyter-widgets/base",
            "_model_module_version": "1.2.0",
            "_model_name": "LayoutModel",
            "_view_count": null,
            "_view_module": "@jupyter-widgets/base",
            "_view_module_version": "1.2.0",
            "_view_name": "LayoutView",
            "align_content": null,
            "align_items": null,
            "align_self": null,
            "border": null,
            "bottom": null,
            "display": null,
            "flex": null,
            "flex_flow": null,
            "grid_area": null,
            "grid_auto_columns": null,
            "grid_auto_flow": null,
            "grid_auto_rows": null,
            "grid_column": null,
            "grid_gap": null,
            "grid_row": null,
            "grid_template_areas": null,
            "grid_template_columns": null,
            "grid_template_rows": null,
            "height": null,
            "justify_content": null,
            "justify_items": null,
            "left": null,
            "margin": null,
            "max_height": null,
            "max_width": null,
            "min_height": null,
            "min_width": null,
            "object_fit": null,
            "object_position": null,
            "order": null,
            "overflow": null,
            "overflow_x": null,
            "overflow_y": null,
            "padding": null,
            "right": null,
            "top": null,
            "visibility": null,
            "width": null
          }
        },
        "31c35488ce164f9883cc30c8e4e63e60": {
          "model_module": "@jupyter-widgets/controls",
          "model_name": "DescriptionStyleModel",
          "model_module_version": "1.5.0",
          "state": {
            "_model_module": "@jupyter-widgets/controls",
            "_model_module_version": "1.5.0",
            "_model_name": "DescriptionStyleModel",
            "_view_count": null,
            "_view_module": "@jupyter-widgets/base",
            "_view_module_version": "1.2.0",
            "_view_name": "StyleView",
            "description_width": ""
          }
        },
        "47c1f6a485f547c49307e653980aadca": {
          "model_module": "@jupyter-widgets/base",
          "model_name": "LayoutModel",
          "model_module_version": "1.2.0",
          "state": {
            "_model_module": "@jupyter-widgets/base",
            "_model_module_version": "1.2.0",
            "_model_name": "LayoutModel",
            "_view_count": null,
            "_view_module": "@jupyter-widgets/base",
            "_view_module_version": "1.2.0",
            "_view_name": "LayoutView",
            "align_content": null,
            "align_items": null,
            "align_self": null,
            "border": null,
            "bottom": null,
            "display": null,
            "flex": null,
            "flex_flow": null,
            "grid_area": null,
            "grid_auto_columns": null,
            "grid_auto_flow": null,
            "grid_auto_rows": null,
            "grid_column": null,
            "grid_gap": null,
            "grid_row": null,
            "grid_template_areas": null,
            "grid_template_columns": null,
            "grid_template_rows": null,
            "height": null,
            "justify_content": null,
            "justify_items": null,
            "left": null,
            "margin": null,
            "max_height": null,
            "max_width": null,
            "min_height": null,
            "min_width": null,
            "object_fit": null,
            "object_position": null,
            "order": null,
            "overflow": null,
            "overflow_x": null,
            "overflow_y": null,
            "padding": null,
            "right": null,
            "top": null,
            "visibility": null,
            "width": null
          }
        },
        "e581eef03fee4f2eb0140bbdeedafa3c": {
          "model_module": "@jupyter-widgets/controls",
          "model_name": "ProgressStyleModel",
          "model_module_version": "1.5.0",
          "state": {
            "_model_module": "@jupyter-widgets/controls",
            "_model_module_version": "1.5.0",
            "_model_name": "ProgressStyleModel",
            "_view_count": null,
            "_view_module": "@jupyter-widgets/base",
            "_view_module_version": "1.2.0",
            "_view_name": "StyleView",
            "bar_color": null,
            "description_width": ""
          }
        },
        "dab260d375da4be3a25a17225139dda4": {
          "model_module": "@jupyter-widgets/base",
          "model_name": "LayoutModel",
          "model_module_version": "1.2.0",
          "state": {
            "_model_module": "@jupyter-widgets/base",
            "_model_module_version": "1.2.0",
            "_model_name": "LayoutModel",
            "_view_count": null,
            "_view_module": "@jupyter-widgets/base",
            "_view_module_version": "1.2.0",
            "_view_name": "LayoutView",
            "align_content": null,
            "align_items": null,
            "align_self": null,
            "border": null,
            "bottom": null,
            "display": null,
            "flex": null,
            "flex_flow": null,
            "grid_area": null,
            "grid_auto_columns": null,
            "grid_auto_flow": null,
            "grid_auto_rows": null,
            "grid_column": null,
            "grid_gap": null,
            "grid_row": null,
            "grid_template_areas": null,
            "grid_template_columns": null,
            "grid_template_rows": null,
            "height": null,
            "justify_content": null,
            "justify_items": null,
            "left": null,
            "margin": null,
            "max_height": null,
            "max_width": null,
            "min_height": null,
            "min_width": null,
            "object_fit": null,
            "object_position": null,
            "order": null,
            "overflow": null,
            "overflow_x": null,
            "overflow_y": null,
            "padding": null,
            "right": null,
            "top": null,
            "visibility": null,
            "width": null
          }
        },
        "221de070c14e45e5a67a9f909e2b0797": {
          "model_module": "@jupyter-widgets/controls",
          "model_name": "DescriptionStyleModel",
          "model_module_version": "1.5.0",
          "state": {
            "_model_module": "@jupyter-widgets/controls",
            "_model_module_version": "1.5.0",
            "_model_name": "DescriptionStyleModel",
            "_view_count": null,
            "_view_module": "@jupyter-widgets/base",
            "_view_module_version": "1.2.0",
            "_view_name": "StyleView",
            "description_width": ""
          }
        },
        "fad27957b9384eebbb088acfbd8f7f3f": {
          "model_module": "@jupyter-widgets/controls",
          "model_name": "HBoxModel",
          "model_module_version": "1.5.0",
          "state": {
            "_dom_classes": [],
            "_model_module": "@jupyter-widgets/controls",
            "_model_module_version": "1.5.0",
            "_model_name": "HBoxModel",
            "_view_count": null,
            "_view_module": "@jupyter-widgets/controls",
            "_view_module_version": "1.5.0",
            "_view_name": "HBoxView",
            "box_style": "",
            "children": [
              "IPY_MODEL_c383009a5f324a1f95c3dd8552fbb40b",
              "IPY_MODEL_ec23764b8ad5481f8a2646ebbf749ac8",
              "IPY_MODEL_21014b4bd9744dfa87a97ed4571e1d4c"
            ],
            "layout": "IPY_MODEL_fe5209b76e984e9c80a3d62542dade2f"
          }
        },
        "c383009a5f324a1f95c3dd8552fbb40b": {
          "model_module": "@jupyter-widgets/controls",
          "model_name": "HTMLModel",
          "model_module_version": "1.5.0",
          "state": {
            "_dom_classes": [],
            "_model_module": "@jupyter-widgets/controls",
            "_model_module_version": "1.5.0",
            "_model_name": "HTMLModel",
            "_view_count": null,
            "_view_module": "@jupyter-widgets/controls",
            "_view_module_version": "1.5.0",
            "_view_name": "HTMLView",
            "description": "",
            "description_tooltip": null,
            "layout": "IPY_MODEL_e480767900bc48858527fef40047cd21",
            "placeholder": "​",
            "style": "IPY_MODEL_ea23269318fc4bcebf134bc94d392aeb",
            "value": "Downloading readme: 100%"
          }
        },
        "ec23764b8ad5481f8a2646ebbf749ac8": {
          "model_module": "@jupyter-widgets/controls",
          "model_name": "FloatProgressModel",
          "model_module_version": "1.5.0",
          "state": {
            "_dom_classes": [],
            "_model_module": "@jupyter-widgets/controls",
            "_model_module_version": "1.5.0",
            "_model_name": "FloatProgressModel",
            "_view_count": null,
            "_view_module": "@jupyter-widgets/controls",
            "_view_module_version": "1.5.0",
            "_view_name": "ProgressView",
            "bar_style": "success",
            "description": "",
            "description_tooltip": null,
            "layout": "IPY_MODEL_9f4252b1f6b94bffb1af851f8d95e0c4",
            "max": 339,
            "min": 0,
            "orientation": "horizontal",
            "style": "IPY_MODEL_c844c722da914e779d4c20836da5cdf8",
            "value": 339
          }
        },
        "21014b4bd9744dfa87a97ed4571e1d4c": {
          "model_module": "@jupyter-widgets/controls",
          "model_name": "HTMLModel",
          "model_module_version": "1.5.0",
          "state": {
            "_dom_classes": [],
            "_model_module": "@jupyter-widgets/controls",
            "_model_module_version": "1.5.0",
            "_model_name": "HTMLModel",
            "_view_count": null,
            "_view_module": "@jupyter-widgets/controls",
            "_view_module_version": "1.5.0",
            "_view_name": "HTMLView",
            "description": "",
            "description_tooltip": null,
            "layout": "IPY_MODEL_ea96f65d096f48359ae1911fc7b26241",
            "placeholder": "​",
            "style": "IPY_MODEL_4833b351a2114d0da24229326428474c",
            "value": " 339/339 [00:00&lt;00:00, 21.8kB/s]"
          }
        },
        "fe5209b76e984e9c80a3d62542dade2f": {
          "model_module": "@jupyter-widgets/base",
          "model_name": "LayoutModel",
          "model_module_version": "1.2.0",
          "state": {
            "_model_module": "@jupyter-widgets/base",
            "_model_module_version": "1.2.0",
            "_model_name": "LayoutModel",
            "_view_count": null,
            "_view_module": "@jupyter-widgets/base",
            "_view_module_version": "1.2.0",
            "_view_name": "LayoutView",
            "align_content": null,
            "align_items": null,
            "align_self": null,
            "border": null,
            "bottom": null,
            "display": null,
            "flex": null,
            "flex_flow": null,
            "grid_area": null,
            "grid_auto_columns": null,
            "grid_auto_flow": null,
            "grid_auto_rows": null,
            "grid_column": null,
            "grid_gap": null,
            "grid_row": null,
            "grid_template_areas": null,
            "grid_template_columns": null,
            "grid_template_rows": null,
            "height": null,
            "justify_content": null,
            "justify_items": null,
            "left": null,
            "margin": null,
            "max_height": null,
            "max_width": null,
            "min_height": null,
            "min_width": null,
            "object_fit": null,
            "object_position": null,
            "order": null,
            "overflow": null,
            "overflow_x": null,
            "overflow_y": null,
            "padding": null,
            "right": null,
            "top": null,
            "visibility": null,
            "width": null
          }
        },
        "e480767900bc48858527fef40047cd21": {
          "model_module": "@jupyter-widgets/base",
          "model_name": "LayoutModel",
          "model_module_version": "1.2.0",
          "state": {
            "_model_module": "@jupyter-widgets/base",
            "_model_module_version": "1.2.0",
            "_model_name": "LayoutModel",
            "_view_count": null,
            "_view_module": "@jupyter-widgets/base",
            "_view_module_version": "1.2.0",
            "_view_name": "LayoutView",
            "align_content": null,
            "align_items": null,
            "align_self": null,
            "border": null,
            "bottom": null,
            "display": null,
            "flex": null,
            "flex_flow": null,
            "grid_area": null,
            "grid_auto_columns": null,
            "grid_auto_flow": null,
            "grid_auto_rows": null,
            "grid_column": null,
            "grid_gap": null,
            "grid_row": null,
            "grid_template_areas": null,
            "grid_template_columns": null,
            "grid_template_rows": null,
            "height": null,
            "justify_content": null,
            "justify_items": null,
            "left": null,
            "margin": null,
            "max_height": null,
            "max_width": null,
            "min_height": null,
            "min_width": null,
            "object_fit": null,
            "object_position": null,
            "order": null,
            "overflow": null,
            "overflow_x": null,
            "overflow_y": null,
            "padding": null,
            "right": null,
            "top": null,
            "visibility": null,
            "width": null
          }
        },
        "ea23269318fc4bcebf134bc94d392aeb": {
          "model_module": "@jupyter-widgets/controls",
          "model_name": "DescriptionStyleModel",
          "model_module_version": "1.5.0",
          "state": {
            "_model_module": "@jupyter-widgets/controls",
            "_model_module_version": "1.5.0",
            "_model_name": "DescriptionStyleModel",
            "_view_count": null,
            "_view_module": "@jupyter-widgets/base",
            "_view_module_version": "1.2.0",
            "_view_name": "StyleView",
            "description_width": ""
          }
        },
        "9f4252b1f6b94bffb1af851f8d95e0c4": {
          "model_module": "@jupyter-widgets/base",
          "model_name": "LayoutModel",
          "model_module_version": "1.2.0",
          "state": {
            "_model_module": "@jupyter-widgets/base",
            "_model_module_version": "1.2.0",
            "_model_name": "LayoutModel",
            "_view_count": null,
            "_view_module": "@jupyter-widgets/base",
            "_view_module_version": "1.2.0",
            "_view_name": "LayoutView",
            "align_content": null,
            "align_items": null,
            "align_self": null,
            "border": null,
            "bottom": null,
            "display": null,
            "flex": null,
            "flex_flow": null,
            "grid_area": null,
            "grid_auto_columns": null,
            "grid_auto_flow": null,
            "grid_auto_rows": null,
            "grid_column": null,
            "grid_gap": null,
            "grid_row": null,
            "grid_template_areas": null,
            "grid_template_columns": null,
            "grid_template_rows": null,
            "height": null,
            "justify_content": null,
            "justify_items": null,
            "left": null,
            "margin": null,
            "max_height": null,
            "max_width": null,
            "min_height": null,
            "min_width": null,
            "object_fit": null,
            "object_position": null,
            "order": null,
            "overflow": null,
            "overflow_x": null,
            "overflow_y": null,
            "padding": null,
            "right": null,
            "top": null,
            "visibility": null,
            "width": null
          }
        },
        "c844c722da914e779d4c20836da5cdf8": {
          "model_module": "@jupyter-widgets/controls",
          "model_name": "ProgressStyleModel",
          "model_module_version": "1.5.0",
          "state": {
            "_model_module": "@jupyter-widgets/controls",
            "_model_module_version": "1.5.0",
            "_model_name": "ProgressStyleModel",
            "_view_count": null,
            "_view_module": "@jupyter-widgets/base",
            "_view_module_version": "1.2.0",
            "_view_name": "StyleView",
            "bar_color": null,
            "description_width": ""
          }
        },
        "ea96f65d096f48359ae1911fc7b26241": {
          "model_module": "@jupyter-widgets/base",
          "model_name": "LayoutModel",
          "model_module_version": "1.2.0",
          "state": {
            "_model_module": "@jupyter-widgets/base",
            "_model_module_version": "1.2.0",
            "_model_name": "LayoutModel",
            "_view_count": null,
            "_view_module": "@jupyter-widgets/base",
            "_view_module_version": "1.2.0",
            "_view_name": "LayoutView",
            "align_content": null,
            "align_items": null,
            "align_self": null,
            "border": null,
            "bottom": null,
            "display": null,
            "flex": null,
            "flex_flow": null,
            "grid_area": null,
            "grid_auto_columns": null,
            "grid_auto_flow": null,
            "grid_auto_rows": null,
            "grid_column": null,
            "grid_gap": null,
            "grid_row": null,
            "grid_template_areas": null,
            "grid_template_columns": null,
            "grid_template_rows": null,
            "height": null,
            "justify_content": null,
            "justify_items": null,
            "left": null,
            "margin": null,
            "max_height": null,
            "max_width": null,
            "min_height": null,
            "min_width": null,
            "object_fit": null,
            "object_position": null,
            "order": null,
            "overflow": null,
            "overflow_x": null,
            "overflow_y": null,
            "padding": null,
            "right": null,
            "top": null,
            "visibility": null,
            "width": null
          }
        },
        "4833b351a2114d0da24229326428474c": {
          "model_module": "@jupyter-widgets/controls",
          "model_name": "DescriptionStyleModel",
          "model_module_version": "1.5.0",
          "state": {
            "_model_module": "@jupyter-widgets/controls",
            "_model_module_version": "1.5.0",
            "_model_name": "DescriptionStyleModel",
            "_view_count": null,
            "_view_module": "@jupyter-widgets/base",
            "_view_module_version": "1.2.0",
            "_view_name": "StyleView",
            "description_width": ""
          }
        },
        "1554de00a8ee4fbdb909310f560f1009": {
          "model_module": "@jupyter-widgets/controls",
          "model_name": "HBoxModel",
          "model_module_version": "1.5.0",
          "state": {
            "_dom_classes": [],
            "_model_module": "@jupyter-widgets/controls",
            "_model_module_version": "1.5.0",
            "_model_name": "HBoxModel",
            "_view_count": null,
            "_view_module": "@jupyter-widgets/controls",
            "_view_module_version": "1.5.0",
            "_view_name": "HBoxView",
            "box_style": "",
            "children": [
              "IPY_MODEL_fdf949a35646452c94f9910d8e61f546",
              "IPY_MODEL_87a465b1beaf40ffa1936f8ea9ab2176",
              "IPY_MODEL_29b78474ce774671bce3471794644cd1"
            ],
            "layout": "IPY_MODEL_a294ae8b871b4feda4dc21e912801afe"
          }
        },
        "fdf949a35646452c94f9910d8e61f546": {
          "model_module": "@jupyter-widgets/controls",
          "model_name": "HTMLModel",
          "model_module_version": "1.5.0",
          "state": {
            "_dom_classes": [],
            "_model_module": "@jupyter-widgets/controls",
            "_model_module_version": "1.5.0",
            "_model_name": "HTMLModel",
            "_view_count": null,
            "_view_module": "@jupyter-widgets/controls",
            "_view_module_version": "1.5.0",
            "_view_name": "HTMLView",
            "description": "",
            "description_tooltip": null,
            "layout": "IPY_MODEL_fe864c2b2d124ed9a12042501c0bd943",
            "placeholder": "​",
            "style": "IPY_MODEL_03acc3951f8742a0b4d328dd469da5bf",
            "value": "Downloading data: 100%"
          }
        },
        "87a465b1beaf40ffa1936f8ea9ab2176": {
          "model_module": "@jupyter-widgets/controls",
          "model_name": "FloatProgressModel",
          "model_module_version": "1.5.0",
          "state": {
            "_dom_classes": [],
            "_model_module": "@jupyter-widgets/controls",
            "_model_module_version": "1.5.0",
            "_model_name": "FloatProgressModel",
            "_view_count": null,
            "_view_module": "@jupyter-widgets/controls",
            "_view_module_version": "1.5.0",
            "_view_name": "ProgressView",
            "bar_style": "success",
            "description": "",
            "description_tooltip": null,
            "layout": "IPY_MODEL_c313f007dbaf4d199c793dfcecdbf04f",
            "max": 104186,
            "min": 0,
            "orientation": "horizontal",
            "style": "IPY_MODEL_4ae2c9ba0aad4b568596f4e58726b6c6",
            "value": 104186
          }
        },
        "29b78474ce774671bce3471794644cd1": {
          "model_module": "@jupyter-widgets/controls",
          "model_name": "HTMLModel",
          "model_module_version": "1.5.0",
          "state": {
            "_dom_classes": [],
            "_model_module": "@jupyter-widgets/controls",
            "_model_module_version": "1.5.0",
            "_model_name": "HTMLModel",
            "_view_count": null,
            "_view_module": "@jupyter-widgets/controls",
            "_view_module_version": "1.5.0",
            "_view_name": "HTMLView",
            "description": "",
            "description_tooltip": null,
            "layout": "IPY_MODEL_9a62688f015e4fbcbee237905bc655b7",
            "placeholder": "​",
            "style": "IPY_MODEL_2035804e7be44ec69daac60fa3a94f50",
            "value": " 104k/104k [00:00&lt;00:00, 1.22MB/s]"
          }
        },
        "a294ae8b871b4feda4dc21e912801afe": {
          "model_module": "@jupyter-widgets/base",
          "model_name": "LayoutModel",
          "model_module_version": "1.2.0",
          "state": {
            "_model_module": "@jupyter-widgets/base",
            "_model_module_version": "1.2.0",
            "_model_name": "LayoutModel",
            "_view_count": null,
            "_view_module": "@jupyter-widgets/base",
            "_view_module_version": "1.2.0",
            "_view_name": "LayoutView",
            "align_content": null,
            "align_items": null,
            "align_self": null,
            "border": null,
            "bottom": null,
            "display": null,
            "flex": null,
            "flex_flow": null,
            "grid_area": null,
            "grid_auto_columns": null,
            "grid_auto_flow": null,
            "grid_auto_rows": null,
            "grid_column": null,
            "grid_gap": null,
            "grid_row": null,
            "grid_template_areas": null,
            "grid_template_columns": null,
            "grid_template_rows": null,
            "height": null,
            "justify_content": null,
            "justify_items": null,
            "left": null,
            "margin": null,
            "max_height": null,
            "max_width": null,
            "min_height": null,
            "min_width": null,
            "object_fit": null,
            "object_position": null,
            "order": null,
            "overflow": null,
            "overflow_x": null,
            "overflow_y": null,
            "padding": null,
            "right": null,
            "top": null,
            "visibility": null,
            "width": null
          }
        },
        "fe864c2b2d124ed9a12042501c0bd943": {
          "model_module": "@jupyter-widgets/base",
          "model_name": "LayoutModel",
          "model_module_version": "1.2.0",
          "state": {
            "_model_module": "@jupyter-widgets/base",
            "_model_module_version": "1.2.0",
            "_model_name": "LayoutModel",
            "_view_count": null,
            "_view_module": "@jupyter-widgets/base",
            "_view_module_version": "1.2.0",
            "_view_name": "LayoutView",
            "align_content": null,
            "align_items": null,
            "align_self": null,
            "border": null,
            "bottom": null,
            "display": null,
            "flex": null,
            "flex_flow": null,
            "grid_area": null,
            "grid_auto_columns": null,
            "grid_auto_flow": null,
            "grid_auto_rows": null,
            "grid_column": null,
            "grid_gap": null,
            "grid_row": null,
            "grid_template_areas": null,
            "grid_template_columns": null,
            "grid_template_rows": null,
            "height": null,
            "justify_content": null,
            "justify_items": null,
            "left": null,
            "margin": null,
            "max_height": null,
            "max_width": null,
            "min_height": null,
            "min_width": null,
            "object_fit": null,
            "object_position": null,
            "order": null,
            "overflow": null,
            "overflow_x": null,
            "overflow_y": null,
            "padding": null,
            "right": null,
            "top": null,
            "visibility": null,
            "width": null
          }
        },
        "03acc3951f8742a0b4d328dd469da5bf": {
          "model_module": "@jupyter-widgets/controls",
          "model_name": "DescriptionStyleModel",
          "model_module_version": "1.5.0",
          "state": {
            "_model_module": "@jupyter-widgets/controls",
            "_model_module_version": "1.5.0",
            "_model_name": "DescriptionStyleModel",
            "_view_count": null,
            "_view_module": "@jupyter-widgets/base",
            "_view_module_version": "1.2.0",
            "_view_name": "StyleView",
            "description_width": ""
          }
        },
        "c313f007dbaf4d199c793dfcecdbf04f": {
          "model_module": "@jupyter-widgets/base",
          "model_name": "LayoutModel",
          "model_module_version": "1.2.0",
          "state": {
            "_model_module": "@jupyter-widgets/base",
            "_model_module_version": "1.2.0",
            "_model_name": "LayoutModel",
            "_view_count": null,
            "_view_module": "@jupyter-widgets/base",
            "_view_module_version": "1.2.0",
            "_view_name": "LayoutView",
            "align_content": null,
            "align_items": null,
            "align_self": null,
            "border": null,
            "bottom": null,
            "display": null,
            "flex": null,
            "flex_flow": null,
            "grid_area": null,
            "grid_auto_columns": null,
            "grid_auto_flow": null,
            "grid_auto_rows": null,
            "grid_column": null,
            "grid_gap": null,
            "grid_row": null,
            "grid_template_areas": null,
            "grid_template_columns": null,
            "grid_template_rows": null,
            "height": null,
            "justify_content": null,
            "justify_items": null,
            "left": null,
            "margin": null,
            "max_height": null,
            "max_width": null,
            "min_height": null,
            "min_width": null,
            "object_fit": null,
            "object_position": null,
            "order": null,
            "overflow": null,
            "overflow_x": null,
            "overflow_y": null,
            "padding": null,
            "right": null,
            "top": null,
            "visibility": null,
            "width": null
          }
        },
        "4ae2c9ba0aad4b568596f4e58726b6c6": {
          "model_module": "@jupyter-widgets/controls",
          "model_name": "ProgressStyleModel",
          "model_module_version": "1.5.0",
          "state": {
            "_model_module": "@jupyter-widgets/controls",
            "_model_module_version": "1.5.0",
            "_model_name": "ProgressStyleModel",
            "_view_count": null,
            "_view_module": "@jupyter-widgets/base",
            "_view_module_version": "1.2.0",
            "_view_name": "StyleView",
            "bar_color": null,
            "description_width": ""
          }
        },
        "9a62688f015e4fbcbee237905bc655b7": {
          "model_module": "@jupyter-widgets/base",
          "model_name": "LayoutModel",
          "model_module_version": "1.2.0",
          "state": {
            "_model_module": "@jupyter-widgets/base",
            "_model_module_version": "1.2.0",
            "_model_name": "LayoutModel",
            "_view_count": null,
            "_view_module": "@jupyter-widgets/base",
            "_view_module_version": "1.2.0",
            "_view_name": "LayoutView",
            "align_content": null,
            "align_items": null,
            "align_self": null,
            "border": null,
            "bottom": null,
            "display": null,
            "flex": null,
            "flex_flow": null,
            "grid_area": null,
            "grid_auto_columns": null,
            "grid_auto_flow": null,
            "grid_auto_rows": null,
            "grid_column": null,
            "grid_gap": null,
            "grid_row": null,
            "grid_template_areas": null,
            "grid_template_columns": null,
            "grid_template_rows": null,
            "height": null,
            "justify_content": null,
            "justify_items": null,
            "left": null,
            "margin": null,
            "max_height": null,
            "max_width": null,
            "min_height": null,
            "min_width": null,
            "object_fit": null,
            "object_position": null,
            "order": null,
            "overflow": null,
            "overflow_x": null,
            "overflow_y": null,
            "padding": null,
            "right": null,
            "top": null,
            "visibility": null,
            "width": null
          }
        },
        "2035804e7be44ec69daac60fa3a94f50": {
          "model_module": "@jupyter-widgets/controls",
          "model_name": "DescriptionStyleModel",
          "model_module_version": "1.5.0",
          "state": {
            "_model_module": "@jupyter-widgets/controls",
            "_model_module_version": "1.5.0",
            "_model_name": "DescriptionStyleModel",
            "_view_count": null,
            "_view_module": "@jupyter-widgets/base",
            "_view_module_version": "1.2.0",
            "_view_name": "StyleView",
            "description_width": ""
          }
        },
        "7548a42df59642a68a0d530516188a3d": {
          "model_module": "@jupyter-widgets/controls",
          "model_name": "HBoxModel",
          "model_module_version": "1.5.0",
          "state": {
            "_dom_classes": [],
            "_model_module": "@jupyter-widgets/controls",
            "_model_module_version": "1.5.0",
            "_model_name": "HBoxModel",
            "_view_count": null,
            "_view_module": "@jupyter-widgets/controls",
            "_view_module_version": "1.5.0",
            "_view_name": "HBoxView",
            "box_style": "",
            "children": [
              "IPY_MODEL_a8f512e5f7b54964a3bcdaf36bd45cd7",
              "IPY_MODEL_c413e49faec142f79788ccdef2e724d3",
              "IPY_MODEL_a04bd367672847c1a7a5498b1c5f8015"
            ],
            "layout": "IPY_MODEL_b70f8936ba1b405aa720bf7743c1c2ef"
          }
        },
        "a8f512e5f7b54964a3bcdaf36bd45cd7": {
          "model_module": "@jupyter-widgets/controls",
          "model_name": "HTMLModel",
          "model_module_version": "1.5.0",
          "state": {
            "_dom_classes": [],
            "_model_module": "@jupyter-widgets/controls",
            "_model_module_version": "1.5.0",
            "_model_name": "HTMLModel",
            "_view_count": null,
            "_view_module": "@jupyter-widgets/controls",
            "_view_module_version": "1.5.0",
            "_view_name": "HTMLView",
            "description": "",
            "description_tooltip": null,
            "layout": "IPY_MODEL_cf5568086b4e4c1392a2452312653be3",
            "placeholder": "​",
            "style": "IPY_MODEL_7127c9d7bbcd4a65bb37dd3a09f616a5",
            "value": "Generating train split: "
          }
        },
        "c413e49faec142f79788ccdef2e724d3": {
          "model_module": "@jupyter-widgets/controls",
          "model_name": "FloatProgressModel",
          "model_module_version": "1.5.0",
          "state": {
            "_dom_classes": [],
            "_model_module": "@jupyter-widgets/controls",
            "_model_module_version": "1.5.0",
            "_model_name": "FloatProgressModel",
            "_view_count": null,
            "_view_module": "@jupyter-widgets/controls",
            "_view_module_version": "1.5.0",
            "_view_name": "ProgressView",
            "bar_style": "success",
            "description": "",
            "description_tooltip": null,
            "layout": "IPY_MODEL_18d28a0dc82a4775be2c070edd9e5fa1",
            "max": 1,
            "min": 0,
            "orientation": "horizontal",
            "style": "IPY_MODEL_5191b2d8196741069940ae53aee7095a",
            "value": 1
          }
        },
        "a04bd367672847c1a7a5498b1c5f8015": {
          "model_module": "@jupyter-widgets/controls",
          "model_name": "HTMLModel",
          "model_module_version": "1.5.0",
          "state": {
            "_dom_classes": [],
            "_model_module": "@jupyter-widgets/controls",
            "_model_module_version": "1.5.0",
            "_model_name": "HTMLModel",
            "_view_count": null,
            "_view_module": "@jupyter-widgets/controls",
            "_view_module_version": "1.5.0",
            "_view_name": "HTMLView",
            "description": "",
            "description_tooltip": null,
            "layout": "IPY_MODEL_7181bcf006364e03a1b3889bcddf7147",
            "placeholder": "​",
            "style": "IPY_MODEL_cbf3ec2259c441e6a5574893f4b2efb2",
            "value": " 203/0 [00:00&lt;00:00, 2853.37 examples/s]"
          }
        },
        "b70f8936ba1b405aa720bf7743c1c2ef": {
          "model_module": "@jupyter-widgets/base",
          "model_name": "LayoutModel",
          "model_module_version": "1.2.0",
          "state": {
            "_model_module": "@jupyter-widgets/base",
            "_model_module_version": "1.2.0",
            "_model_name": "LayoutModel",
            "_view_count": null,
            "_view_module": "@jupyter-widgets/base",
            "_view_module_version": "1.2.0",
            "_view_name": "LayoutView",
            "align_content": null,
            "align_items": null,
            "align_self": null,
            "border": null,
            "bottom": null,
            "display": null,
            "flex": null,
            "flex_flow": null,
            "grid_area": null,
            "grid_auto_columns": null,
            "grid_auto_flow": null,
            "grid_auto_rows": null,
            "grid_column": null,
            "grid_gap": null,
            "grid_row": null,
            "grid_template_areas": null,
            "grid_template_columns": null,
            "grid_template_rows": null,
            "height": null,
            "justify_content": null,
            "justify_items": null,
            "left": null,
            "margin": null,
            "max_height": null,
            "max_width": null,
            "min_height": null,
            "min_width": null,
            "object_fit": null,
            "object_position": null,
            "order": null,
            "overflow": null,
            "overflow_x": null,
            "overflow_y": null,
            "padding": null,
            "right": null,
            "top": null,
            "visibility": null,
            "width": null
          }
        },
        "cf5568086b4e4c1392a2452312653be3": {
          "model_module": "@jupyter-widgets/base",
          "model_name": "LayoutModel",
          "model_module_version": "1.2.0",
          "state": {
            "_model_module": "@jupyter-widgets/base",
            "_model_module_version": "1.2.0",
            "_model_name": "LayoutModel",
            "_view_count": null,
            "_view_module": "@jupyter-widgets/base",
            "_view_module_version": "1.2.0",
            "_view_name": "LayoutView",
            "align_content": null,
            "align_items": null,
            "align_self": null,
            "border": null,
            "bottom": null,
            "display": null,
            "flex": null,
            "flex_flow": null,
            "grid_area": null,
            "grid_auto_columns": null,
            "grid_auto_flow": null,
            "grid_auto_rows": null,
            "grid_column": null,
            "grid_gap": null,
            "grid_row": null,
            "grid_template_areas": null,
            "grid_template_columns": null,
            "grid_template_rows": null,
            "height": null,
            "justify_content": null,
            "justify_items": null,
            "left": null,
            "margin": null,
            "max_height": null,
            "max_width": null,
            "min_height": null,
            "min_width": null,
            "object_fit": null,
            "object_position": null,
            "order": null,
            "overflow": null,
            "overflow_x": null,
            "overflow_y": null,
            "padding": null,
            "right": null,
            "top": null,
            "visibility": null,
            "width": null
          }
        },
        "7127c9d7bbcd4a65bb37dd3a09f616a5": {
          "model_module": "@jupyter-widgets/controls",
          "model_name": "DescriptionStyleModel",
          "model_module_version": "1.5.0",
          "state": {
            "_model_module": "@jupyter-widgets/controls",
            "_model_module_version": "1.5.0",
            "_model_name": "DescriptionStyleModel",
            "_view_count": null,
            "_view_module": "@jupyter-widgets/base",
            "_view_module_version": "1.2.0",
            "_view_name": "StyleView",
            "description_width": ""
          }
        },
        "18d28a0dc82a4775be2c070edd9e5fa1": {
          "model_module": "@jupyter-widgets/base",
          "model_name": "LayoutModel",
          "model_module_version": "1.2.0",
          "state": {
            "_model_module": "@jupyter-widgets/base",
            "_model_module_version": "1.2.0",
            "_model_name": "LayoutModel",
            "_view_count": null,
            "_view_module": "@jupyter-widgets/base",
            "_view_module_version": "1.2.0",
            "_view_name": "LayoutView",
            "align_content": null,
            "align_items": null,
            "align_self": null,
            "border": null,
            "bottom": null,
            "display": null,
            "flex": null,
            "flex_flow": null,
            "grid_area": null,
            "grid_auto_columns": null,
            "grid_auto_flow": null,
            "grid_auto_rows": null,
            "grid_column": null,
            "grid_gap": null,
            "grid_row": null,
            "grid_template_areas": null,
            "grid_template_columns": null,
            "grid_template_rows": null,
            "height": null,
            "justify_content": null,
            "justify_items": null,
            "left": null,
            "margin": null,
            "max_height": null,
            "max_width": null,
            "min_height": null,
            "min_width": null,
            "object_fit": null,
            "object_position": null,
            "order": null,
            "overflow": null,
            "overflow_x": null,
            "overflow_y": null,
            "padding": null,
            "right": null,
            "top": null,
            "visibility": null,
            "width": "20px"
          }
        },
        "5191b2d8196741069940ae53aee7095a": {
          "model_module": "@jupyter-widgets/controls",
          "model_name": "ProgressStyleModel",
          "model_module_version": "1.5.0",
          "state": {
            "_model_module": "@jupyter-widgets/controls",
            "_model_module_version": "1.5.0",
            "_model_name": "ProgressStyleModel",
            "_view_count": null,
            "_view_module": "@jupyter-widgets/base",
            "_view_module_version": "1.2.0",
            "_view_name": "StyleView",
            "bar_color": null,
            "description_width": ""
          }
        },
        "7181bcf006364e03a1b3889bcddf7147": {
          "model_module": "@jupyter-widgets/base",
          "model_name": "LayoutModel",
          "model_module_version": "1.2.0",
          "state": {
            "_model_module": "@jupyter-widgets/base",
            "_model_module_version": "1.2.0",
            "_model_name": "LayoutModel",
            "_view_count": null,
            "_view_module": "@jupyter-widgets/base",
            "_view_module_version": "1.2.0",
            "_view_name": "LayoutView",
            "align_content": null,
            "align_items": null,
            "align_self": null,
            "border": null,
            "bottom": null,
            "display": null,
            "flex": null,
            "flex_flow": null,
            "grid_area": null,
            "grid_auto_columns": null,
            "grid_auto_flow": null,
            "grid_auto_rows": null,
            "grid_column": null,
            "grid_gap": null,
            "grid_row": null,
            "grid_template_areas": null,
            "grid_template_columns": null,
            "grid_template_rows": null,
            "height": null,
            "justify_content": null,
            "justify_items": null,
            "left": null,
            "margin": null,
            "max_height": null,
            "max_width": null,
            "min_height": null,
            "min_width": null,
            "object_fit": null,
            "object_position": null,
            "order": null,
            "overflow": null,
            "overflow_x": null,
            "overflow_y": null,
            "padding": null,
            "right": null,
            "top": null,
            "visibility": null,
            "width": null
          }
        },
        "cbf3ec2259c441e6a5574893f4b2efb2": {
          "model_module": "@jupyter-widgets/controls",
          "model_name": "DescriptionStyleModel",
          "model_module_version": "1.5.0",
          "state": {
            "_model_module": "@jupyter-widgets/controls",
            "_model_module_version": "1.5.0",
            "_model_name": "DescriptionStyleModel",
            "_view_count": null,
            "_view_module": "@jupyter-widgets/base",
            "_view_module_version": "1.2.0",
            "_view_name": "StyleView",
            "description_width": ""
          }
        },
        "57ec50d126894a22a16869ae916776a8": {
          "model_module": "@jupyter-widgets/controls",
          "model_name": "HBoxModel",
          "model_module_version": "1.5.0",
          "state": {
            "_dom_classes": [],
            "_model_module": "@jupyter-widgets/controls",
            "_model_module_version": "1.5.0",
            "_model_name": "HBoxModel",
            "_view_count": null,
            "_view_module": "@jupyter-widgets/controls",
            "_view_module_version": "1.5.0",
            "_view_name": "HBoxView",
            "box_style": "",
            "children": [
              "IPY_MODEL_2dca6de654ec4956adf846648e2b185d",
              "IPY_MODEL_d6ee9359c73f47caa91cf51a2cb98712",
              "IPY_MODEL_87cf7c7a475f4a9f97daab7c7f13f55e"
            ],
            "layout": "IPY_MODEL_b10dcd180a27416b984079aa16619d27"
          }
        },
        "2dca6de654ec4956adf846648e2b185d": {
          "model_module": "@jupyter-widgets/controls",
          "model_name": "HTMLModel",
          "model_module_version": "1.5.0",
          "state": {
            "_dom_classes": [],
            "_model_module": "@jupyter-widgets/controls",
            "_model_module_version": "1.5.0",
            "_model_name": "HTMLModel",
            "_view_count": null,
            "_view_module": "@jupyter-widgets/controls",
            "_view_module_version": "1.5.0",
            "_view_name": "HTMLView",
            "description": "",
            "description_tooltip": null,
            "layout": "IPY_MODEL_9cf4d6c6b029491489d611e47d848a5d",
            "placeholder": "​",
            "style": "IPY_MODEL_55409884e5d340cb9464f2333836ff0f",
            "value": "Map: 100%"
          }
        },
        "d6ee9359c73f47caa91cf51a2cb98712": {
          "model_module": "@jupyter-widgets/controls",
          "model_name": "FloatProgressModel",
          "model_module_version": "1.5.0",
          "state": {
            "_dom_classes": [],
            "_model_module": "@jupyter-widgets/controls",
            "_model_module_version": "1.5.0",
            "_model_name": "FloatProgressModel",
            "_view_count": null,
            "_view_module": "@jupyter-widgets/controls",
            "_view_module_version": "1.5.0",
            "_view_name": "ProgressView",
            "bar_style": "success",
            "description": "",
            "description_tooltip": null,
            "layout": "IPY_MODEL_8357d8220b5549049c3751d5df9c3c48",
            "max": 203,
            "min": 0,
            "orientation": "horizontal",
            "style": "IPY_MODEL_1f59cbf170a74904b72f23e0a3b1d72f",
            "value": 203
          }
        },
        "87cf7c7a475f4a9f97daab7c7f13f55e": {
          "model_module": "@jupyter-widgets/controls",
          "model_name": "HTMLModel",
          "model_module_version": "1.5.0",
          "state": {
            "_dom_classes": [],
            "_model_module": "@jupyter-widgets/controls",
            "_model_module_version": "1.5.0",
            "_model_name": "HTMLModel",
            "_view_count": null,
            "_view_module": "@jupyter-widgets/controls",
            "_view_module_version": "1.5.0",
            "_view_name": "HTMLView",
            "description": "",
            "description_tooltip": null,
            "layout": "IPY_MODEL_9d14ce7f593949aabe4f0167acef13b9",
            "placeholder": "​",
            "style": "IPY_MODEL_6434a6f5a67542779172c44e00a7b19d",
            "value": " 203/203 [00:00&lt;00:00, 2170.90 examples/s]"
          }
        },
        "b10dcd180a27416b984079aa16619d27": {
          "model_module": "@jupyter-widgets/base",
          "model_name": "LayoutModel",
          "model_module_version": "1.2.0",
          "state": {
            "_model_module": "@jupyter-widgets/base",
            "_model_module_version": "1.2.0",
            "_model_name": "LayoutModel",
            "_view_count": null,
            "_view_module": "@jupyter-widgets/base",
            "_view_module_version": "1.2.0",
            "_view_name": "LayoutView",
            "align_content": null,
            "align_items": null,
            "align_self": null,
            "border": null,
            "bottom": null,
            "display": null,
            "flex": null,
            "flex_flow": null,
            "grid_area": null,
            "grid_auto_columns": null,
            "grid_auto_flow": null,
            "grid_auto_rows": null,
            "grid_column": null,
            "grid_gap": null,
            "grid_row": null,
            "grid_template_areas": null,
            "grid_template_columns": null,
            "grid_template_rows": null,
            "height": null,
            "justify_content": null,
            "justify_items": null,
            "left": null,
            "margin": null,
            "max_height": null,
            "max_width": null,
            "min_height": null,
            "min_width": null,
            "object_fit": null,
            "object_position": null,
            "order": null,
            "overflow": null,
            "overflow_x": null,
            "overflow_y": null,
            "padding": null,
            "right": null,
            "top": null,
            "visibility": null,
            "width": null
          }
        },
        "9cf4d6c6b029491489d611e47d848a5d": {
          "model_module": "@jupyter-widgets/base",
          "model_name": "LayoutModel",
          "model_module_version": "1.2.0",
          "state": {
            "_model_module": "@jupyter-widgets/base",
            "_model_module_version": "1.2.0",
            "_model_name": "LayoutModel",
            "_view_count": null,
            "_view_module": "@jupyter-widgets/base",
            "_view_module_version": "1.2.0",
            "_view_name": "LayoutView",
            "align_content": null,
            "align_items": null,
            "align_self": null,
            "border": null,
            "bottom": null,
            "display": null,
            "flex": null,
            "flex_flow": null,
            "grid_area": null,
            "grid_auto_columns": null,
            "grid_auto_flow": null,
            "grid_auto_rows": null,
            "grid_column": null,
            "grid_gap": null,
            "grid_row": null,
            "grid_template_areas": null,
            "grid_template_columns": null,
            "grid_template_rows": null,
            "height": null,
            "justify_content": null,
            "justify_items": null,
            "left": null,
            "margin": null,
            "max_height": null,
            "max_width": null,
            "min_height": null,
            "min_width": null,
            "object_fit": null,
            "object_position": null,
            "order": null,
            "overflow": null,
            "overflow_x": null,
            "overflow_y": null,
            "padding": null,
            "right": null,
            "top": null,
            "visibility": null,
            "width": null
          }
        },
        "55409884e5d340cb9464f2333836ff0f": {
          "model_module": "@jupyter-widgets/controls",
          "model_name": "DescriptionStyleModel",
          "model_module_version": "1.5.0",
          "state": {
            "_model_module": "@jupyter-widgets/controls",
            "_model_module_version": "1.5.0",
            "_model_name": "DescriptionStyleModel",
            "_view_count": null,
            "_view_module": "@jupyter-widgets/base",
            "_view_module_version": "1.2.0",
            "_view_name": "StyleView",
            "description_width": ""
          }
        },
        "8357d8220b5549049c3751d5df9c3c48": {
          "model_module": "@jupyter-widgets/base",
          "model_name": "LayoutModel",
          "model_module_version": "1.2.0",
          "state": {
            "_model_module": "@jupyter-widgets/base",
            "_model_module_version": "1.2.0",
            "_model_name": "LayoutModel",
            "_view_count": null,
            "_view_module": "@jupyter-widgets/base",
            "_view_module_version": "1.2.0",
            "_view_name": "LayoutView",
            "align_content": null,
            "align_items": null,
            "align_self": null,
            "border": null,
            "bottom": null,
            "display": null,
            "flex": null,
            "flex_flow": null,
            "grid_area": null,
            "grid_auto_columns": null,
            "grid_auto_flow": null,
            "grid_auto_rows": null,
            "grid_column": null,
            "grid_gap": null,
            "grid_row": null,
            "grid_template_areas": null,
            "grid_template_columns": null,
            "grid_template_rows": null,
            "height": null,
            "justify_content": null,
            "justify_items": null,
            "left": null,
            "margin": null,
            "max_height": null,
            "max_width": null,
            "min_height": null,
            "min_width": null,
            "object_fit": null,
            "object_position": null,
            "order": null,
            "overflow": null,
            "overflow_x": null,
            "overflow_y": null,
            "padding": null,
            "right": null,
            "top": null,
            "visibility": null,
            "width": null
          }
        },
        "1f59cbf170a74904b72f23e0a3b1d72f": {
          "model_module": "@jupyter-widgets/controls",
          "model_name": "ProgressStyleModel",
          "model_module_version": "1.5.0",
          "state": {
            "_model_module": "@jupyter-widgets/controls",
            "_model_module_version": "1.5.0",
            "_model_name": "ProgressStyleModel",
            "_view_count": null,
            "_view_module": "@jupyter-widgets/base",
            "_view_module_version": "1.2.0",
            "_view_name": "StyleView",
            "bar_color": null,
            "description_width": ""
          }
        },
        "9d14ce7f593949aabe4f0167acef13b9": {
          "model_module": "@jupyter-widgets/base",
          "model_name": "LayoutModel",
          "model_module_version": "1.2.0",
          "state": {
            "_model_module": "@jupyter-widgets/base",
            "_model_module_version": "1.2.0",
            "_model_name": "LayoutModel",
            "_view_count": null,
            "_view_module": "@jupyter-widgets/base",
            "_view_module_version": "1.2.0",
            "_view_name": "LayoutView",
            "align_content": null,
            "align_items": null,
            "align_self": null,
            "border": null,
            "bottom": null,
            "display": null,
            "flex": null,
            "flex_flow": null,
            "grid_area": null,
            "grid_auto_columns": null,
            "grid_auto_flow": null,
            "grid_auto_rows": null,
            "grid_column": null,
            "grid_gap": null,
            "grid_row": null,
            "grid_template_areas": null,
            "grid_template_columns": null,
            "grid_template_rows": null,
            "height": null,
            "justify_content": null,
            "justify_items": null,
            "left": null,
            "margin": null,
            "max_height": null,
            "max_width": null,
            "min_height": null,
            "min_width": null,
            "object_fit": null,
            "object_position": null,
            "order": null,
            "overflow": null,
            "overflow_x": null,
            "overflow_y": null,
            "padding": null,
            "right": null,
            "top": null,
            "visibility": null,
            "width": null
          }
        },
        "6434a6f5a67542779172c44e00a7b19d": {
          "model_module": "@jupyter-widgets/controls",
          "model_name": "DescriptionStyleModel",
          "model_module_version": "1.5.0",
          "state": {
            "_model_module": "@jupyter-widgets/controls",
            "_model_module_version": "1.5.0",
            "_model_name": "DescriptionStyleModel",
            "_view_count": null,
            "_view_module": "@jupyter-widgets/base",
            "_view_module_version": "1.2.0",
            "_view_name": "StyleView",
            "description_width": ""
          }
        }
      }
    },
    "accelerator": "GPU"
  },
  "nbformat": 4,
  "nbformat_minor": 0
}